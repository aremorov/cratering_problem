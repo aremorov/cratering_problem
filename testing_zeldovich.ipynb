{
 "cells": [
  {
   "cell_type": "markdown",
   "metadata": {
    "collapsed": true
   },
   "source": [
    "Importing libraries and setting up environment"
   ]
  },
  {
   "cell_type": "code",
   "execution_count": 1,
   "metadata": {},
   "outputs": [],
   "source": [
    "import sympy\n",
    "sympy.init_printing()\n",
    "import numpy\n",
    "import pylab\n",
    "import h5py\n",
    "import scipy.optimize\n",
    "\n"
   ]
  },
  {
   "cell_type": "markdown",
   "metadata": {},
   "source": [
    "# Governing Equations"
   ]
  },
  {
   "cell_type": "markdown",
   "metadata": {},
   "source": [
    "Mass conservation"
   ]
  },
  {
   "cell_type": "code",
   "execution_count": 2,
   "metadata": {},
   "outputs": [
    {
     "data": {
      "image/png": "[encoded data removed]",
      "text/latex": [
       "$\\displaystyle \\rho{\\left(x,t \\right)} \\frac{\\partial}{\\partial x} v{\\left(x,t \\right)} + v{\\left(x,t \\right)} \\frac{\\partial}{\\partial x} \\rho{\\left(x,t \\right)} + \\frac{\\partial}{\\partial t} \\rho{\\left(x,t \\right)} = 0$"
      ],
      "text/plain": [
       "        ∂                     ∂             ∂              \n",
       "ρ(x, t)⋅──(v(x, t)) + v(x, t)⋅──(ρ(x, t)) + ──(ρ(x, t)) = 0\n",
       "        ∂x                    ∂x            ∂t             "
      ]
     },
     "execution_count": 2,
     "metadata": {},
     "output_type": "execute_result"
    }
   ],
   "source": [
    "rho = sympy.Function('rho') # Density\n",
    "v = sympy.Function('v') # Velocity\n",
    "t = sympy.Symbol('t') # Time\n",
    "x = sympy.Symbol('x') # Position\n",
    "mass_conservation = sympy.Eq(sympy.Derivative(rho(x,t), t)+ sympy.Derivative(rho(x,t)*v(x,t),x),0).doit()\n",
    "mass_conservation"
   ]
  },
  {
   "cell_type": "markdown",
   "metadata": {},
   "source": [
    "Momentum conservation"
   ]
  },
  {
   "cell_type": "code",
   "execution_count": 3,
   "metadata": {},
   "outputs": [
    {
     "data": {
      "image/png": "[encoded data removed]",
      "text/latex": [
       "$\\displaystyle v{\\left(x,t \\right)} \\frac{\\partial}{\\partial x} v{\\left(x,t \\right)} + \\frac{\\partial}{\\partial t} v{\\left(x,t \\right)} + \\frac{\\frac{\\partial}{\\partial x} p{\\left(x,t \\right)}}{\\rho{\\left(x,t \\right)}} = 0$"
      ],
      "text/plain": [
       "                                    ∂              \n",
       "                                    ──(p(x, t))    \n",
       "        ∂             ∂             ∂x             \n",
       "v(x, t)⋅──(v(x, t)) + ──(v(x, t)) + ─────────── = 0\n",
       "        ∂x            ∂t              ρ(x, t)      "
      ]
     },
     "execution_count": 3,
     "metadata": {},
     "output_type": "execute_result"
    }
   ],
   "source": [
    "p = sympy.Function('p') # Pressure\n",
    "momentum_conservation = sympy.Eq(sympy.Derivative(v(x,t),t)+v(x,t)*sympy.Derivative(v(x,t),x)+sympy.Derivative(p(x,t),x)/rho(x,t),0).doit()\n",
    "momentum_conservation"
   ]
  },
  {
   "cell_type": "markdown",
   "metadata": {},
   "source": [
    "Entropy conservation"
   ]
  },
  {
   "cell_type": "code",
   "execution_count": 4,
   "metadata": {},
   "outputs": [
    {
     "data": {
      "image/png": "[encoded data removed]",
      "text/latex": [
       "$\\displaystyle v{\\left(x,t \\right)} \\frac{\\partial}{\\partial x} s{\\left(x,t \\right)} + \\frac{\\partial}{\\partial t} s{\\left(x,t \\right)} = 0$"
      ],
      "text/plain": [
       "        ∂             ∂              \n",
       "v(x, t)⋅──(s(x, t)) + ──(s(x, t)) = 0\n",
       "        ∂x            ∂t             "
      ]
     },
     "execution_count": 4,
     "metadata": {},
     "output_type": "execute_result"
    }
   ],
   "source": [
    "s = sympy.Function('s') # Entropy\n",
    "entropy_conservation = sympy.Eq(sympy.Derivative(s(x,t),t)+v(x,t)*sympy.Derivative(s(x,t),x),0).doit()\n",
    "entropy_conservation"
   ]
  },
  {
   "cell_type": "markdown",
   "metadata": {},
   "source": [
    "Equation of state"
   ]
  },
  {
   "cell_type": "code",
   "execution_count": 5,
   "metadata": {},
   "outputs": [
    {
     "data": {
      "image/png": "[encoded data removed]",
      "text/latex": [
       "$\\displaystyle s{\\left(x,t \\right)} = - \\gamma \\log{\\left(\\rho{\\left(x,t \\right)} \\right)} + \\log{\\left(p{\\left(x,t \\right)} \\right)}$"
      ],
      "text/plain": [
       "s(x, t) = -γ⋅log(ρ(x, t)) + log(p(x, t))"
      ]
     },
     "execution_count": 5,
     "metadata": {},
     "output_type": "execute_result"
    }
   ],
   "source": [
    "gamma = sympy.Symbol('gamma') # Adiabatic index\n",
    "eos = sympy.Eq(s(x,t), sympy.log(p(x,t))-gamma*sympy.log(rho(x,t)))\n",
    "eos"
   ]
  },
  {
   "cell_type": "markdown",
   "metadata": {},
   "source": [
    "# Reduction to dimensionless equations"
   ]
  },
  {
   "cell_type": "code",
   "execution_count": 6,
   "metadata": {},
   "outputs": [
    {
     "data": {
      "image/png": "[encoded data removed]",
      "text/latex": [
       "$\\displaystyle \\left[ \\frac{\\rho_{0} \\left(\\chi V{\\left(\\chi \\right)} \\frac{d}{d \\chi} D{\\left(\\chi \\right)} - \\chi \\frac{d}{d \\chi} D{\\left(\\chi \\right)} + \\left(\\chi \\frac{d}{d \\chi} V{\\left(\\chi \\right)} + V{\\left(\\chi \\right)}\\right) D{\\left(\\chi \\right)}\\right) \\frac{d}{d t} X{\\left(t \\right)}}{X{\\left(t \\right)}} = 0, \\  \\frac{\\chi \\left(\\delta \\gamma D{\\left(\\chi \\right)} V{\\left(\\chi \\right)} \\left(\\frac{d}{d t} X{\\left(t \\right)}\\right)^{2} + \\gamma \\left(- \\chi \\frac{d}{d \\chi} V{\\left(\\chi \\right)} + \\left(\\chi \\frac{d}{d \\chi} V{\\left(\\chi \\right)} + V{\\left(\\chi \\right)}\\right) V{\\left(\\chi \\right)} - V{\\left(\\chi \\right)}\\right) D{\\left(\\chi \\right)} \\left(\\frac{d}{d t} X{\\left(t \\right)}\\right)^{2} + \\left(\\chi C{\\left(\\chi \\right)} \\frac{d}{d \\chi} D{\\left(\\chi \\right)} + 2 \\chi D{\\left(\\chi \\right)} \\frac{d}{d \\chi} C{\\left(\\chi \\right)} + 2 C{\\left(\\chi \\right)} D{\\left(\\chi \\right)}\\right) C{\\left(\\chi \\right)} \\left(\\frac{d}{d t} X{\\left(t \\right)}\\right)^{2}\\right)}{\\gamma D{\\left(\\chi \\right)} X{\\left(t \\right)}} = 0, \\  \\frac{\\chi \\gamma C{\\left(\\chi \\right)} \\frac{d}{d \\chi} D{\\left(\\chi \\right)} \\left(\\frac{d}{d t} X{\\left(t \\right)}\\right)^{2} + 2 \\delta C{\\left(\\chi \\right)} D{\\left(\\chi \\right)} \\left(\\frac{d}{d t} X{\\left(t \\right)}\\right)^{2} - \\left(\\chi C{\\left(\\chi \\right)} \\frac{d}{d \\chi} D{\\left(\\chi \\right)} + 2 \\chi D{\\left(\\chi \\right)} \\frac{d}{d \\chi} C{\\left(\\chi \\right)} + 2 C{\\left(\\chi \\right)} D{\\left(\\chi \\right)}\\right) \\left(\\frac{d}{d t} X{\\left(t \\right)}\\right)^{2} - \\left(\\chi \\gamma C{\\left(\\chi \\right)} \\frac{d}{d \\chi} D{\\left(\\chi \\right)} - \\chi C{\\left(\\chi \\right)} \\frac{d}{d \\chi} D{\\left(\\chi \\right)} - 2 \\chi D{\\left(\\chi \\right)} \\frac{d}{d \\chi} C{\\left(\\chi \\right)} - 2 C{\\left(\\chi \\right)} D{\\left(\\chi \\right)}\\right) V{\\left(\\chi \\right)} \\left(\\frac{d}{d t} X{\\left(t \\right)}\\right)^{2}}{C{\\left(\\chi \\right)} D{\\left(\\chi \\right)} X{\\left(t \\right)} \\frac{d}{d t} X{\\left(t \\right)}} = 0\\right]$"
      ],
      "text/plain": [
       "⎡                                                                             \n",
       "⎢   ⎛       d            d          ⎛  d              ⎞     ⎞ d               \n",
       "⎢ρ₀⋅⎜χ⋅V(χ)⋅──(D(χ)) - χ⋅──(D(χ)) + ⎜χ⋅──(V(χ)) + V(χ)⎟⋅D(χ)⎟⋅──(X(t))      χ⋅\n",
       "⎢   ⎝       dχ           dχ         ⎝  dχ             ⎠     ⎠ dt              \n",
       "⎢───────────────────────────────────────────────────────────────────── = 0, ──\n",
       "⎢                                 X(t)                                        \n",
       "⎢                                                                             \n",
       "⎣                                                                             \n",
       "\n",
       "⎛                        2                                                    \n",
       "⎜              ⎛d       ⎞      ⎛    d          ⎛  d              ⎞            \n",
       "⎜δ⋅γ⋅D(χ)⋅V(χ)⋅⎜──(X(t))⎟  + γ⋅⎜- χ⋅──(V(χ)) + ⎜χ⋅──(V(χ)) + V(χ)⎟⋅V(χ) - V(χ)\n",
       "⎝              ⎝dt      ⎠      ⎝    dχ         ⎝  dχ             ⎠            \n",
       "──────────────────────────────────────────────────────────────────────────────\n",
       "                                                                             γ\n",
       "                                                                              \n",
       "                                                                              \n",
       "\n",
       "                 2                                                            \n",
       "⎞      ⎛d       ⎞    ⎛       d                   d                     ⎞      \n",
       "⎟⋅D(χ)⋅⎜──(X(t))⎟  + ⎜χ⋅C(χ)⋅──(D(χ)) + 2⋅χ⋅D(χ)⋅──(C(χ)) + 2⋅C(χ)⋅D(χ)⎟⋅C(χ)⋅\n",
       "⎠      ⎝dt      ⎠    ⎝       dχ                  dχ                    ⎠      \n",
       "──────────────────────────────────────────────────────────────────────────────\n",
       "⋅D(χ)⋅X(t)                                                                    \n",
       "                                                                              \n",
       "                                                                              \n",
       "\n",
       "          2⎞                                  2                           2   \n",
       "⎛d       ⎞ ⎟               d        ⎛d       ⎞                  ⎛d       ⎞    \n",
       "⎜──(X(t))⎟ ⎟      χ⋅γ⋅C(χ)⋅──(D(χ))⋅⎜──(X(t))⎟  + 2⋅δ⋅C(χ)⋅D(χ)⋅⎜──(X(t))⎟  - \n",
       "⎝dt      ⎠ ⎠               dχ       ⎝dt      ⎠                  ⎝dt      ⎠    \n",
       "──────────── = 0, ────────────────────────────────────────────────────────────\n",
       "                                                                              \n",
       "                                                                              \n",
       "                                                                              \n",
       "\n",
       "                                                              2               \n",
       "⎛       d                   d                     ⎞ ⎛d       ⎞    ⎛         d \n",
       "⎜χ⋅C(χ)⋅──(D(χ)) + 2⋅χ⋅D(χ)⋅──(C(χ)) + 2⋅C(χ)⋅D(χ)⎟⋅⎜──(X(t))⎟  - ⎜χ⋅γ⋅C(χ)⋅──\n",
       "⎝       dχ                  dχ                    ⎠ ⎝dt      ⎠    ⎝         dχ\n",
       "──────────────────────────────────────────────────────────────────────────────\n",
       "                                                  d                           \n",
       "                                   C(χ)⋅D(χ)⋅X(t)⋅──(X(t))                    \n",
       "                                                  dt                          \n",
       "\n",
       "                                                                           2  \n",
       "                d                   d                     ⎞      ⎛d       ⎞   \n",
       "(D(χ)) - χ⋅C(χ)⋅──(D(χ)) - 2⋅χ⋅D(χ)⋅──(C(χ)) - 2⋅C(χ)⋅D(χ)⎟⋅V(χ)⋅⎜──(X(t))⎟   \n",
       "                dχ                  dχ                    ⎠      ⎝dt      ⎠   \n",
       "──────────────────────────────────────────────────────────────────────────── =\n",
       "                                                                              \n",
       "                                                                              \n",
       "                                                                              \n",
       "\n",
       "  ⎤\n",
       "  ⎥\n",
       "  ⎥\n",
       "  ⎥\n",
       " 0⎥\n",
       "  ⎥\n",
       "  ⎥\n",
       "  ⎦"
      ]
     },
     "execution_count": 6,
     "metadata": {},
     "output_type": "execute_result"
    }
   ],
   "source": [
    "D = sympy.Function('D') # Dimensionless density\n",
    "rho_0 = sympy.Symbol('rho_0', positive=True) # Upstream density\n",
    "X = sympy.Function('X') # Position of the shock front\n",
    "c = sympy.Function('c') # Speed of sound\n",
    "V = sympy.Function('V') # Dimensionless velocity\n",
    "C = sympy.Function('C') # Dimensionless speed of sound \n",
    "chi = sympy.Symbol('chi') # Dimensionless position\n",
    "delta = sympy.Symbol('delta') # Shock velocity position power law index\n",
    "temp = [mass_conservation, momentum_conservation, entropy_conservation.subs(eos.lhs,eos.rhs).doit()]\n",
    "temp = [itm.subs(p(x,t), rho(x,t)*c(x,t)**2/gamma) for itm in temp]\n",
    "temp = [itm.subs(rho(x,t), rho_0*D(x/X(t))) for itm in temp]\n",
    "temp = [itm.subs(v(x,t), X(t).diff(t)*V(x/X(t))*x/X(t)) for itm in temp]\n",
    "temp = [itm.subs(c(x,t), X(t).diff(t)*C(x/X(t))*x/X(t)) for itm in temp]\n",
    "temp = [itm.subs(x, chi*X(t)) for itm in temp]\n",
    "temp = [itm.doit() for itm in temp]\n",
    "temp = [itm.simplify() for itm in temp]\n",
    "temp = [itm.doit() for itm in temp]\n",
    "temp = [itm.subs(X(t).diff(t,2), delta*X(t).diff(t)**2/X(t)) for itm in temp]\n",
    "dimensionless_equation = temp\n",
    "dimensionless_equation"
   ]
  },
  {
   "cell_type": "markdown",
   "metadata": {},
   "source": [
    "solving for the derivatives"
   ]
  },
  {
   "cell_type": "code",
   "execution_count": 7,
   "metadata": {},
   "outputs": [
    {
     "data": {
      "image/png": "[encoded data removed]",
      "text/latex": [
       "$\\displaystyle \\left\\{ \\frac{d}{d \\chi} C{\\left(\\chi \\right)} : \\frac{\\left(\\gamma \\left(V{\\left(\\chi \\right)} - 1\\right) \\left(\\gamma V{\\left(\\chi \\right)} - \\gamma - V{\\left(\\chi \\right)} + 1\\right) V{\\left(\\chi \\right)} - 2 \\left(- \\gamma \\left(V{\\left(\\chi \\right)} - 1\\right)^{2} + C^{2}{\\left(\\chi \\right)}\\right) \\left(\\delta + V{\\left(\\chi \\right)} - 1\\right) - \\left(\\gamma V{\\left(\\chi \\right)} - \\gamma - V{\\left(\\chi \\right)} + 1\\right) \\left(\\delta \\gamma V{\\left(\\chi \\right)} + \\gamma V^{2}{\\left(\\chi \\right)} - \\gamma V{\\left(\\chi \\right)} + 2 C^{2}{\\left(\\chi \\right)}\\right)\\right) C{\\left(\\chi \\right)}}{2 \\chi \\left(- \\gamma \\left(V{\\left(\\chi \\right)} - 1\\right)^{3} + \\left(V{\\left(\\chi \\right)} - 1\\right) C^{2}{\\left(\\chi \\right)} + \\left(\\gamma V{\\left(\\chi \\right)} - \\gamma - V{\\left(\\chi \\right)} + 1\\right) C^{2}{\\left(\\chi \\right)}\\right)}, \\  \\frac{d}{d \\chi} D{\\left(\\chi \\right)} : \\frac{\\delta \\left(- \\gamma V^{2}{\\left(\\chi \\right)} + \\gamma V{\\left(\\chi \\right)} + 2 C^{2}{\\left(\\chi \\right)}\\right) D{\\left(\\chi \\right)}}{\\chi \\gamma \\left(C^{2}{\\left(\\chi \\right)} V{\\left(\\chi \\right)} - C^{2}{\\left(\\chi \\right)} - V^{3}{\\left(\\chi \\right)} + 3 V^{2}{\\left(\\chi \\right)} - 3 V{\\left(\\chi \\right)} + 1\\right)}, \\  \\frac{d}{d \\chi} V{\\left(\\chi \\right)} : \\frac{\\delta \\gamma V^{2}{\\left(\\chi \\right)} - \\delta \\gamma V{\\left(\\chi \\right)} - 2 \\delta C^{2}{\\left(\\chi \\right)} - \\gamma C^{2}{\\left(\\chi \\right)} V{\\left(\\chi \\right)} + \\gamma V^{3}{\\left(\\chi \\right)} - 2 \\gamma V^{2}{\\left(\\chi \\right)} + \\gamma V{\\left(\\chi \\right)}}{\\chi \\gamma \\left(C^{2}{\\left(\\chi \\right)} - V^{2}{\\left(\\chi \\right)} + 2 V{\\left(\\chi \\right)} - 1\\right)}\\right\\}$"
      ],
      "text/plain": [
       "⎧          ⎛                                              ⎛              2    \n",
       "⎪d         ⎝γ⋅(V(χ) - 1)⋅(γ⋅V(χ) - γ - V(χ) + 1)⋅V(χ) - 2⋅⎝- γ⋅(V(χ) - 1)  + C\n",
       "⎨──(C(χ)): ───────────────────────────────────────────────────────────────────\n",
       "⎪dχ                                                        ⎛              3   \n",
       "⎩                                                      2⋅χ⋅⎝- γ⋅(V(χ) - 1)  + \n",
       "\n",
       "2   ⎞                                          ⎛              2               \n",
       " (χ)⎠⋅(δ + V(χ) - 1) - (γ⋅V(χ) - γ - V(χ) + 1)⋅⎝δ⋅γ⋅V(χ) + γ⋅V (χ) - γ⋅V(χ) + \n",
       "──────────────────────────────────────────────────────────────────────────────\n",
       "            2                               2   ⎞                             \n",
       "(V(χ) - 1)⋅C (χ) + (γ⋅V(χ) - γ - V(χ) + 1)⋅C (χ)⎠                             \n",
       "\n",
       "   2   ⎞⎞                            ⎛     2                  2   ⎞           \n",
       "2⋅C (χ)⎠⎠⋅C(χ)  d                  δ⋅⎝- γ⋅V (χ) + γ⋅V(χ) + 2⋅C (χ)⎠⋅D(χ)      \n",
       "──────────────, ──(D(χ)): ────────────────────────────────────────────────────\n",
       "                dχ            ⎛ 2            2       3         2              \n",
       "                          χ⋅γ⋅⎝C (χ)⋅V(χ) - C (χ) - V (χ) + 3⋅V (χ) - 3⋅V(χ) +\n",
       "\n",
       "                    2                      2         2              3         \n",
       "     d         δ⋅γ⋅V (χ) - δ⋅γ⋅V(χ) - 2⋅δ⋅C (χ) - γ⋅C (χ)⋅V(χ) + γ⋅V (χ) - 2⋅γ\n",
       "───, ──(V(χ)): ───────────────────────────────────────────────────────────────\n",
       "  ⎞  dχ                                   ⎛ 2       2                ⎞        \n",
       " 1⎠                                   χ⋅γ⋅⎝C (χ) - V (χ) + 2⋅V(χ) - 1⎠        \n",
       "\n",
       "  2            ⎫\n",
       "⋅V (χ) + γ⋅V(χ)⎪\n",
       "───────────────⎬\n",
       "               ⎪\n",
       "               ⎭"
      ]
     },
     "execution_count": 7,
     "metadata": {},
     "output_type": "execute_result"
    }
   ],
   "source": [
    "dimles_derivatives = sympy.solve(dimensionless_equation, [v(chi).diff(chi) for v in [D,C,V]])\n",
    "dimles_derivatives"
   ]
  },
  {
   "cell_type": "markdown",
   "metadata": {},
   "source": [
    "Safe places to cross the sonic line"
   ]
  },
  {
   "cell_type": "code",
   "execution_count": 8,
   "metadata": {},
   "outputs": [
    {
     "data": {
      "image/png": "[encoded data removed]",
      "text/latex": [
       "$\\displaystyle \\left[ \\delta \\left(\\gamma V^{2}{\\left(\\chi \\right)} - \\gamma V{\\left(\\chi \\right)} - 2 V^{2}{\\left(\\chi \\right)} + 4 V{\\left(\\chi \\right)} - 2\\right), \\  \\left[ 1, \\  - \\frac{2}{\\gamma - 2}\\right]\\right]$"
      ],
      "text/plain": [
       "⎡  ⎛   2                  2                ⎞  ⎡    -2  ⎤⎤\n",
       "⎢δ⋅⎝γ⋅V (χ) - γ⋅V(χ) - 2⋅V (χ) + 4⋅V(χ) - 2⎠, ⎢1, ─────⎥⎥\n",
       "⎣                                             ⎣   γ - 2⎦⎦"
      ]
     },
     "execution_count": 8,
     "metadata": {},
     "output_type": "execute_result"
    }
   ],
   "source": [
    "temp = V(chi).diff(chi).subs(dimles_derivatives)\n",
    "temp = sympy.fraction(temp)[0]\n",
    "temp = temp.subs(C(chi), 1-V(chi)).simplify()\n",
    "[temp, sympy.solve(temp, V(chi))]"
   ]
  },
  {
   "cell_type": "markdown",
   "metadata": {},
   "source": [
    "It is possible to reduce these ODEs in $\\chi$ to just one ode of $C$ vs $V$"
   ]
  },
  {
   "cell_type": "code",
   "execution_count": 9,
   "metadata": {},
   "outputs": [
    {
     "data": {
      "image/png": "[encoded data removed]",
      "text/latex": [
       "$\\displaystyle \\frac{\\tilde{C} \\gamma \\left(- \\tilde{V} \\gamma \\left(\\tilde{V} - 1\\right) \\left(\\tilde{V} \\gamma - \\tilde{V} - \\gamma + 1\\right) + 2 \\left(\\tilde{C}^{2} - \\gamma \\left(\\tilde{V} - 1\\right)^{2}\\right) \\left(\\tilde{V} + \\delta - 1\\right) + \\left(2 \\tilde{C}^{2} + \\tilde{V}^{2} \\gamma + \\tilde{V} \\delta \\gamma - \\tilde{V} \\gamma\\right) \\left(\\tilde{V} \\gamma - \\tilde{V} - \\gamma + 1\\right)\\right) \\left(\\tilde{C}^{2} - \\tilde{V}^{2} + 2 \\tilde{V} - 1\\right)}{2 \\left(\\tilde{C}^{2} \\left(\\tilde{V} - 1\\right) + \\tilde{C}^{2} \\left(\\tilde{V} \\gamma - \\tilde{V} - \\gamma + 1\\right) - \\gamma \\left(\\tilde{V} - 1\\right)^{3}\\right) \\left(\\tilde{C}^{2} \\tilde{V} \\gamma + 2 \\tilde{C}^{2} \\delta - \\tilde{V}^{3} \\gamma - \\tilde{V}^{2} \\delta \\gamma + 2 \\tilde{V}^{2} \\gamma + \\tilde{V} \\delta \\gamma - \\tilde{V} \\gamma\\right)}$"
      ],
      "text/plain": [
       "            ⎛                                                                 \n",
       "\\tilde{C}⋅γ⋅⎝-\\tilde{V}⋅γ⋅(\\tilde{V} - 1)⋅(\\tilde{V}⋅γ - \\tilde{V} - γ + 1) + \n",
       "──────────────────────────────────────────────────────────────────────────────\n",
       "                             ⎛         2                            2         \n",
       "                           2⋅⎝\\tilde{C} ⋅(\\tilde{V} - 1) + \\tilde{C} ⋅(\\tilde{\n",
       "\n",
       "  ⎛         2                    2⎞                       ⎛           2       \n",
       "2⋅⎝\\tilde{C}  - γ⋅(\\tilde{V} - 1) ⎠⋅(\\tilde{V} + δ - 1) + ⎝2⋅\\tilde{C}  + \\til\n",
       "──────────────────────────────────────────────────────────────────────────────\n",
       "                                             3⎞ ⎛         2                   \n",
       "V}⋅γ - \\tilde{V} - γ + 1) - γ⋅(\\tilde{V} - 1) ⎠⋅⎝\\tilde{C} ⋅\\tilde{V}⋅γ + 2⋅\\t\n",
       "\n",
       "     2                                ⎞                                  ⎞ ⎛  \n",
       "de{V} ⋅γ + \\tilde{V}⋅δ⋅γ - \\tilde{V}⋅γ⎠⋅(\\tilde{V}⋅γ - \\tilde{V} - γ + 1)⎠⋅⎝\\t\n",
       "──────────────────────────────────────────────────────────────────────────────\n",
       "       2              3              2                  2                     \n",
       "ilde{C} ⋅δ - \\tilde{V} ⋅γ - \\tilde{V} ⋅δ⋅γ + 2⋅\\tilde{V} ⋅γ + \\tilde{V}⋅δ⋅γ - \n",
       "\n",
       "       2            2                  ⎞\n",
       "ilde{C}  - \\tilde{V}  + 2⋅\\tilde{V} - 1⎠\n",
       "────────────────────────────────────────\n",
       "           ⎞                            \n",
       "\\tilde{V}⋅γ⎠                            "
      ]
     },
     "execution_count": 9,
     "metadata": {},
     "output_type": "execute_result"
    }
   ],
   "source": [
    "V_tilde = sympy.Symbol(r'\\tilde{V}')\n",
    "C_tilde = sympy.Symbol(r'\\tilde{C}')\n",
    "temp = C(chi).diff(chi)/V(chi).diff(chi)\n",
    "temp = temp.subs(dimles_derivatives)\n",
    "temp = temp.subs(V(chi), V_tilde)\n",
    "temp = temp.subs(C(chi), C_tilde)\n",
    "temp = temp.simplify()\n",
    "dCdV = temp\n",
    "dCdV\n"
   ]
  },
  {
   "cell_type": "markdown",
   "metadata": {},
   "source": [
    "Checking dC/dV at sonic for gamma = 7/5 case:"
   ]
  },
  {
   "cell_type": "code",
   "execution_count": 10,
   "metadata": {},
   "outputs": [
    {
     "data": {
      "image/png": "[encoded data removed]",
      "text/latex": [
       "$\\displaystyle -1.19999998142841$"
      ],
      "text/plain": [
       "-1.19999998142841"
      ]
     },
     "execution_count": 10,
     "metadata": {},
     "output_type": "execute_result"
    }
   ],
   "source": [
    "dVs = sympy.Symbol('dVs') #special difference variable, delta V_sonic\n",
    "alpha = sympy.Symbol('alpha') #slope of dCdv\n",
    "temp  = dCdV.subs(V_tilde, dVs + 2/(2-gamma)).subs(C_tilde, alpha*dVs - gamma/(2-gamma))\n",
    "temp = temp.subs(dVs, 1e-6).subs(delta, -2./3.).subs(gamma, 7./5.)\n",
    "slope_solve = sympy.solve(temp - alpha, alpha)\n",
    "slope_solve[0] #great!"
   ]
  },
  {
   "cell_type": "markdown",
   "metadata": {},
   "source": [
    "Checking dC/dV at sonic for gamma = 5/3 case:"
   ]
  },
  {
   "cell_type": "code",
   "execution_count": 11,
   "metadata": {},
   "outputs": [
    {
     "data": {
      "image/png": "[encoded data removed]",
      "text/latex": [
       "$\\displaystyle -1.07986522332374$"
      ],
      "text/plain": [
       "-1.07986522332374"
      ]
     },
     "execution_count": 11,
     "metadata": {},
     "output_type": "execute_result"
    }
   ],
   "source": [
    "dVs = sympy.Symbol('dVs') #special difference variable, delta V_sonic\n",
    "alpha = sympy.Symbol('alpha') #slope of dCdv\n",
    "temp  = dCdV.subs(V_tilde, dVs + 2/(2-gamma)).subs(C_tilde, alpha*dVs - gamma/(2-gamma))\n",
    "temp = temp.subs(dVs, 1e-6).subs(delta, -0.6).subs(gamma, 5./3.)\n",
    "slope_solve = sympy.solve(temp - alpha, alpha)\n",
    "slope_solve[0] #great!"
   ]
  },
  {
   "cell_type": "markdown",
   "metadata": {},
   "source": [
    "Obtaining the dV/dchi for 7/5 case:"
   ]
  },
  {
   "cell_type": "code",
   "execution_count": 12,
   "metadata": {},
   "outputs": [
    {
     "name": "stdout",
     "output_type": "stream",
     "text": [
      "General v-tilde derivexpression\n"
     ]
    },
    {
     "data": {
      "image/png": "[encoded data removed]",
      "text/latex": [
       "$\\displaystyle \\frac{\\delta \\gamma V^{2}{\\left(\\chi \\right)} - \\delta \\gamma V{\\left(\\chi \\right)} - 2 \\delta C^{2}{\\left(\\chi \\right)} - \\gamma C^{2}{\\left(\\chi \\right)} V{\\left(\\chi \\right)} + \\gamma V^{3}{\\left(\\chi \\right)} - 2 \\gamma V^{2}{\\left(\\chi \\right)} + \\gamma V{\\left(\\chi \\right)}}{\\chi \\gamma \\left(C^{2}{\\left(\\chi \\right)} - V^{2}{\\left(\\chi \\right)} + 2 V{\\left(\\chi \\right)} - 1\\right)}$"
      ],
      "text/plain": [
       "     2                      2         2              3           2            \n",
       "δ⋅γ⋅V (χ) - δ⋅γ⋅V(χ) - 2⋅δ⋅C (χ) - γ⋅C (χ)⋅V(χ) + γ⋅V (χ) - 2⋅γ⋅V (χ) + γ⋅V(χ)\n",
       "──────────────────────────────────────────────────────────────────────────────\n",
       "                           ⎛ 2       2                ⎞                       \n",
       "                       χ⋅γ⋅⎝C (χ) - V (χ) + 2⋅V(χ) - 1⎠                       "
      ]
     },
     "metadata": {},
     "output_type": "display_data"
    },
    {
     "data": {
      "image/png": "[encoded data removed]",
      "text/latex": [
       "$\\displaystyle 3.33333333333333$"
      ],
      "text/plain": [
       "3.33333333333333"
      ]
     },
     "execution_count": 12,
     "metadata": {},
     "output_type": "execute_result"
    }
   ],
   "source": [
    "temp = dimles_derivatives[V(chi).diff(chi)]\n",
    "print(\"General v-tilde derivexpression\")\n",
    "display(temp)\n",
    "\n",
    "temp = temp.subs(delta, -2./3.)\n",
    "temp = temp.subs(gamma, 7./5.)\n",
    "temp = temp.subs(V(chi), (5.*chi/3. - 5./6.)/chi)\n",
    "temp = temp.subs(C(chi), (sympy.sqrt(7)*sympy.sqrt(5 - 4*chi))/(6*chi))\n",
    "temp1 = temp.nsimplify().simplify().subs(chi, -1./2.)\n",
    "temp1 #seems to be correct!!! now check c..."
   ]
  },
  {
   "cell_type": "markdown",
   "metadata": {},
   "source": [
    "Obtaining the dC/dchi for 7/5 case:"
   ]
  },
  {
   "cell_type": "code",
   "execution_count": 13,
   "metadata": {},
   "outputs": [
    {
     "name": "stdout",
     "output_type": "stream",
     "text": [
      "C-tilde deriv:\n"
     ]
    },
    {
     "data": {
      "image/png": "[encoded data removed]",
      "text/latex": [
       "$\\displaystyle - 1.51185789203691 \\sqrt{7}$"
      ],
      "text/plain": [
       "-1.51185789203691⋅√7"
      ]
     },
     "metadata": {},
     "output_type": "display_data"
    }
   ],
   "source": [
    "temp = dimles_derivatives[C(chi).diff(chi)]\n",
    "#print(\"General c-tilde deriv expression\")\n",
    "#display(temp)\n",
    "\n",
    "temp = temp.subs(delta, -2./3.)\n",
    "temp = temp.subs(gamma, 7./5.)\n",
    "temp = temp.subs(V(chi), (5.*chi/3. - 5./6.)/chi)\n",
    "temp = temp.subs(C(chi), (sympy.sqrt(7)*sympy.sqrt(5 - 4*chi))/(6*chi))\n",
    "temp2 = temp.nsimplify().simplify().subs(chi, -1./2.)\n",
    "temp2 #yep, c is also right, these are the correct functions.\n",
    "print(\"C-tilde deriv:\")\n",
    "display(temp2)\n",
    "#print(\"dcdv:\")\n",
    "#temp2/temp1"
   ]
  },
  {
   "cell_type": "markdown",
   "metadata": {},
   "source": [
    "Sanity check"
   ]
  },
  {
   "cell_type": "code",
   "execution_count": 14,
   "metadata": {},
   "outputs": [
    {
     "data": {
      "image/png": "[encoded data removed]",
      "text/latex": [
       "$\\displaystyle 1$"
      ],
      "text/plain": [
       "1"
      ]
     },
     "execution_count": 14,
     "metadata": {},
     "output_type": "execute_result"
    }
   ],
   "source": [
    "temp = sympy.sqrt(sympy.Rational(1,2)*gamma*(gamma-1)*(1-V_tilde)*V_tilde**2/(gamma*V_tilde-1))\n",
    "temp = dCdV.subs(C_tilde,temp)/temp.diff(V_tilde)\n",
    "temp = temp.subs(delta,sympy.Rational(-1,2))\n",
    "temp.simplify()"
   ]
  },
  {
   "cell_type": "markdown",
   "metadata": {},
   "source": [
    "Slope at the safe sonic point crossing"
   ]
  },
  {
   "cell_type": "code",
   "execution_count": 15,
   "metadata": {},
   "outputs": [
    {
     "data": {
      "image/png": "[encoded data removed]",
      "text/latex": [
       "$\\displaystyle - \\frac{\\delta \\gamma^{2} + 2 \\delta \\gamma - 8 \\delta - 2 \\gamma^{2} - \\gamma \\sqrt{9 \\delta^{2} \\gamma^{2} - 16 \\delta^{2} \\gamma - 12 \\delta \\gamma^{2} + 8 \\delta \\gamma + 4 \\gamma^{2}} - 4 \\gamma + 2 \\sqrt{9 \\delta^{2} \\gamma^{2} - 16 \\delta^{2} \\gamma - 12 \\delta \\gamma^{2} + 8 \\delta \\gamma + 4 \\gamma^{2}}}{8 \\delta \\gamma - 16 \\delta - 8 \\gamma}$"
      ],
      "text/plain": [
       " ⎛                                 ___________________________________________\n",
       " ⎜   2                    2       ╱    2  2       2           2              2\n",
       "-⎝δ⋅γ  + 2⋅δ⋅γ - 8⋅δ - 2⋅γ  - γ⋅╲╱  9⋅δ ⋅γ  - 16⋅δ ⋅γ - 12⋅δ⋅γ  + 8⋅δ⋅γ + 4⋅γ \n",
       "──────────────────────────────────────────────────────────────────────────────\n",
       "                                                             8⋅δ⋅γ - 16⋅δ - 8⋅\n",
       "\n",
       "_              ____________________________________________⎞ \n",
       "              ╱    2  2       2           2              2 ⎟ \n",
       "  - 4⋅γ + 2⋅╲╱  9⋅δ ⋅γ  - 16⋅δ ⋅γ - 12⋅δ⋅γ  + 8⋅δ⋅γ + 4⋅γ  ⎠ \n",
       "─────────────────────────────────────────────────────────────\n",
       "γ                                                            "
      ]
     },
     "execution_count": 15,
     "metadata": {},
     "output_type": "execute_result"
    }
   ],
   "source": [
    "alpha = sympy.Symbol('alpha', positive=True) # Slope\n",
    "DeltaV = sympy.Symbol(r'\\Delta V', positive=True)\n",
    "temp = dCdV.subs(C_tilde,1-(2/(2-gamma))+alpha*DeltaV)\n",
    "temp = temp.subs(V_tilde, 2/(2-gamma)+DeltaV)\n",
    "temp = sympy.fraction(temp)\n",
    "temp = [sympy.diff(temp[0],DeltaV,2).subs(DeltaV,0).simplify(),\n",
    "        sympy.diff(temp[1],DeltaV,2).subs(DeltaV,0).simplify()]\n",
    "temp = temp[0]/temp[1]\n",
    "sonic_line_slope = sympy.solve(alpha-temp,alpha)[0]\n",
    "sonic_line_slope\n"
   ]
  },
  {
   "cell_type": "markdown",
   "metadata": {},
   "source": [
    "Boundary conditions at the shock front"
   ]
  },
  {
   "cell_type": "code",
   "execution_count": 16,
   "metadata": {},
   "outputs": [
    {
     "data": {
      "image/png": "[encoded data removed]",
      "text/latex": [
       "$\\displaystyle \\frac{2}{\\gamma + 1}$"
      ],
      "text/plain": [
       "  2  \n",
       "─────\n",
       "γ + 1"
      ]
     },
     "execution_count": 16,
     "metadata": {},
     "output_type": "execute_result"
    }
   ],
   "source": [
    "V_shock_front = 2/(gamma+1)\n",
    "V_shock_front"
   ]
  },
  {
   "cell_type": "code",
   "execution_count": 17,
   "metadata": {},
   "outputs": [
    {
     "data": {
      "image/png": "[encoded data removed]",
      "text/latex": [
       "$\\displaystyle \\frac{\\sqrt{2} \\sqrt{\\gamma \\left(\\gamma - 1\\right)}}{\\gamma + 1}$"
      ],
      "text/plain": [
       "     ___________\n",
       "√2⋅╲╱ γ⋅(γ - 1) \n",
       "────────────────\n",
       "     γ + 1      "
      ]
     },
     "execution_count": 17,
     "metadata": {},
     "output_type": "execute_result"
    }
   ],
   "source": [
    "C_shock_front = sympy.sqrt(2*gamma*(gamma-1))/(gamma+1)\n",
    "C_shock_front"
   ]
  },
  {
   "cell_type": "markdown",
   "metadata": {},
   "source": [
    "# Shooting method"
   ]
  },
  {
   "cell_type": "code",
   "execution_count": 18,
   "metadata": {},
   "outputs": [
    {
     "data": {
      "image/png": "[encoded data removed]",
      "text/latex": [
       "$\\displaystyle \\frac{0.7 \\tilde{C} \\left(- 1.4 \\tilde{V} \\left(0.4 \\tilde{V} - 0.4\\right) \\left(\\tilde{V} - 1\\right) + 2 \\left(\\tilde{C}^{2} - 1.4 \\left(\\tilde{V} - 1\\right)^{2}\\right) \\left(\\tilde{V} - 1.66666666666667\\right) + \\left(0.4 \\tilde{V} - 0.4\\right) \\left(2 \\tilde{C}^{2} + 1.4 \\tilde{V}^{2} - 2.33333333333333 \\tilde{V}\\right)\\right) \\left(\\tilde{C}^{2} - \\tilde{V}^{2} + 2 \\tilde{V} - 1\\right)}{\\left(\\tilde{C}^{2} \\left(0.4 \\tilde{V} - 0.4\\right) + \\tilde{C}^{2} \\left(\\tilde{V} - 1\\right) - 1.4 \\left(\\tilde{V} - 1\\right)^{3}\\right) \\left(1.4 \\tilde{C}^{2} \\tilde{V} - 1.33333333333333 \\tilde{C}^{2} - 1.4 \\tilde{V}^{3} + 3.73333333333333 \\tilde{V}^{2} - 2.33333333333333 \\tilde{V}\\right)}$"
      ],
      "text/plain": [
       "              ⎛                                                         ⎛     \n",
       "0.7⋅\\tilde{C}⋅⎝-1.4⋅\\tilde{V}⋅(0.4⋅\\tilde{V} - 0.4)⋅(\\tilde{V} - 1) + 2⋅⎝\\tild\n",
       "──────────────────────────────────────────────────────────────────────────────\n",
       "                        ⎛         2                                  2        \n",
       "                        ⎝\\tilde{C} ⋅(0.4⋅\\tilde{V} - 0.4) + \\tilde{C} ⋅(\\tilde\n",
       "\n",
       "    2                      2⎞                                                 \n",
       "e{C}  - 1.4⋅(\\tilde{V} - 1) ⎠⋅(\\tilde{V} - 1.66666666666667) + (0.4⋅\\tilde{V} \n",
       "──────────────────────────────────────────────────────────────────────────────\n",
       "                              3⎞ ⎛             2                              \n",
       "{V} - 1) - 1.4⋅(\\tilde{V} - 1) ⎠⋅⎝1.4⋅\\tilde{C} ⋅\\tilde{V} - 1.33333333333333⋅\n",
       "\n",
       "       ⎛           2                2                             ⎞⎞ ⎛        \n",
       "- 0.4)⋅⎝2⋅\\tilde{C}  + 1.4⋅\\tilde{V}  - 2.33333333333333⋅\\tilde{V}⎠⎠⋅⎝\\tilde{C\n",
       "──────────────────────────────────────────────────────────────────────────────\n",
       "         2                3                             2                     \n",
       "\\tilde{C}  - 1.4⋅\\tilde{V}  + 3.73333333333333⋅\\tilde{V}  - 2.33333333333333⋅\\\n",
       "\n",
       " 2            2                  ⎞\n",
       "}  - \\tilde{V}  + 2⋅\\tilde{V} - 1⎠\n",
       "──────────────────────────────────\n",
       "        ⎞                         \n",
       "tilde{V}⎠                         "
      ]
     },
     "execution_count": 18,
     "metadata": {},
     "output_type": "execute_result"
    }
   ],
   "source": [
    "#dCdV.subs({gamma:7./5., V_tilde:10./3. + 1e-1, C_tilde:-7./3. - 1e-1, delta:-2./3.}) \n",
    "temp = dCdV.subs({gamma:7./5., delta:-2./3.}) \n",
    "temp"
   ]
  },
  {
   "cell_type": "code",
   "execution_count": 19,
   "metadata": {
    "scrolled": true
   },
   "outputs": [
    {
     "data": {
      "application/javascript": [
       "/* Put everything inside the global mpl namespace */\n",
       "window.mpl = {};\n",
       "\n",
       "\n",
       "mpl.get_websocket_type = function() {\n",
       "    if (typeof(WebSocket) !== 'undefined') {\n",
       "        return WebSocket;\n",
       "    } else if (typeof(MozWebSocket) !== 'undefined') {\n",
       "        return MozWebSocket;\n",
       "    } else {\n",
       "        alert('Your browser does not have WebSocket support. ' +\n",
       "              'Please try Chrome, Safari or Firefox ≥ 6. ' +\n",
       "              'Firefox 4 and 5 are also supported but you ' +\n",
       "              'have to enable WebSockets in about:config.');\n",
       "    };\n",
       "}\n",
       "\n",
       "mpl.figure = function(figure_id, websocket, ondownload, parent_element) {\n",
       "    this.id = figure_id;\n",
       "\n",
       "    this.ws = websocket;\n",
       "\n",
       "    this.supports_binary = (this.ws.binaryType != undefined);\n",
       "\n",
       "    if (!this.supports_binary) {\n",
       "        var warnings = document.getElementById(\"mpl-warnings\");\n",
       "        if (warnings) {\n",
       "            warnings.style.display = 'block';\n",
       "            warnings.textContent = (\n",
       "                \"This browser does not support binary websocket messages. \" +\n",
       "                    \"Performance may be slow.\");\n",
       "        }\n",
       "    }\n",
       "\n",
       "    this.imageObj = new Image();\n",
       "\n",
       "    this.context = undefined;\n",
       "    this.message = undefined;\n",
       "    this.canvas = undefined;\n",
       "    this.rubberband_canvas = undefined;\n",
       "    this.rubberband_context = undefined;\n",
       "    this.format_dropdown = undefined;\n",
       "\n",
       "    this.image_mode = 'full';\n",
       "\n",
       "    this.root = $('<div/>');\n",
       "    this._root_extra_style(this.root)\n",
       "    this.root.attr('style', 'display: inline-block');\n",
       "\n",
       "    $(parent_element).append(this.root);\n",
       "\n",
       "    this._init_header(this);\n",
       "    this._init_canvas(this);\n",
       "    this._init_toolbar(this);\n",
       "\n",
       "    var fig = this;\n",
       "\n",
       "    this.waiting = false;\n",
       "\n",
       "    this.ws.onopen =  function () {\n",
       "            fig.send_message(\"supports_binary\", {value: fig.supports_binary});\n",
       "            fig.send_message(\"send_image_mode\", {});\n",
       "            if (mpl.ratio != 1) {\n",
       "                fig.send_message(\"set_dpi_ratio\", {'dpi_ratio': mpl.ratio});\n",
       "            }\n",
       "            fig.send_message(\"refresh\", {});\n",
       "        }\n",
       "\n",
       "    this.imageObj.onload = function() {\n",
       "            if (fig.image_mode == 'full') {\n",
       "                // Full images could contain transparency (where diff images\n",
       "                // almost always do), so we need to clear the canvas so that\n",
       "                // there is no ghosting.\n",
       "                fig.context.clearRect(0, 0, fig.canvas.width, fig.canvas.height);\n",
       "            }\n",
       "            fig.context.drawImage(fig.imageObj, 0, 0);\n",
       "        };\n",
       "\n",
       "    this.imageObj.onunload = function() {\n",
       "        fig.ws.close();\n",
       "    }\n",
       "\n",
       "    this.ws.onmessage = this._make_on_message_function(this);\n",
       "\n",
       "    this.ondownload = ondownload;\n",
       "}\n",
       "\n",
       "mpl.figure.prototype._init_header = function() {\n",
       "    var titlebar = $(\n",
       "        '<div class=\"ui-dialog-titlebar ui-widget-header ui-corner-all ' +\n",
       "        'ui-helper-clearfix\"/>');\n",
       "    var titletext = $(\n",
       "        '<div class=\"ui-dialog-title\" style=\"width: 100%; ' +\n",
       "        'text-align: center; padding: 3px;\"/>');\n",
       "    titlebar.append(titletext)\n",
       "    this.root.append(titlebar);\n",
       "    this.header = titletext[0];\n",
       "}\n",
       "\n",
       "\n",
       "\n",
       "mpl.figure.prototype._canvas_extra_style = function(canvas_div) {\n",
       "\n",
       "}\n",
       "\n",
       "\n",
       "mpl.figure.prototype._root_extra_style = function(canvas_div) {\n",
       "\n",
       "}\n",
       "\n",
       "mpl.figure.prototype._init_canvas = function() {\n",
       "    var fig = this;\n",
       "\n",
       "    var canvas_div = $('<div/>');\n",
       "\n",
       "    canvas_div.attr('style', 'position: relative; clear: both; outline: 0');\n",
       "\n",
       "    function canvas_keyboard_event(event) {\n",
       "        return fig.key_event(event, event['data']);\n",
       "    }\n",
       "\n",
       "    canvas_div.keydown('key_press', canvas_keyboard_event);\n",
       "    canvas_div.keyup('key_release', canvas_keyboard_event);\n",
       "    this.canvas_div = canvas_div\n",
       "    this._canvas_extra_style(canvas_div)\n",
       "    this.root.append(canvas_div);\n",
       "\n",
       "    var canvas = $('<canvas/>');\n",
       "    canvas.addClass('mpl-canvas');\n",
       "    canvas.attr('style', \"left: 0; top: 0; z-index: 0; outline: 0\")\n",
       "\n",
       "    this.canvas = canvas[0];\n",
       "    this.context = canvas[0].getContext(\"2d\");\n",
       "\n",
       "    var backingStore = this.context.backingStorePixelRatio ||\n",
       "\tthis.context.webkitBackingStorePixelRatio ||\n",
       "\tthis.context.mozBackingStorePixelRatio ||\n",
       "\tthis.context.msBackingStorePixelRatio ||\n",
       "\tthis.context.oBackingStorePixelRatio ||\n",
       "\tthis.context.backingStorePixelRatio || 1;\n",
       "\n",
       "    mpl.ratio = (window.devicePixelRatio || 1) / backingStore;\n",
       "\n",
       "    var rubberband = $('<canvas/>');\n",
       "    rubberband.attr('style', \"position: absolute; left: 0; top: 0; z-index: 1;\")\n",
       "\n",
       "    var pass_mouse_events = true;\n",
       "\n",
       "    canvas_div.resizable({\n",
       "        start: function(event, ui) {\n",
       "            pass_mouse_events = false;\n",
       "        },\n",
       "        resize: function(event, ui) {\n",
       "            fig.request_resize(ui.size.width, ui.size.height);\n",
       "        },\n",
       "        stop: function(event, ui) {\n",
       "            pass_mouse_events = true;\n",
       "            fig.request_resize(ui.size.width, ui.size.height);\n",
       "        },\n",
       "    });\n",
       "\n",
       "    function mouse_event_fn(event) {\n",
       "        if (pass_mouse_events)\n",
       "            return fig.mouse_event(event, event['data']);\n",
       "    }\n",
       "\n",
       "    rubberband.mousedown('button_press', mouse_event_fn);\n",
       "    rubberband.mouseup('button_release', mouse_event_fn);\n",
       "    // Throttle sequential mouse events to 1 every 20ms.\n",
       "    rubberband.mousemove('motion_notify', mouse_event_fn);\n",
       "\n",
       "    rubberband.mouseenter('figure_enter', mouse_event_fn);\n",
       "    rubberband.mouseleave('figure_leave', mouse_event_fn);\n",
       "\n",
       "    canvas_div.on(\"wheel\", function (event) {\n",
       "        event = event.originalEvent;\n",
       "        event['data'] = 'scroll'\n",
       "        if (event.deltaY < 0) {\n",
       "            event.step = 1;\n",
       "        } else {\n",
       "            event.step = -1;\n",
       "        }\n",
       "        mouse_event_fn(event);\n",
       "    });\n",
       "\n",
       "    canvas_div.append(canvas);\n",
       "    canvas_div.append(rubberband);\n",
       "\n",
       "    this.rubberband = rubberband;\n",
       "    this.rubberband_canvas = rubberband[0];\n",
       "    this.rubberband_context = rubberband[0].getContext(\"2d\");\n",
       "    this.rubberband_context.strokeStyle = \"#000000\";\n",
       "\n",
       "    this._resize_canvas = function(width, height) {\n",
       "        // Keep the size of the canvas, canvas container, and rubber band\n",
       "        // canvas in synch.\n",
       "        canvas_div.css('width', width)\n",
       "        canvas_div.css('height', height)\n",
       "\n",
       "        canvas.attr('width', width * mpl.ratio);\n",
       "        canvas.attr('height', height * mpl.ratio);\n",
       "        canvas.attr('style', 'width: ' + width + 'px; height: ' + height + 'px;');\n",
       "\n",
       "        rubberband.attr('width', width);\n",
       "        rubberband.attr('height', height);\n",
       "    }\n",
       "\n",
       "    // Set the figure to an initial 600x600px, this will subsequently be updated\n",
       "    // upon first draw.\n",
       "    this._resize_canvas(600, 600);\n",
       "\n",
       "    // Disable right mouse context menu.\n",
       "    $(this.rubberband_canvas).bind(\"contextmenu\",function(e){\n",
       "        return false;\n",
       "    });\n",
       "\n",
       "    function set_focus () {\n",
       "        canvas.focus();\n",
       "        canvas_div.focus();\n",
       "    }\n",
       "\n",
       "    window.setTimeout(set_focus, 100);\n",
       "}\n",
       "\n",
       "mpl.figure.prototype._init_toolbar = function() {\n",
       "    var fig = this;\n",
       "\n",
       "    var nav_element = $('<div/>');\n",
       "    nav_element.attr('style', 'width: 100%');\n",
       "    this.root.append(nav_element);\n",
       "\n",
       "    // Define a callback function for later on.\n",
       "    function toolbar_event(event) {\n",
       "        return fig.toolbar_button_onclick(event['data']);\n",
       "    }\n",
       "    function toolbar_mouse_event(event) {\n",
       "        return fig.toolbar_button_onmouseover(event['data']);\n",
       "    }\n",
       "\n",
       "    for(var toolbar_ind in mpl.toolbar_items) {\n",
       "        var name = mpl.toolbar_items[toolbar_ind][0];\n",
       "        var tooltip = mpl.toolbar_items[toolbar_ind][1];\n",
       "        var image = mpl.toolbar_items[toolbar_ind][2];\n",
       "        var method_name = mpl.toolbar_items[toolbar_ind][3];\n",
       "\n",
       "        if (!name) {\n",
       "            // put a spacer in here.\n",
       "            continue;\n",
       "        }\n",
       "        var button = $('<button/>');\n",
       "        button.addClass('ui-button ui-widget ui-state-default ui-corner-all ' +\n",
       "                        'ui-button-icon-only');\n",
       "        button.attr('role', 'button');\n",
       "        button.attr('aria-disabled', 'false');\n",
       "        button.click(method_name, toolbar_event);\n",
       "        button.mouseover(tooltip, toolbar_mouse_event);\n",
       "\n",
       "        var icon_img = $('<span/>');\n",
       "        icon_img.addClass('ui-button-icon-primary ui-icon');\n",
       "        icon_img.addClass(image);\n",
       "        icon_img.addClass('ui-corner-all');\n",
       "\n",
       "        var tooltip_span = $('<span/>');\n",
       "        tooltip_span.addClass('ui-button-text');\n",
       "        tooltip_span.html(tooltip);\n",
       "\n",
       "        button.append(icon_img);\n",
       "        button.append(tooltip_span);\n",
       "\n",
       "        nav_element.append(button);\n",
       "    }\n",
       "\n",
       "    var fmt_picker_span = $('<span/>');\n",
       "\n",
       "    var fmt_picker = $('<select/>');\n",
       "    fmt_picker.addClass('mpl-toolbar-option ui-widget ui-widget-content');\n",
       "    fmt_picker_span.append(fmt_picker);\n",
       "    nav_element.append(fmt_picker_span);\n",
       "    this.format_dropdown = fmt_picker[0];\n",
       "\n",
       "    for (var ind in mpl.extensions) {\n",
       "        var fmt = mpl.extensions[ind];\n",
       "        var option = $(\n",
       "            '<option/>', {selected: fmt === mpl.default_extension}).html(fmt);\n",
       "        fmt_picker.append(option);\n",
       "    }\n",
       "\n",
       "    // Add hover states to the ui-buttons\n",
       "    $( \".ui-button\" ).hover(\n",
       "        function() { $(this).addClass(\"ui-state-hover\");},\n",
       "        function() { $(this).removeClass(\"ui-state-hover\");}\n",
       "    );\n",
       "\n",
       "    var status_bar = $('<span class=\"mpl-message\"/>');\n",
       "    nav_element.append(status_bar);\n",
       "    this.message = status_bar[0];\n",
       "}\n",
       "\n",
       "mpl.figure.prototype.request_resize = function(x_pixels, y_pixels) {\n",
       "    // Request matplotlib to resize the figure. Matplotlib will then trigger a resize in the client,\n",
       "    // which will in turn request a refresh of the image.\n",
       "    this.send_message('resize', {'width': x_pixels, 'height': y_pixels});\n",
       "}\n",
       "\n",
       "mpl.figure.prototype.send_message = function(type, properties) {\n",
       "    properties['type'] = type;\n",
       "    properties['figure_id'] = this.id;\n",
       "    this.ws.send(JSON.stringify(properties));\n",
       "}\n",
       "\n",
       "mpl.figure.prototype.send_draw_message = function() {\n",
       "    if (!this.waiting) {\n",
       "        this.waiting = true;\n",
       "        this.ws.send(JSON.stringify({type: \"draw\", figure_id: this.id}));\n",
       "    }\n",
       "}\n",
       "\n",
       "\n",
       "mpl.figure.prototype.handle_save = function(fig, msg) {\n",
       "    var format_dropdown = fig.format_dropdown;\n",
       "    var format = format_dropdown.options[format_dropdown.selectedIndex].value;\n",
       "    fig.ondownload(fig, format);\n",
       "}\n",
       "\n",
       "\n",
       "mpl.figure.prototype.handle_resize = function(fig, msg) {\n",
       "    var size = msg['size'];\n",
       "    if (size[0] != fig.canvas.width || size[1] != fig.canvas.height) {\n",
       "        fig._resize_canvas(size[0], size[1]);\n",
       "        fig.send_message(\"refresh\", {});\n",
       "    };\n",
       "}\n",
       "\n",
       "mpl.figure.prototype.handle_rubberband = function(fig, msg) {\n",
       "    var x0 = msg['x0'] / mpl.ratio;\n",
       "    var y0 = (fig.canvas.height - msg['y0']) / mpl.ratio;\n",
       "    var x1 = msg['x1'] / mpl.ratio;\n",
       "    var y1 = (fig.canvas.height - msg['y1']) / mpl.ratio;\n",
       "    x0 = Math.floor(x0) + 0.5;\n",
       "    y0 = Math.floor(y0) + 0.5;\n",
       "    x1 = Math.floor(x1) + 0.5;\n",
       "    y1 = Math.floor(y1) + 0.5;\n",
       "    var min_x = Math.min(x0, x1);\n",
       "    var min_y = Math.min(y0, y1);\n",
       "    var width = Math.abs(x1 - x0);\n",
       "    var height = Math.abs(y1 - y0);\n",
       "\n",
       "    fig.rubberband_context.clearRect(\n",
       "        0, 0, fig.canvas.width / mpl.ratio, fig.canvas.height / mpl.ratio);\n",
       "\n",
       "    fig.rubberband_context.strokeRect(min_x, min_y, width, height);\n",
       "}\n",
       "\n",
       "mpl.figure.prototype.handle_figure_label = function(fig, msg) {\n",
       "    // Updates the figure title.\n",
       "    fig.header.textContent = msg['label'];\n",
       "}\n",
       "\n",
       "mpl.figure.prototype.handle_cursor = function(fig, msg) {\n",
       "    var cursor = msg['cursor'];\n",
       "    switch(cursor)\n",
       "    {\n",
       "    case 0:\n",
       "        cursor = 'pointer';\n",
       "        break;\n",
       "    case 1:\n",
       "        cursor = 'default';\n",
       "        break;\n",
       "    case 2:\n",
       "        cursor = 'crosshair';\n",
       "        break;\n",
       "    case 3:\n",
       "        cursor = 'move';\n",
       "        break;\n",
       "    }\n",
       "    fig.rubberband_canvas.style.cursor = cursor;\n",
       "}\n",
       "\n",
       "mpl.figure.prototype.handle_message = function(fig, msg) {\n",
       "    fig.message.textContent = msg['message'];\n",
       "}\n",
       "\n",
       "mpl.figure.prototype.handle_draw = function(fig, msg) {\n",
       "    // Request the server to send over a new figure.\n",
       "    fig.send_draw_message();\n",
       "}\n",
       "\n",
       "mpl.figure.prototype.handle_image_mode = function(fig, msg) {\n",
       "    fig.image_mode = msg['mode'];\n",
       "}\n",
       "\n",
       "mpl.figure.prototype.updated_canvas_event = function() {\n",
       "    // Called whenever the canvas gets updated.\n",
       "    this.send_message(\"ack\", {});\n",
       "}\n",
       "\n",
       "// A function to construct a web socket function for onmessage handling.\n",
       "// Called in the figure constructor.\n",
       "mpl.figure.prototype._make_on_message_function = function(fig) {\n",
       "    return function socket_on_message(evt) {\n",
       "        if (evt.data instanceof Blob) {\n",
       "            /* FIXME: We get \"Resource interpreted as Image but\n",
       "             * transferred with MIME type text/plain:\" errors on\n",
       "             * Chrome.  But how to set the MIME type?  It doesn't seem\n",
       "             * to be part of the websocket stream */\n",
       "            evt.data.type = \"image/png\";\n",
       "\n",
       "            /* Free the memory for the previous frames */\n",
       "            if (fig.imageObj.src) {\n",
       "                (window.URL || window.webkitURL).revokeObjectURL(\n",
       "                    fig.imageObj.src);\n",
       "            }\n",
       "\n",
       "            fig.imageObj.src = (window.URL || window.webkitURL).createObjectURL(\n",
       "                evt.data);\n",
       "            fig.updated_canvas_event();\n",
       "            fig.waiting = false;\n",
       "            return;\n",
       "        }\n",
       "        else if (typeof evt.data === 'string' && evt.data.slice(0, 21) == \"data:image/png;base64\") {\n",
       "            fig.imageObj.src = evt.data;\n",
       "            fig.updated_canvas_event();\n",
       "            fig.waiting = false;\n",
       "            return;\n",
       "        }\n",
       "\n",
       "        var msg = JSON.parse(evt.data);\n",
       "        var msg_type = msg['type'];\n",
       "\n",
       "        // Call the  \"handle_{type}\" callback, which takes\n",
       "        // the figure and JSON message as its only arguments.\n",
       "        try {\n",
       "            var callback = fig[\"handle_\" + msg_type];\n",
       "        } catch (e) {\n",
       "            console.log(\"No handler for the '\" + msg_type + \"' message type: \", msg);\n",
       "            return;\n",
       "        }\n",
       "\n",
       "        if (callback) {\n",
       "            try {\n",
       "                // console.log(\"Handling '\" + msg_type + \"' message: \", msg);\n",
       "                callback(fig, msg);\n",
       "            } catch (e) {\n",
       "                console.log(\"Exception inside the 'handler_\" + msg_type + \"' callback:\", e, e.stack, msg);\n",
       "            }\n",
       "        }\n",
       "    };\n",
       "}\n",
       "\n",
       "// from http://stackoverflow.com/questions/1114465/getting-mouse-location-in-canvas\n",
       "mpl.findpos = function(e) {\n",
       "    //this section is from http://www.quirksmode.org/js/events_properties.html\n",
       "    var targ;\n",
       "    if (!e)\n",
       "        e = window.event;\n",
       "    if (e.target)\n",
       "        targ = e.target;\n",
       "    else if (e.srcElement)\n",
       "        targ = e.srcElement;\n",
       "    if (targ.nodeType == 3) // defeat Safari bug\n",
       "        targ = targ.parentNode;\n",
       "\n",
       "    // jQuery normalizes the pageX and pageY\n",
       "    // pageX,Y are the mouse positions relative to the document\n",
       "    // offset() returns the position of the element relative to the document\n",
       "    var x = e.pageX - $(targ).offset().left;\n",
       "    var y = e.pageY - $(targ).offset().top;\n",
       "\n",
       "    return {\"x\": x, \"y\": y};\n",
       "};\n",
       "\n",
       "/*\n",
       " * return a copy of an object with only non-object keys\n",
       " * we need this to avoid circular references\n",
       " * http://stackoverflow.com/a/24161582/3208463\n",
       " */\n",
       "function simpleKeys (original) {\n",
       "  return Object.keys(original).reduce(function (obj, key) {\n",
       "    if (typeof original[key] !== 'object')\n",
       "        obj[key] = original[key]\n",
       "    return obj;\n",
       "  }, {});\n",
       "}\n",
       "\n",
       "mpl.figure.prototype.mouse_event = function(event, name) {\n",
       "    var canvas_pos = mpl.findpos(event)\n",
       "\n",
       "    if (name === 'button_press')\n",
       "    {\n",
       "        this.canvas.focus();\n",
       "        this.canvas_div.focus();\n",
       "    }\n",
       "\n",
       "    var x = canvas_pos.x * mpl.ratio;\n",
       "    var y = canvas_pos.y * mpl.ratio;\n",
       "\n",
       "    this.send_message(name, {x: x, y: y, button: event.button,\n",
       "                             step: event.step,\n",
       "                             guiEvent: simpleKeys(event)});\n",
       "\n",
       "    /* This prevents the web browser from automatically changing to\n",
       "     * the text insertion cursor when the button is pressed.  We want\n",
       "     * to control all of the cursor setting manually through the\n",
       "     * 'cursor' event from matplotlib */\n",
       "    event.preventDefault();\n",
       "    return false;\n",
       "}\n",
       "\n",
       "mpl.figure.prototype._key_event_extra = function(event, name) {\n",
       "    // Handle any extra behaviour associated with a key event\n",
       "}\n",
       "\n",
       "mpl.figure.prototype.key_event = function(event, name) {\n",
       "\n",
       "    // Prevent repeat events\n",
       "    if (name == 'key_press')\n",
       "    {\n",
       "        if (event.which === this._key)\n",
       "            return;\n",
       "        else\n",
       "            this._key = event.which;\n",
       "    }\n",
       "    if (name == 'key_release')\n",
       "        this._key = null;\n",
       "\n",
       "    var value = '';\n",
       "    if (event.ctrlKey && event.which != 17)\n",
       "        value += \"ctrl+\";\n",
       "    if (event.altKey && event.which != 18)\n",
       "        value += \"alt+\";\n",
       "    if (event.shiftKey && event.which != 16)\n",
       "        value += \"shift+\";\n",
       "\n",
       "    value += 'k';\n",
       "    value += event.which.toString();\n",
       "\n",
       "    this._key_event_extra(event, name);\n",
       "\n",
       "    this.send_message(name, {key: value,\n",
       "                             guiEvent: simpleKeys(event)});\n",
       "    return false;\n",
       "}\n",
       "\n",
       "mpl.figure.prototype.toolbar_button_onclick = function(name) {\n",
       "    if (name == 'download') {\n",
       "        this.handle_save(this, null);\n",
       "    } else {\n",
       "        this.send_message(\"toolbar_button\", {name: name});\n",
       "    }\n",
       "};\n",
       "\n",
       "mpl.figure.prototype.toolbar_button_onmouseover = function(tooltip) {\n",
       "    this.message.textContent = tooltip;\n",
       "};\n",
       "mpl.toolbar_items = [[\"Home\", \"Reset original view\", \"fa fa-home icon-home\", \"home\"], [\"Back\", \"Back to previous view\", \"fa fa-arrow-left icon-arrow-left\", \"back\"], [\"Forward\", \"Forward to next view\", \"fa fa-arrow-right icon-arrow-right\", \"forward\"], [\"\", \"\", \"\", \"\"], [\"Pan\", \"Pan axes with left mouse, zoom with right\", \"fa fa-arrows icon-move\", \"pan\"], [\"Zoom\", \"Zoom to rectangle\", \"fa fa-square-o icon-check-empty\", \"zoom\"], [\"\", \"\", \"\", \"\"], [\"Download\", \"Download plot\", \"fa fa-floppy-o icon-save\", \"download\"]];\n",
       "\n",
       "mpl.extensions = [\"eps\", \"jpeg\", \"pdf\", \"png\", \"ps\", \"raw\", \"svg\", \"tif\"];\n",
       "\n",
       "mpl.default_extension = \"png\";var comm_websocket_adapter = function(comm) {\n",
       "    // Create a \"websocket\"-like object which calls the given IPython comm\n",
       "    // object with the appropriate methods. Currently this is a non binary\n",
       "    // socket, so there is still some room for performance tuning.\n",
       "    var ws = {};\n",
       "\n",
       "    ws.close = function() {\n",
       "        comm.close()\n",
       "    };\n",
       "    ws.send = function(m) {\n",
       "        //console.log('sending', m);\n",
       "        comm.send(m);\n",
       "    };\n",
       "    // Register the callback with on_msg.\n",
       "    comm.on_msg(function(msg) {\n",
       "        //console.log('receiving', msg['content']['data'], msg);\n",
       "        // Pass the mpl event to the overridden (by mpl) onmessage function.\n",
       "        ws.onmessage(msg['content']['data'])\n",
       "    });\n",
       "    return ws;\n",
       "}\n",
       "\n",
       "mpl.mpl_figure_comm = function(comm, msg) {\n",
       "    // This is the function which gets called when the mpl process\n",
       "    // starts-up an IPython Comm through the \"matplotlib\" channel.\n",
       "\n",
       "    var id = msg.content.data.id;\n",
       "    // Get hold of the div created by the display call when the Comm\n",
       "    // socket was opened in Python.\n",
       "    var element = $(\"#\" + id);\n",
       "    var ws_proxy = comm_websocket_adapter(comm)\n",
       "\n",
       "    function ondownload(figure, format) {\n",
       "        window.open(figure.imageObj.src);\n",
       "    }\n",
       "\n",
       "    var fig = new mpl.figure(id, ws_proxy,\n",
       "                           ondownload,\n",
       "                           element.get(0));\n",
       "\n",
       "    // Call onopen now - mpl needs it, as it is assuming we've passed it a real\n",
       "    // web socket which is closed, not our websocket->open comm proxy.\n",
       "    ws_proxy.onopen();\n",
       "\n",
       "    fig.parent_element = element.get(0);\n",
       "    fig.cell_info = mpl.find_output_cell(\"<div id='\" + id + \"'></div>\");\n",
       "    if (!fig.cell_info) {\n",
       "        console.error(\"Failed to find cell for figure\", id, fig);\n",
       "        return;\n",
       "    }\n",
       "\n",
       "    var output_index = fig.cell_info[2]\n",
       "    var cell = fig.cell_info[0];\n",
       "\n",
       "};\n",
       "\n",
       "mpl.figure.prototype.handle_close = function(fig, msg) {\n",
       "    var width = fig.canvas.width/mpl.ratio\n",
       "    fig.root.unbind('remove')\n",
       "\n",
       "    // Update the output cell to use the data from the current canvas.\n",
       "    fig.push_to_output();\n",
       "    var dataURL = fig.canvas.toDataURL();\n",
       "    // Re-enable the keyboard manager in IPython - without this line, in FF,\n",
       "    // the notebook keyboard shortcuts fail.\n",
       "    IPython.keyboard_manager.enable()\n",
       "    $(fig.parent_element).html('<img src=\"' + dataURL + '\" width=\"' + width + '\">');\n",
       "    fig.close_ws(fig, msg);\n",
       "}\n",
       "\n",
       "mpl.figure.prototype.close_ws = function(fig, msg){\n",
       "    fig.send_message('closing', msg);\n",
       "    // fig.ws.close()\n",
       "}\n",
       "\n",
       "mpl.figure.prototype.push_to_output = function(remove_interactive) {\n",
       "    // Turn the data on the canvas into data in the output cell.\n",
       "    var width = this.canvas.width/mpl.ratio\n",
       "    var dataURL = this.canvas.toDataURL();\n",
       "    this.cell_info[1]['text/html'] = '<img src=\"' + dataURL + '\" width=\"' + width + '\">';\n",
       "}\n",
       "\n",
       "mpl.figure.prototype.updated_canvas_event = function() {\n",
       "    // Tell IPython that the notebook contents must change.\n",
       "    IPython.notebook.set_dirty(true);\n",
       "    this.send_message(\"ack\", {});\n",
       "    var fig = this;\n",
       "    // Wait a second, then push the new image to the DOM so\n",
       "    // that it is saved nicely (might be nice to debounce this).\n",
       "    setTimeout(function () { fig.push_to_output() }, 1000);\n",
       "}\n",
       "\n",
       "mpl.figure.prototype._init_toolbar = function() {\n",
       "    var fig = this;\n",
       "\n",
       "    var nav_element = $('<div/>');\n",
       "    nav_element.attr('style', 'width: 100%');\n",
       "    this.root.append(nav_element);\n",
       "\n",
       "    // Define a callback function for later on.\n",
       "    function toolbar_event(event) {\n",
       "        return fig.toolbar_button_onclick(event['data']);\n",
       "    }\n",
       "    function toolbar_mouse_event(event) {\n",
       "        return fig.toolbar_button_onmouseover(event['data']);\n",
       "    }\n",
       "\n",
       "    for(var toolbar_ind in mpl.toolbar_items){\n",
       "        var name = mpl.toolbar_items[toolbar_ind][0];\n",
       "        var tooltip = mpl.toolbar_items[toolbar_ind][1];\n",
       "        var image = mpl.toolbar_items[toolbar_ind][2];\n",
       "        var method_name = mpl.toolbar_items[toolbar_ind][3];\n",
       "\n",
       "        if (!name) { continue; };\n",
       "\n",
       "        var button = $('<button class=\"btn btn-default\" href=\"#\" title=\"' + name + '\"><i class=\"fa ' + image + ' fa-lg\"></i></button>');\n",
       "        button.click(method_name, toolbar_event);\n",
       "        button.mouseover(tooltip, toolbar_mouse_event);\n",
       "        nav_element.append(button);\n",
       "    }\n",
       "\n",
       "    // Add the status bar.\n",
       "    var status_bar = $('<span class=\"mpl-message\" style=\"text-align:right; float: right;\"/>');\n",
       "    nav_element.append(status_bar);\n",
       "    this.message = status_bar[0];\n",
       "\n",
       "    // Add the close button to the window.\n",
       "    var buttongrp = $('<div class=\"btn-group inline pull-right\"></div>');\n",
       "    var button = $('<button class=\"btn btn-mini btn-primary\" href=\"#\" title=\"Stop Interaction\"><i class=\"fa fa-power-off icon-remove icon-large\"></i></button>');\n",
       "    button.click(function (evt) { fig.handle_close(fig, {}); } );\n",
       "    button.mouseover('Stop Interaction', toolbar_mouse_event);\n",
       "    buttongrp.append(button);\n",
       "    var titlebar = this.root.find($('.ui-dialog-titlebar'));\n",
       "    titlebar.prepend(buttongrp);\n",
       "}\n",
       "\n",
       "mpl.figure.prototype._root_extra_style = function(el){\n",
       "    var fig = this\n",
       "    el.on(\"remove\", function(){\n",
       "\tfig.close_ws(fig, {});\n",
       "    });\n",
       "}\n",
       "\n",
       "mpl.figure.prototype._canvas_extra_style = function(el){\n",
       "    // this is important to make the div 'focusable\n",
       "    el.attr('tabindex', 0)\n",
       "    // reach out to IPython and tell the keyboard manager to turn it's self\n",
       "    // off when our div gets focus\n",
       "\n",
       "    // location in version 3\n",
       "    if (IPython.notebook.keyboard_manager) {\n",
       "        IPython.notebook.keyboard_manager.register_events(el);\n",
       "    }\n",
       "    else {\n",
       "        // location in version 2\n",
       "        IPython.keyboard_manager.register_events(el);\n",
       "    }\n",
       "\n",
       "}\n",
       "\n",
       "mpl.figure.prototype._key_event_extra = function(event, name) {\n",
       "    var manager = IPython.notebook.keyboard_manager;\n",
       "    if (!manager)\n",
       "        manager = IPython.keyboard_manager;\n",
       "\n",
       "    // Check for shift+enter\n",
       "    if (event.shiftKey && event.which == 13) {\n",
       "        this.canvas_div.blur();\n",
       "        event.shiftKey = false;\n",
       "        // Send a \"J\" for go to next cell\n",
       "        event.which = 74;\n",
       "        event.keyCode = 74;\n",
       "        manager.command_mode();\n",
       "        manager.handle_keydown(event);\n",
       "    }\n",
       "}\n",
       "\n",
       "mpl.figure.prototype.handle_save = function(fig, msg) {\n",
       "    fig.ondownload(fig, null);\n",
       "}\n",
       "\n",
       "\n",
       "mpl.find_output_cell = function(html_output) {\n",
       "    // Return the cell and output element which can be found *uniquely* in the notebook.\n",
       "    // Note - this is a bit hacky, but it is done because the \"notebook_saving.Notebook\"\n",
       "    // IPython event is triggered only after the cells have been serialised, which for\n",
       "    // our purposes (turning an active figure into a static one), is too late.\n",
       "    var cells = IPython.notebook.get_cells();\n",
       "    var ncells = cells.length;\n",
       "    for (var i=0; i<ncells; i++) {\n",
       "        var cell = cells[i];\n",
       "        if (cell.cell_type === 'code'){\n",
       "            for (var j=0; j<cell.output_area.outputs.length; j++) {\n",
       "                var data = cell.output_area.outputs[j];\n",
       "                if (data.data) {\n",
       "                    // IPython >= 3 moved mimebundle to data attribute of output\n",
       "                    data = data.data;\n",
       "                }\n",
       "                if (data['text/html'] == html_output) {\n",
       "                    return [cell, data, j];\n",
       "                }\n",
       "            }\n",
       "        }\n",
       "    }\n",
       "}\n",
       "\n",
       "// Register the function which deals with the matplotlib target/channel.\n",
       "// The kernel may be null if the page has been refreshed.\n",
       "if (IPython.notebook.kernel != null) {\n",
       "    IPython.notebook.kernel.comm_manager.register_target('matplotlib', mpl.mpl_figure_comm);\n",
       "}\n"
      ],
      "text/plain": [
       "<IPython.core.display.Javascript object>"
      ]
     },
     "metadata": {},
     "output_type": "display_data"
    },
    {
     "data": {
      "text/html": [
       "<div id='47db436e-eb4f-4759-a1a3-5ec7626d793b'></div>"
      ],
      "text/plain": [
       "<IPython.core.display.HTML object>"
      ]
     },
     "metadata": {},
     "output_type": "display_data"
    }
   ],
   "source": [
    "def shoot_from_shock_front(dv, gv):\n",
    "    deriv = dCdV.subs({gamma:gv,delta:dv})\n",
    "    wrapper = sympy.lambdify([V_tilde,C_tilde], deriv)\n",
    "    vbc = float(V_shock_front.subs(gamma,gv))\n",
    "    cbc = float(C_shock_front.subs(gamma,gv))\n",
    "    v_list = numpy.linspace(vbc, -10.0*vbc,1000)\n",
    "    c_list = cbc*numpy.ones_like(v_list)\n",
    "    for n in range(1,len(v_list)):\n",
    "        dv = v_list[n] - v_list[n-1]\n",
    "        c_list[n] = c_list[n-1] + dv*wrapper(v_list[n-1], c_list[n-1])\n",
    "    \n",
    "    # Behind initial impact point\n",
    "    v_list_2 = numpy.linspace(-v_list[-1],-0.2*v_list[-1], 1000)\n",
    "    c_list_2 = -c_list[-1]*numpy.ones_like(v_list_2)\n",
    "    for n in range(1, len(v_list_2)):\n",
    "        dv = v_list_2[n] - v_list_2[n-1]\n",
    "        c_list_2[n] = c_list_2[n-1] + dv*wrapper(v_list_2[n-1], c_list_2[n-1])\n",
    "        \n",
    "    unified_v_list = numpy.concatenate((v_list, [numpy.nan], v_list_2))\n",
    "    unified_c_list = numpy.concatenate((c_list, [numpy.nan], c_list_2))\n",
    "    \n",
    "    return numpy.vstack((unified_v_list, unified_c_list))\n",
    "%matplotlib notebook\n",
    "plotfunc = pylab.plot\n",
    "for dv in numpy.linspace(-0.63,-0.64,5):\n",
    "    temp = shoot_from_shock_front(dv,5./3.)\n",
    "    plotfunc(temp[0], temp[1], label=r'$\\delta=$'+str(dv))\n",
    "plotfunc(temp[0], 1-temp[0],'k',label='sonic')\n",
    "pylab.legend()\n",
    "pylab.xlabel('V')\n",
    "pylab.ylabel('C')\n",
    "pass"
   ]
  },
  {
   "cell_type": "code",
   "execution_count": 20,
   "metadata": {},
   "outputs": [],
   "source": [
    "def shoot_from_sonic_point(dv, gv):\n",
    "    \n",
    "    deriv_at_sonic = sonic_line_slope.subs({gamma:gv,delta:dv})\n",
    "    v_jump = 1e-6\n",
    "    \n",
    "    #finding slope at sonic\n",
    "    dVs = sympy.Symbol('dVs') #special difference variable, delta V_sonic\n",
    "    alpha = sympy.Symbol('alpha') #slope of dCdv\n",
    "    temp  = dCdV.subs(V_tilde, dVs + 2/(2-gamma)).subs(C_tilde, alpha*dVs - gamma/(2-gamma))\n",
    "    temp = temp.subs(dVs, 1e-6).subs(gamma, gv).subs(delta, dv) #uses correct initial value condition for dC/dV at sonic\n",
    "    slope_solve = sympy.solve(temp - alpha, alpha)\n",
    "    sonic_slope = slope_solve[0] #great!\n",
    "    V_start = float((2/(2-gamma)).subs(gamma,gv)) + 1e-6\n",
    "    C_start = float((1-((2/(2-gamma)))).subs(gamma,gv)) + (1e-6) * float(sonic_slope)\n",
    "    v_list = numpy.linspace(V_start, 10*V_start, 10000)\n",
    "    c_list = C_start*numpy.ones_like(v_list)\n",
    "    \n",
    "    deriv = dCdV.subs({gamma:gv,delta:dv})\n",
    "    wrapper = sympy.lambdify([V_tilde,C_tilde], deriv)\n",
    "    \n",
    "    for n in range(1,len(v_list)):\n",
    "        dv = v_list[n] - v_list[n-1]\n",
    "        c_list[n] = c_list[n-1] + dv*wrapper(v_list[n-1], c_list[n-1])\n",
    "        \n",
    "    # Second leg\n",
    "    vbc = float(V_shock_front.subs(gamma,gv))\n",
    "    cbc = float(C_shock_front.subs(gamma,gv))    \n",
    "    v_list_2 = numpy.linspace(-v_list[-1], vbc, 10000)\n",
    "    c_list_2 = -c_list[-1]*numpy.ones_like(v_list_2)\n",
    "    \n",
    "    for n in range(1, len(v_list_2)):\n",
    "        dv = v_list_2[n] - v_list_2[n-1]\n",
    "        c_list_2[n] = c_list_2[n-1] + dv*wrapper(v_list_2[n-1], c_list_2[n-1])\n",
    "        \n",
    "    unified_v_list = numpy.concatenate((v_list,[numpy.nan],v_list_2))\n",
    "    unified_c_list = numpy.concatenate((c_list,[numpy.nan],c_list_2))\n",
    "    print(c_list_2[-1])\n",
    "    return numpy.vstack((unified_v_list, unified_c_list))\n",
    "\n"
   ]
  },
  {
   "cell_type": "markdown",
   "metadata": {},
   "source": [
    "Modifying the above to get a special function which has the root as the correct delta value"
   ]
  },
  {
   "cell_type": "code",
   "execution_count": 21,
   "metadata": {},
   "outputs": [],
   "source": [
    "def shooter_value(dv, gv):\n",
    "    \n",
    "    deriv_at_sonic = sonic_line_slope.subs({gamma:gv,delta:dv})\n",
    "    v_jump = 1e-6\n",
    "    \n",
    "    #finding slope at sonic\n",
    "    dVs = sympy.Symbol('dVs') #special difference variable, delta V_sonic\n",
    "    alpha = sympy.Symbol('alpha') #slope of dCdv\n",
    "    temp  = dCdV.subs(V_tilde, dVs + 2/(2-gamma)).subs(C_tilde, alpha*dVs - gamma/(2-gamma))\n",
    "    temp = temp.subs(dVs, 1e-6).subs(gamma, gv).subs(delta, dv) #uses correct initial value condition for dC/dV at sonic\n",
    "    slope_solve = sympy.solve(temp - alpha, alpha)\n",
    "    sonic_slope = slope_solve[0] #great!\n",
    "    V_start = float((2/(2-gamma)).subs(gamma,gv)) + 1e-6\n",
    "    C_start = float((1-((2/(2-gamma)))).subs(gamma,gv)) + (1e-6) * float(sonic_slope)\n",
    "    v_list = numpy.linspace(V_start, 10*V_start, 10000)\n",
    "    c_list = C_start*numpy.ones_like(v_list)\n",
    "    \n",
    "    deriv = dCdV.subs({gamma:gv,delta:dv})\n",
    "    wrapper = sympy.lambdify([V_tilde,C_tilde], deriv)\n",
    "    \n",
    "    for n in range(1,len(v_list)):\n",
    "        dv = v_list[n] - v_list[n-1]\n",
    "        c_list[n] = c_list[n-1] + dv*wrapper(v_list[n-1], c_list[n-1])\n",
    "        \n",
    "    # Second leg\n",
    "    vbc = float(V_shock_front.subs(gamma,gv))\n",
    "    cbc = float(C_shock_front.subs(gamma,gv))    \n",
    "    v_list_2 = numpy.linspace(-v_list[-1], vbc, 10000)\n",
    "    c_list_2 = -c_list[-1]*numpy.ones_like(v_list_2)\n",
    "    \n",
    "    for n in range(1, len(v_list_2)):\n",
    "        dv = v_list_2[n] - v_list_2[n-1]\n",
    "        c_list_2[n] = c_list_2[n-1] + dv*wrapper(v_list_2[n-1], c_list_2[n-1])\n",
    "        \n",
    "    unified_v_list = numpy.concatenate((v_list,[numpy.nan],v_list_2))\n",
    "    unified_c_list = numpy.concatenate((c_list,[numpy.nan],c_list_2))\n",
    "    \n",
    "    return c_list_2[-1] - float(C_shock_front.subs(gamma,gv))\n",
    "\n"
   ]
  },
  {
   "cell_type": "code",
   "execution_count": 32,
   "metadata": {},
   "outputs": [
    {
     "name": "stdout",
     "output_type": "stream",
     "text": [
      "ERROR:0\n",
      "ERROR:1\n",
      "1.7320508075699763\n",
      "1.732050807568612\n",
      "1.7320508075699763\n",
      "1.7320508075692942\n",
      "1.732050807568612\n",
      "1.7320508075702037\n",
      "1.7320508075699763\n",
      "1.7320508075696353\n"
     ]
    }
   ],
   "source": [
    "def cool_quad(x):\n",
    "    return x**2 - 3\n",
    "for i in range(10):\n",
    "    try:\n",
    "        print(scipy.optimize.bisect(cool_quad, 0, i))\n",
    "    except:\n",
    "        print(\"ERROR:\" + str(i))"
   ]
  },
  {
   "cell_type": "markdown",
   "metadata": {},
   "source": [
    "Testing the shooter value function solving for a known solution:"
   ]
  },
  {
   "cell_type": "code",
   "execution_count": 27,
   "metadata": {},
   "outputs": [
    {
     "ename": "KeyboardInterrupt",
     "evalue": "",
     "output_type": "error",
     "traceback": [
      "\u001b[1;31m---------------------------------------------------------------------------\u001b[0m",
      "\u001b[1;31mKeyError\u001b[0m                                  Traceback (most recent call last)",
      "\u001b[1;32m~\\Anaconda3\\lib\\site-packages\\sympy\\core\\assumptions.py\u001b[0m in \u001b[0;36mgetit\u001b[1;34m(self)\u001b[0m\n\u001b[0;32m    243\u001b[0m         \u001b[1;32mtry\u001b[0m\u001b[1;33m:\u001b[0m\u001b[1;33m\u001b[0m\u001b[1;33m\u001b[0m\u001b[0m\n\u001b[1;32m--> 244\u001b[1;33m             \u001b[1;32mreturn\u001b[0m \u001b[0mself\u001b[0m\u001b[1;33m.\u001b[0m\u001b[0m_assumptions\u001b[0m\u001b[1;33m[\u001b[0m\u001b[0mfact\u001b[0m\u001b[1;33m]\u001b[0m\u001b[1;33m\u001b[0m\u001b[1;33m\u001b[0m\u001b[0m\n\u001b[0m\u001b[0;32m    245\u001b[0m         \u001b[1;32mexcept\u001b[0m \u001b[0mKeyError\u001b[0m\u001b[1;33m:\u001b[0m\u001b[1;33m\u001b[0m\u001b[1;33m\u001b[0m\u001b[0m\n",
      "\u001b[1;31mKeyError\u001b[0m: 'zero'",
      "\nDuring handling of the above exception, another exception occurred:\n",
      "\u001b[1;31mKeyError\u001b[0m                                  Traceback (most recent call last)",
      "\u001b[1;32m~\\Anaconda3\\lib\\site-packages\\sympy\\core\\assumptions.py\u001b[0m in \u001b[0;36mgetit\u001b[1;34m(self)\u001b[0m\n\u001b[0;32m    243\u001b[0m         \u001b[1;32mtry\u001b[0m\u001b[1;33m:\u001b[0m\u001b[1;33m\u001b[0m\u001b[1;33m\u001b[0m\u001b[0m\n\u001b[1;32m--> 244\u001b[1;33m             \u001b[1;32mreturn\u001b[0m \u001b[0mself\u001b[0m\u001b[1;33m.\u001b[0m\u001b[0m_assumptions\u001b[0m\u001b[1;33m[\u001b[0m\u001b[0mfact\u001b[0m\u001b[1;33m]\u001b[0m\u001b[1;33m\u001b[0m\u001b[1;33m\u001b[0m\u001b[0m\n\u001b[0m\u001b[0;32m    245\u001b[0m         \u001b[1;32mexcept\u001b[0m \u001b[0mKeyError\u001b[0m\u001b[1;33m:\u001b[0m\u001b[1;33m\u001b[0m\u001b[1;33m\u001b[0m\u001b[0m\n",
      "\u001b[1;31mKeyError\u001b[0m: 'real'",
      "\nDuring handling of the above exception, another exception occurred:\n",
      "\u001b[1;31mKeyError\u001b[0m                                  Traceback (most recent call last)",
      "\u001b[1;32m~\\Anaconda3\\lib\\site-packages\\sympy\\core\\assumptions.py\u001b[0m in \u001b[0;36mgetit\u001b[1;34m(self)\u001b[0m\n\u001b[0;32m    243\u001b[0m         \u001b[1;32mtry\u001b[0m\u001b[1;33m:\u001b[0m\u001b[1;33m\u001b[0m\u001b[1;33m\u001b[0m\u001b[0m\n\u001b[1;32m--> 244\u001b[1;33m             \u001b[1;32mreturn\u001b[0m \u001b[0mself\u001b[0m\u001b[1;33m.\u001b[0m\u001b[0m_assumptions\u001b[0m\u001b[1;33m[\u001b[0m\u001b[0mfact\u001b[0m\u001b[1;33m]\u001b[0m\u001b[1;33m\u001b[0m\u001b[1;33m\u001b[0m\u001b[0m\n\u001b[0m\u001b[0;32m    245\u001b[0m         \u001b[1;32mexcept\u001b[0m \u001b[0mKeyError\u001b[0m\u001b[1;33m:\u001b[0m\u001b[1;33m\u001b[0m\u001b[1;33m\u001b[0m\u001b[0m\n",
      "\u001b[1;31mKeyError\u001b[0m: 'integer'",
      "\nDuring handling of the above exception, another exception occurred:\n",
      "\u001b[1;31mKeyboardInterrupt\u001b[0m                         Traceback (most recent call last)",
      "\u001b[1;32m<ipython-input-27-7b44db4ce0d5>\u001b[0m in \u001b[0;36m<module>\u001b[1;34m\u001b[0m\n\u001b[0;32m      2\u001b[0m \u001b[1;32mdef\u001b[0m \u001b[0mf_function\u001b[0m\u001b[1;33m(\u001b[0m\u001b[0mdv\u001b[0m\u001b[1;33m)\u001b[0m\u001b[1;33m:\u001b[0m\u001b[1;33m\u001b[0m\u001b[1;33m\u001b[0m\u001b[0m\n\u001b[0;32m      3\u001b[0m     \u001b[1;32mreturn\u001b[0m \u001b[0mshooter_value\u001b[0m\u001b[1;33m(\u001b[0m\u001b[0mdv\u001b[0m\u001b[1;33m,\u001b[0m \u001b[0mgv\u001b[0m\u001b[1;33m)\u001b[0m\u001b[1;33m\u001b[0m\u001b[1;33m\u001b[0m\u001b[0m\n\u001b[1;32m----> 4\u001b[1;33m \u001b[0mscipy\u001b[0m\u001b[1;33m.\u001b[0m\u001b[0moptimize\u001b[0m\u001b[1;33m.\u001b[0m\u001b[0mbisect\u001b[0m\u001b[1;33m(\u001b[0m\u001b[0mf_function\u001b[0m\u001b[1;33m,\u001b[0m \u001b[1;33m-\u001b[0m\u001b[1;36m1\u001b[0m\u001b[1;33m,\u001b[0m\u001b[1;33m-\u001b[0m\u001b[1;36m0.5\u001b[0m\u001b[1;33m)\u001b[0m\u001b[1;33m\u001b[0m\u001b[1;33m\u001b[0m\u001b[0m\n\u001b[0m\u001b[0;32m      5\u001b[0m \u001b[1;31m#everything is working well!\u001b[0m\u001b[1;33m\u001b[0m\u001b[1;33m\u001b[0m\u001b[1;33m\u001b[0m\u001b[0m\n",
      "\u001b[1;32m~\\Anaconda3\\lib\\site-packages\\scipy\\optimize\\zeros.py\u001b[0m in \u001b[0;36mbisect\u001b[1;34m(f, a, b, args, xtol, rtol, maxiter, full_output, disp)\u001b[0m\n\u001b[0;32m    548\u001b[0m     \u001b[1;32mif\u001b[0m \u001b[0mrtol\u001b[0m \u001b[1;33m<\u001b[0m \u001b[0m_rtol\u001b[0m\u001b[1;33m:\u001b[0m\u001b[1;33m\u001b[0m\u001b[1;33m\u001b[0m\u001b[0m\n\u001b[0;32m    549\u001b[0m         \u001b[1;32mraise\u001b[0m \u001b[0mValueError\u001b[0m\u001b[1;33m(\u001b[0m\u001b[1;34m\"rtol too small (%g < %g)\"\u001b[0m \u001b[1;33m%\u001b[0m \u001b[1;33m(\u001b[0m\u001b[0mrtol\u001b[0m\u001b[1;33m,\u001b[0m \u001b[0m_rtol\u001b[0m\u001b[1;33m)\u001b[0m\u001b[1;33m)\u001b[0m\u001b[1;33m\u001b[0m\u001b[1;33m\u001b[0m\u001b[0m\n\u001b[1;32m--> 550\u001b[1;33m     \u001b[0mr\u001b[0m \u001b[1;33m=\u001b[0m \u001b[0m_zeros\u001b[0m\u001b[1;33m.\u001b[0m\u001b[0m_bisect\u001b[0m\u001b[1;33m(\u001b[0m\u001b[0mf\u001b[0m\u001b[1;33m,\u001b[0m \u001b[0ma\u001b[0m\u001b[1;33m,\u001b[0m \u001b[0mb\u001b[0m\u001b[1;33m,\u001b[0m \u001b[0mxtol\u001b[0m\u001b[1;33m,\u001b[0m \u001b[0mrtol\u001b[0m\u001b[1;33m,\u001b[0m \u001b[0mmaxiter\u001b[0m\u001b[1;33m,\u001b[0m \u001b[0margs\u001b[0m\u001b[1;33m,\u001b[0m \u001b[0mfull_output\u001b[0m\u001b[1;33m,\u001b[0m \u001b[0mdisp\u001b[0m\u001b[1;33m)\u001b[0m\u001b[1;33m\u001b[0m\u001b[1;33m\u001b[0m\u001b[0m\n\u001b[0m\u001b[0;32m    551\u001b[0m     \u001b[1;32mreturn\u001b[0m \u001b[0mresults_c\u001b[0m\u001b[1;33m(\u001b[0m\u001b[0mfull_output\u001b[0m\u001b[1;33m,\u001b[0m \u001b[0mr\u001b[0m\u001b[1;33m)\u001b[0m\u001b[1;33m\u001b[0m\u001b[1;33m\u001b[0m\u001b[0m\n\u001b[0;32m    552\u001b[0m \u001b[1;33m\u001b[0m\u001b[0m\n",
      "\u001b[1;32m<ipython-input-27-7b44db4ce0d5>\u001b[0m in \u001b[0;36mf_function\u001b[1;34m(dv)\u001b[0m\n\u001b[0;32m      1\u001b[0m \u001b[0mgv\u001b[0m \u001b[1;33m=\u001b[0m \u001b[1;36m1.1\u001b[0m\u001b[1;33m\u001b[0m\u001b[1;33m\u001b[0m\u001b[0m\n\u001b[0;32m      2\u001b[0m \u001b[1;32mdef\u001b[0m \u001b[0mf_function\u001b[0m\u001b[1;33m(\u001b[0m\u001b[0mdv\u001b[0m\u001b[1;33m)\u001b[0m\u001b[1;33m:\u001b[0m\u001b[1;33m\u001b[0m\u001b[1;33m\u001b[0m\u001b[0m\n\u001b[1;32m----> 3\u001b[1;33m     \u001b[1;32mreturn\u001b[0m \u001b[0mshooter_value\u001b[0m\u001b[1;33m(\u001b[0m\u001b[0mdv\u001b[0m\u001b[1;33m,\u001b[0m \u001b[0mgv\u001b[0m\u001b[1;33m)\u001b[0m\u001b[1;33m\u001b[0m\u001b[1;33m\u001b[0m\u001b[0m\n\u001b[0m\u001b[0;32m      4\u001b[0m \u001b[0mscipy\u001b[0m\u001b[1;33m.\u001b[0m\u001b[0moptimize\u001b[0m\u001b[1;33m.\u001b[0m\u001b[0mbisect\u001b[0m\u001b[1;33m(\u001b[0m\u001b[0mf_function\u001b[0m\u001b[1;33m,\u001b[0m \u001b[1;33m-\u001b[0m\u001b[1;36m1\u001b[0m\u001b[1;33m,\u001b[0m\u001b[1;33m-\u001b[0m\u001b[1;36m0.5\u001b[0m\u001b[1;33m)\u001b[0m\u001b[1;33m\u001b[0m\u001b[1;33m\u001b[0m\u001b[0m\n\u001b[0;32m      5\u001b[0m \u001b[1;31m#everything is working well!\u001b[0m\u001b[1;33m\u001b[0m\u001b[1;33m\u001b[0m\u001b[1;33m\u001b[0m\u001b[0m\n",
      "\u001b[1;32m<ipython-input-21-75e5a789247b>\u001b[0m in \u001b[0;36mshooter_value\u001b[1;34m(dv, gv)\u001b[0m\n\u001b[0;32m      9\u001b[0m     \u001b[0mtemp\u001b[0m  \u001b[1;33m=\u001b[0m \u001b[0mdCdV\u001b[0m\u001b[1;33m.\u001b[0m\u001b[0msubs\u001b[0m\u001b[1;33m(\u001b[0m\u001b[0mV_tilde\u001b[0m\u001b[1;33m,\u001b[0m \u001b[0mdVs\u001b[0m \u001b[1;33m+\u001b[0m \u001b[1;36m2\u001b[0m\u001b[1;33m/\u001b[0m\u001b[1;33m(\u001b[0m\u001b[1;36m2\u001b[0m\u001b[1;33m-\u001b[0m\u001b[0mgamma\u001b[0m\u001b[1;33m)\u001b[0m\u001b[1;33m)\u001b[0m\u001b[1;33m.\u001b[0m\u001b[0msubs\u001b[0m\u001b[1;33m(\u001b[0m\u001b[0mC_tilde\u001b[0m\u001b[1;33m,\u001b[0m \u001b[0malpha\u001b[0m\u001b[1;33m*\u001b[0m\u001b[0mdVs\u001b[0m \u001b[1;33m-\u001b[0m \u001b[0mgamma\u001b[0m\u001b[1;33m/\u001b[0m\u001b[1;33m(\u001b[0m\u001b[1;36m2\u001b[0m\u001b[1;33m-\u001b[0m\u001b[0mgamma\u001b[0m\u001b[1;33m)\u001b[0m\u001b[1;33m)\u001b[0m\u001b[1;33m\u001b[0m\u001b[1;33m\u001b[0m\u001b[0m\n\u001b[0;32m     10\u001b[0m     \u001b[0mtemp\u001b[0m \u001b[1;33m=\u001b[0m \u001b[0mtemp\u001b[0m\u001b[1;33m.\u001b[0m\u001b[0msubs\u001b[0m\u001b[1;33m(\u001b[0m\u001b[0mdVs\u001b[0m\u001b[1;33m,\u001b[0m \u001b[1;36m1e-6\u001b[0m\u001b[1;33m)\u001b[0m\u001b[1;33m.\u001b[0m\u001b[0msubs\u001b[0m\u001b[1;33m(\u001b[0m\u001b[0mgamma\u001b[0m\u001b[1;33m,\u001b[0m \u001b[0mgv\u001b[0m\u001b[1;33m)\u001b[0m\u001b[1;33m.\u001b[0m\u001b[0msubs\u001b[0m\u001b[1;33m(\u001b[0m\u001b[0mdelta\u001b[0m\u001b[1;33m,\u001b[0m \u001b[0mdv\u001b[0m\u001b[1;33m)\u001b[0m \u001b[1;31m#uses correct initial value condition for dC/dV at sonic\u001b[0m\u001b[1;33m\u001b[0m\u001b[1;33m\u001b[0m\u001b[0m\n\u001b[1;32m---> 11\u001b[1;33m     \u001b[0mslope_solve\u001b[0m \u001b[1;33m=\u001b[0m \u001b[0msympy\u001b[0m\u001b[1;33m.\u001b[0m\u001b[0msolve\u001b[0m\u001b[1;33m(\u001b[0m\u001b[0mtemp\u001b[0m \u001b[1;33m-\u001b[0m \u001b[0malpha\u001b[0m\u001b[1;33m,\u001b[0m \u001b[0malpha\u001b[0m\u001b[1;33m)\u001b[0m\u001b[1;33m\u001b[0m\u001b[1;33m\u001b[0m\u001b[0m\n\u001b[0m\u001b[0;32m     12\u001b[0m     \u001b[0msonic_slope\u001b[0m \u001b[1;33m=\u001b[0m \u001b[0mslope_solve\u001b[0m\u001b[1;33m[\u001b[0m\u001b[1;36m0\u001b[0m\u001b[1;33m]\u001b[0m \u001b[1;31m#great!\u001b[0m\u001b[1;33m\u001b[0m\u001b[1;33m\u001b[0m\u001b[0m\n\u001b[0;32m     13\u001b[0m     \u001b[0mV_start\u001b[0m \u001b[1;33m=\u001b[0m \u001b[0mfloat\u001b[0m\u001b[1;33m(\u001b[0m\u001b[1;33m(\u001b[0m\u001b[1;36m2\u001b[0m\u001b[1;33m/\u001b[0m\u001b[1;33m(\u001b[0m\u001b[1;36m2\u001b[0m\u001b[1;33m-\u001b[0m\u001b[0mgamma\u001b[0m\u001b[1;33m)\u001b[0m\u001b[1;33m)\u001b[0m\u001b[1;33m.\u001b[0m\u001b[0msubs\u001b[0m\u001b[1;33m(\u001b[0m\u001b[0mgamma\u001b[0m\u001b[1;33m,\u001b[0m\u001b[0mgv\u001b[0m\u001b[1;33m)\u001b[0m\u001b[1;33m)\u001b[0m \u001b[1;33m+\u001b[0m \u001b[1;36m1e-6\u001b[0m\u001b[1;33m\u001b[0m\u001b[1;33m\u001b[0m\u001b[0m\n",
      "\u001b[1;32m~\\Anaconda3\\lib\\site-packages\\sympy\\solvers\\solvers.py\u001b[0m in \u001b[0;36msolve\u001b[1;34m(f, *symbols, **flags)\u001b[0m\n\u001b[0;32m   1169\u001b[0m     \u001b[1;31m###########################################################################\u001b[0m\u001b[1;33m\u001b[0m\u001b[1;33m\u001b[0m\u001b[1;33m\u001b[0m\u001b[0m\n\u001b[0;32m   1170\u001b[0m     \u001b[1;32mif\u001b[0m \u001b[0mbare_f\u001b[0m\u001b[1;33m:\u001b[0m\u001b[1;33m\u001b[0m\u001b[1;33m\u001b[0m\u001b[0m\n\u001b[1;32m-> 1171\u001b[1;33m         \u001b[0msolution\u001b[0m \u001b[1;33m=\u001b[0m \u001b[0m_solve\u001b[0m\u001b[1;33m(\u001b[0m\u001b[0mf\u001b[0m\u001b[1;33m[\u001b[0m\u001b[1;36m0\u001b[0m\u001b[1;33m]\u001b[0m\u001b[1;33m,\u001b[0m \u001b[1;33m*\u001b[0m\u001b[0msymbols\u001b[0m\u001b[1;33m,\u001b[0m \u001b[1;33m**\u001b[0m\u001b[0mflags\u001b[0m\u001b[1;33m)\u001b[0m\u001b[1;33m\u001b[0m\u001b[1;33m\u001b[0m\u001b[0m\n\u001b[0m\u001b[0;32m   1172\u001b[0m     \u001b[1;32melse\u001b[0m\u001b[1;33m:\u001b[0m\u001b[1;33m\u001b[0m\u001b[1;33m\u001b[0m\u001b[0m\n\u001b[0;32m   1173\u001b[0m         \u001b[0msolution\u001b[0m \u001b[1;33m=\u001b[0m \u001b[0m_solve_system\u001b[0m\u001b[1;33m(\u001b[0m\u001b[0mf\u001b[0m\u001b[1;33m,\u001b[0m \u001b[0msymbols\u001b[0m\u001b[1;33m,\u001b[0m \u001b[1;33m**\u001b[0m\u001b[0mflags\u001b[0m\u001b[1;33m)\u001b[0m\u001b[1;33m\u001b[0m\u001b[1;33m\u001b[0m\u001b[0m\n",
      "\u001b[1;32m~\\Anaconda3\\lib\\site-packages\\sympy\\solvers\\solvers.py\u001b[0m in \u001b[0;36m_solve\u001b[1;34m(f, *symbols, **flags)\u001b[0m\n\u001b[0;32m   1503\u001b[0m         \u001b[1;31m# first see if it really depends on symbol and whether there\u001b[0m\u001b[1;33m\u001b[0m\u001b[1;33m\u001b[0m\u001b[1;33m\u001b[0m\u001b[0m\n\u001b[0;32m   1504\u001b[0m         \u001b[1;31m# is only a linear solution\u001b[0m\u001b[1;33m\u001b[0m\u001b[1;33m\u001b[0m\u001b[1;33m\u001b[0m\u001b[0m\n\u001b[1;32m-> 1505\u001b[1;33m         \u001b[0mf_num\u001b[0m\u001b[1;33m,\u001b[0m \u001b[0msol\u001b[0m \u001b[1;33m=\u001b[0m \u001b[0msolve_linear\u001b[0m\u001b[1;33m(\u001b[0m\u001b[0mf\u001b[0m\u001b[1;33m,\u001b[0m \u001b[0msymbols\u001b[0m\u001b[1;33m=\u001b[0m\u001b[0msymbols\u001b[0m\u001b[1;33m)\u001b[0m\u001b[1;33m\u001b[0m\u001b[1;33m\u001b[0m\u001b[0m\n\u001b[0m\u001b[0;32m   1506\u001b[0m         \u001b[1;32mif\u001b[0m \u001b[0mf_num\u001b[0m \u001b[1;32mis\u001b[0m \u001b[0mS\u001b[0m\u001b[1;33m.\u001b[0m\u001b[0mZero\u001b[0m \u001b[1;32mor\u001b[0m \u001b[0msol\u001b[0m \u001b[1;32mis\u001b[0m \u001b[0mS\u001b[0m\u001b[1;33m.\u001b[0m\u001b[0mNaN\u001b[0m\u001b[1;33m:\u001b[0m\u001b[1;33m\u001b[0m\u001b[1;33m\u001b[0m\u001b[0m\n\u001b[0;32m   1507\u001b[0m             \u001b[1;32mreturn\u001b[0m \u001b[1;33m[\u001b[0m\u001b[1;33m]\u001b[0m\u001b[1;33m\u001b[0m\u001b[1;33m\u001b[0m\u001b[0m\n",
      "\u001b[1;32m~\\Anaconda3\\lib\\site-packages\\sympy\\solvers\\solvers.py\u001b[0m in \u001b[0;36msolve_linear\u001b[1;34m(lhs, rhs, symbols, exclude)\u001b[0m\n\u001b[0;32m   2123\u001b[0m         \u001b[1;31m# of its free symbols\u001b[0m\u001b[1;33m\u001b[0m\u001b[1;33m\u001b[0m\u001b[1;33m\u001b[0m\u001b[0m\n\u001b[0;32m   2124\u001b[0m         \u001b[0mfree\u001b[0m \u001b[1;33m=\u001b[0m \u001b[0mdnewn_dxi\u001b[0m\u001b[1;33m.\u001b[0m\u001b[0mfree_symbols\u001b[0m\u001b[1;33m\u001b[0m\u001b[1;33m\u001b[0m\u001b[0m\n\u001b[1;32m-> 2125\u001b[1;33m         \u001b[1;32mif\u001b[0m \u001b[0mdnewn_dxi\u001b[0m \u001b[1;32mand\u001b[0m \u001b[1;33m(\u001b[0m\u001b[1;32mnot\u001b[0m \u001b[0mfree\u001b[0m \u001b[1;32mor\u001b[0m \u001b[0many\u001b[0m\u001b[1;33m(\u001b[0m\u001b[0mdnewn_dxi\u001b[0m\u001b[1;33m.\u001b[0m\u001b[0mdiff\u001b[0m\u001b[1;33m(\u001b[0m\u001b[0ms\u001b[0m\u001b[1;33m)\u001b[0m \u001b[1;32mfor\u001b[0m \u001b[0ms\u001b[0m \u001b[1;32min\u001b[0m \u001b[0mfree\u001b[0m\u001b[1;33m)\u001b[0m\u001b[1;33m)\u001b[0m\u001b[1;33m:\u001b[0m\u001b[1;33m\u001b[0m\u001b[1;33m\u001b[0m\u001b[0m\n\u001b[0m\u001b[0;32m   2126\u001b[0m             \u001b[0mall_zero\u001b[0m \u001b[1;33m=\u001b[0m \u001b[1;32mFalse\u001b[0m\u001b[1;33m\u001b[0m\u001b[1;33m\u001b[0m\u001b[0m\n\u001b[0;32m   2127\u001b[0m             \u001b[1;32mif\u001b[0m \u001b[0mdnewn_dxi\u001b[0m \u001b[1;32mis\u001b[0m \u001b[0mS\u001b[0m\u001b[1;33m.\u001b[0m\u001b[0mNaN\u001b[0m\u001b[1;33m:\u001b[0m\u001b[1;33m\u001b[0m\u001b[1;33m\u001b[0m\u001b[0m\n",
      "\u001b[1;32m~\\Anaconda3\\lib\\site-packages\\sympy\\solvers\\solvers.py\u001b[0m in \u001b[0;36m<genexpr>\u001b[1;34m(.0)\u001b[0m\n\u001b[0;32m   2123\u001b[0m         \u001b[1;31m# of its free symbols\u001b[0m\u001b[1;33m\u001b[0m\u001b[1;33m\u001b[0m\u001b[1;33m\u001b[0m\u001b[0m\n\u001b[0;32m   2124\u001b[0m         \u001b[0mfree\u001b[0m \u001b[1;33m=\u001b[0m \u001b[0mdnewn_dxi\u001b[0m\u001b[1;33m.\u001b[0m\u001b[0mfree_symbols\u001b[0m\u001b[1;33m\u001b[0m\u001b[1;33m\u001b[0m\u001b[0m\n\u001b[1;32m-> 2125\u001b[1;33m         \u001b[1;32mif\u001b[0m \u001b[0mdnewn_dxi\u001b[0m \u001b[1;32mand\u001b[0m \u001b[1;33m(\u001b[0m\u001b[1;32mnot\u001b[0m \u001b[0mfree\u001b[0m \u001b[1;32mor\u001b[0m \u001b[0many\u001b[0m\u001b[1;33m(\u001b[0m\u001b[0mdnewn_dxi\u001b[0m\u001b[1;33m.\u001b[0m\u001b[0mdiff\u001b[0m\u001b[1;33m(\u001b[0m\u001b[0ms\u001b[0m\u001b[1;33m)\u001b[0m \u001b[1;32mfor\u001b[0m \u001b[0ms\u001b[0m \u001b[1;32min\u001b[0m \u001b[0mfree\u001b[0m\u001b[1;33m)\u001b[0m\u001b[1;33m)\u001b[0m\u001b[1;33m:\u001b[0m\u001b[1;33m\u001b[0m\u001b[1;33m\u001b[0m\u001b[0m\n\u001b[0m\u001b[0;32m   2126\u001b[0m             \u001b[0mall_zero\u001b[0m \u001b[1;33m=\u001b[0m \u001b[1;32mFalse\u001b[0m\u001b[1;33m\u001b[0m\u001b[1;33m\u001b[0m\u001b[0m\n\u001b[0;32m   2127\u001b[0m             \u001b[1;32mif\u001b[0m \u001b[0mdnewn_dxi\u001b[0m \u001b[1;32mis\u001b[0m \u001b[0mS\u001b[0m\u001b[1;33m.\u001b[0m\u001b[0mNaN\u001b[0m\u001b[1;33m:\u001b[0m\u001b[1;33m\u001b[0m\u001b[1;33m\u001b[0m\u001b[0m\n",
      "\u001b[1;32m~\\Anaconda3\\lib\\site-packages\\sympy\\core\\expr.py\u001b[0m in \u001b[0;36mdiff\u001b[1;34m(self, *symbols, **assumptions)\u001b[0m\n\u001b[0;32m   3093\u001b[0m     \u001b[1;32mdef\u001b[0m \u001b[0mdiff\u001b[0m\u001b[1;33m(\u001b[0m\u001b[0mself\u001b[0m\u001b[1;33m,\u001b[0m \u001b[1;33m*\u001b[0m\u001b[0msymbols\u001b[0m\u001b[1;33m,\u001b[0m \u001b[1;33m**\u001b[0m\u001b[0massumptions\u001b[0m\u001b[1;33m)\u001b[0m\u001b[1;33m:\u001b[0m\u001b[1;33m\u001b[0m\u001b[1;33m\u001b[0m\u001b[0m\n\u001b[0;32m   3094\u001b[0m         \u001b[0massumptions\u001b[0m\u001b[1;33m.\u001b[0m\u001b[0msetdefault\u001b[0m\u001b[1;33m(\u001b[0m\u001b[1;34m\"evaluate\"\u001b[0m\u001b[1;33m,\u001b[0m \u001b[1;32mTrue\u001b[0m\u001b[1;33m)\u001b[0m\u001b[1;33m\u001b[0m\u001b[1;33m\u001b[0m\u001b[0m\n\u001b[1;32m-> 3095\u001b[1;33m         \u001b[1;32mreturn\u001b[0m \u001b[0mDerivative\u001b[0m\u001b[1;33m(\u001b[0m\u001b[0mself\u001b[0m\u001b[1;33m,\u001b[0m \u001b[1;33m*\u001b[0m\u001b[0msymbols\u001b[0m\u001b[1;33m,\u001b[0m \u001b[1;33m**\u001b[0m\u001b[0massumptions\u001b[0m\u001b[1;33m)\u001b[0m\u001b[1;33m\u001b[0m\u001b[1;33m\u001b[0m\u001b[0m\n\u001b[0m\u001b[0;32m   3096\u001b[0m \u001b[1;33m\u001b[0m\u001b[0m\n\u001b[0;32m   3097\u001b[0m     \u001b[1;31m###########################################################################\u001b[0m\u001b[1;33m\u001b[0m\u001b[1;33m\u001b[0m\u001b[1;33m\u001b[0m\u001b[0m\n",
      "\u001b[1;32m~\\Anaconda3\\lib\\site-packages\\sympy\\core\\function.py\u001b[0m in \u001b[0;36m__new__\u001b[1;34m(cls, expr, *variables, **kwargs)\u001b[0m\n\u001b[0;32m   1390\u001b[0m             \u001b[1;31m# object, the default in `Basic` will call a loop over\u001b[0m\u001b[1;33m\u001b[0m\u001b[1;33m\u001b[0m\u001b[1;33m\u001b[0m\u001b[0m\n\u001b[0;32m   1391\u001b[0m             \u001b[1;31m# `_eval_derivative`:\u001b[0m\u001b[1;33m\u001b[0m\u001b[1;33m\u001b[0m\u001b[1;33m\u001b[0m\u001b[0m\n\u001b[1;32m-> 1392\u001b[1;33m             \u001b[0mobj\u001b[0m \u001b[1;33m=\u001b[0m \u001b[0mexpr\u001b[0m\u001b[1;33m.\u001b[0m\u001b[0m_eval_derivative_n_times\u001b[0m\u001b[1;33m(\u001b[0m\u001b[0mv\u001b[0m\u001b[1;33m,\u001b[0m \u001b[0mcount\u001b[0m\u001b[1;33m)\u001b[0m\u001b[1;33m\u001b[0m\u001b[1;33m\u001b[0m\u001b[0m\n\u001b[0m\u001b[0;32m   1393\u001b[0m             \u001b[1;32mif\u001b[0m \u001b[0mobj\u001b[0m \u001b[1;32mis\u001b[0m \u001b[1;32mnot\u001b[0m \u001b[1;32mNone\u001b[0m \u001b[1;32mand\u001b[0m \u001b[0mobj\u001b[0m\u001b[1;33m.\u001b[0m\u001b[0mis_zero\u001b[0m\u001b[1;33m:\u001b[0m\u001b[1;33m\u001b[0m\u001b[1;33m\u001b[0m\u001b[0m\n\u001b[0;32m   1394\u001b[0m                 \u001b[1;32mreturn\u001b[0m \u001b[0mobj\u001b[0m\u001b[1;33m\u001b[0m\u001b[1;33m\u001b[0m\u001b[0m\n",
      "\u001b[1;32m~\\Anaconda3\\lib\\site-packages\\sympy\\core\\basic.py\u001b[0m in \u001b[0;36m_eval_derivative_n_times\u001b[1;34m(self, s, n)\u001b[0m\n\u001b[0;32m   1680\u001b[0m             \u001b[0mobj\u001b[0m \u001b[1;33m=\u001b[0m \u001b[0mself\u001b[0m\u001b[1;33m\u001b[0m\u001b[1;33m\u001b[0m\u001b[0m\n\u001b[0;32m   1681\u001b[0m             \u001b[1;32mfor\u001b[0m \u001b[0mi\u001b[0m \u001b[1;32min\u001b[0m \u001b[0mrange\u001b[0m\u001b[1;33m(\u001b[0m\u001b[0mn\u001b[0m\u001b[1;33m)\u001b[0m\u001b[1;33m:\u001b[0m\u001b[1;33m\u001b[0m\u001b[1;33m\u001b[0m\u001b[0m\n\u001b[1;32m-> 1682\u001b[1;33m                 \u001b[0mobj2\u001b[0m \u001b[1;33m=\u001b[0m \u001b[0mobj\u001b[0m\u001b[1;33m.\u001b[0m\u001b[0m_accept_eval_derivative\u001b[0m\u001b[1;33m(\u001b[0m\u001b[0ms\u001b[0m\u001b[1;33m)\u001b[0m\u001b[1;33m\u001b[0m\u001b[1;33m\u001b[0m\u001b[0m\n\u001b[0m\u001b[0;32m   1683\u001b[0m                 \u001b[1;32mif\u001b[0m \u001b[0mobj\u001b[0m \u001b[1;33m==\u001b[0m \u001b[0mobj2\u001b[0m \u001b[1;32mor\u001b[0m \u001b[0mobj2\u001b[0m \u001b[1;32mis\u001b[0m \u001b[1;32mNone\u001b[0m\u001b[1;33m:\u001b[0m\u001b[1;33m\u001b[0m\u001b[1;33m\u001b[0m\u001b[0m\n\u001b[0;32m   1684\u001b[0m                     \u001b[1;32mbreak\u001b[0m\u001b[1;33m\u001b[0m\u001b[1;33m\u001b[0m\u001b[0m\n",
      "\u001b[1;32m~\\Anaconda3\\lib\\site-packages\\sympy\\core\\basic.py\u001b[0m in \u001b[0;36m_accept_eval_derivative\u001b[1;34m(self, s)\u001b[0m\n\u001b[0;32m   1656\u001b[0m     \u001b[1;32mdef\u001b[0m \u001b[0m_accept_eval_derivative\u001b[0m\u001b[1;33m(\u001b[0m\u001b[0mself\u001b[0m\u001b[1;33m,\u001b[0m \u001b[0ms\u001b[0m\u001b[1;33m)\u001b[0m\u001b[1;33m:\u001b[0m\u001b[1;33m\u001b[0m\u001b[1;33m\u001b[0m\u001b[0m\n\u001b[0;32m   1657\u001b[0m         \u001b[1;31m# This method needs to be overridden by array-like objects\u001b[0m\u001b[1;33m\u001b[0m\u001b[1;33m\u001b[0m\u001b[1;33m\u001b[0m\u001b[0m\n\u001b[1;32m-> 1658\u001b[1;33m         \u001b[1;32mreturn\u001b[0m \u001b[0ms\u001b[0m\u001b[1;33m.\u001b[0m\u001b[0m_visit_eval_derivative_scalar\u001b[0m\u001b[1;33m(\u001b[0m\u001b[0mself\u001b[0m\u001b[1;33m)\u001b[0m\u001b[1;33m\u001b[0m\u001b[1;33m\u001b[0m\u001b[0m\n\u001b[0m\u001b[0;32m   1659\u001b[0m \u001b[1;33m\u001b[0m\u001b[0m\n\u001b[0;32m   1660\u001b[0m     \u001b[1;32mdef\u001b[0m \u001b[0m_visit_eval_derivative_scalar\u001b[0m\u001b[1;33m(\u001b[0m\u001b[0mself\u001b[0m\u001b[1;33m,\u001b[0m \u001b[0mbase\u001b[0m\u001b[1;33m)\u001b[0m\u001b[1;33m:\u001b[0m\u001b[1;33m\u001b[0m\u001b[1;33m\u001b[0m\u001b[0m\n",
      "\u001b[1;32m~\\Anaconda3\\lib\\site-packages\\sympy\\core\\basic.py\u001b[0m in \u001b[0;36m_visit_eval_derivative_scalar\u001b[1;34m(self, base)\u001b[0m\n\u001b[0;32m   1661\u001b[0m         \u001b[1;31m# Base is a scalar\u001b[0m\u001b[1;33m\u001b[0m\u001b[1;33m\u001b[0m\u001b[1;33m\u001b[0m\u001b[0m\n\u001b[0;32m   1662\u001b[0m         \u001b[1;31m# Types are (base: scalar, self: scalar)\u001b[0m\u001b[1;33m\u001b[0m\u001b[1;33m\u001b[0m\u001b[1;33m\u001b[0m\u001b[0m\n\u001b[1;32m-> 1663\u001b[1;33m         \u001b[1;32mreturn\u001b[0m \u001b[0mbase\u001b[0m\u001b[1;33m.\u001b[0m\u001b[0m_eval_derivative\u001b[0m\u001b[1;33m(\u001b[0m\u001b[0mself\u001b[0m\u001b[1;33m)\u001b[0m\u001b[1;33m\u001b[0m\u001b[1;33m\u001b[0m\u001b[0m\n\u001b[0m\u001b[0;32m   1664\u001b[0m \u001b[1;33m\u001b[0m\u001b[0m\n\u001b[0;32m   1665\u001b[0m     \u001b[1;32mdef\u001b[0m \u001b[0m_visit_eval_derivative_array\u001b[0m\u001b[1;33m(\u001b[0m\u001b[0mself\u001b[0m\u001b[1;33m,\u001b[0m \u001b[0mbase\u001b[0m\u001b[1;33m)\u001b[0m\u001b[1;33m:\u001b[0m\u001b[1;33m\u001b[0m\u001b[1;33m\u001b[0m\u001b[0m\n",
      "\u001b[1;32m~\\Anaconda3\\lib\\site-packages\\sympy\\core\\add.py\u001b[0m in \u001b[0;36m_eval_derivative\u001b[1;34m(self, s)\u001b[0m\n\u001b[0;32m    392\u001b[0m     \u001b[1;33m@\u001b[0m\u001b[0mcacheit\u001b[0m\u001b[1;33m\u001b[0m\u001b[1;33m\u001b[0m\u001b[0m\n\u001b[0;32m    393\u001b[0m     \u001b[1;32mdef\u001b[0m \u001b[0m_eval_derivative\u001b[0m\u001b[1;33m(\u001b[0m\u001b[0mself\u001b[0m\u001b[1;33m,\u001b[0m \u001b[0ms\u001b[0m\u001b[1;33m)\u001b[0m\u001b[1;33m:\u001b[0m\u001b[1;33m\u001b[0m\u001b[1;33m\u001b[0m\u001b[0m\n\u001b[1;32m--> 394\u001b[1;33m         \u001b[1;32mreturn\u001b[0m \u001b[0mself\u001b[0m\u001b[1;33m.\u001b[0m\u001b[0mfunc\u001b[0m\u001b[1;33m(\u001b[0m\u001b[1;33m*\u001b[0m\u001b[1;33m[\u001b[0m\u001b[0ma\u001b[0m\u001b[1;33m.\u001b[0m\u001b[0mdiff\u001b[0m\u001b[1;33m(\u001b[0m\u001b[0ms\u001b[0m\u001b[1;33m)\u001b[0m \u001b[1;32mfor\u001b[0m \u001b[0ma\u001b[0m \u001b[1;32min\u001b[0m \u001b[0mself\u001b[0m\u001b[1;33m.\u001b[0m\u001b[0margs\u001b[0m\u001b[1;33m]\u001b[0m\u001b[1;33m)\u001b[0m\u001b[1;33m\u001b[0m\u001b[1;33m\u001b[0m\u001b[0m\n\u001b[0m\u001b[0;32m    395\u001b[0m \u001b[1;33m\u001b[0m\u001b[0m\n\u001b[0;32m    396\u001b[0m     \u001b[1;32mdef\u001b[0m \u001b[0m_eval_nseries\u001b[0m\u001b[1;33m(\u001b[0m\u001b[0mself\u001b[0m\u001b[1;33m,\u001b[0m \u001b[0mx\u001b[0m\u001b[1;33m,\u001b[0m \u001b[0mn\u001b[0m\u001b[1;33m,\u001b[0m \u001b[0mlogx\u001b[0m\u001b[1;33m)\u001b[0m\u001b[1;33m:\u001b[0m\u001b[1;33m\u001b[0m\u001b[1;33m\u001b[0m\u001b[0m\n",
      "\u001b[1;32m~\\Anaconda3\\lib\\site-packages\\sympy\\core\\add.py\u001b[0m in \u001b[0;36m<listcomp>\u001b[1;34m(.0)\u001b[0m\n\u001b[0;32m    392\u001b[0m     \u001b[1;33m@\u001b[0m\u001b[0mcacheit\u001b[0m\u001b[1;33m\u001b[0m\u001b[1;33m\u001b[0m\u001b[0m\n\u001b[0;32m    393\u001b[0m     \u001b[1;32mdef\u001b[0m \u001b[0m_eval_derivative\u001b[0m\u001b[1;33m(\u001b[0m\u001b[0mself\u001b[0m\u001b[1;33m,\u001b[0m \u001b[0ms\u001b[0m\u001b[1;33m)\u001b[0m\u001b[1;33m:\u001b[0m\u001b[1;33m\u001b[0m\u001b[1;33m\u001b[0m\u001b[0m\n\u001b[1;32m--> 394\u001b[1;33m         \u001b[1;32mreturn\u001b[0m \u001b[0mself\u001b[0m\u001b[1;33m.\u001b[0m\u001b[0mfunc\u001b[0m\u001b[1;33m(\u001b[0m\u001b[1;33m*\u001b[0m\u001b[1;33m[\u001b[0m\u001b[0ma\u001b[0m\u001b[1;33m.\u001b[0m\u001b[0mdiff\u001b[0m\u001b[1;33m(\u001b[0m\u001b[0ms\u001b[0m\u001b[1;33m)\u001b[0m \u001b[1;32mfor\u001b[0m \u001b[0ma\u001b[0m \u001b[1;32min\u001b[0m \u001b[0mself\u001b[0m\u001b[1;33m.\u001b[0m\u001b[0margs\u001b[0m\u001b[1;33m]\u001b[0m\u001b[1;33m)\u001b[0m\u001b[1;33m\u001b[0m\u001b[1;33m\u001b[0m\u001b[0m\n\u001b[0m\u001b[0;32m    395\u001b[0m \u001b[1;33m\u001b[0m\u001b[0m\n\u001b[0;32m    396\u001b[0m     \u001b[1;32mdef\u001b[0m \u001b[0m_eval_nseries\u001b[0m\u001b[1;33m(\u001b[0m\u001b[0mself\u001b[0m\u001b[1;33m,\u001b[0m \u001b[0mx\u001b[0m\u001b[1;33m,\u001b[0m \u001b[0mn\u001b[0m\u001b[1;33m,\u001b[0m \u001b[0mlogx\u001b[0m\u001b[1;33m)\u001b[0m\u001b[1;33m:\u001b[0m\u001b[1;33m\u001b[0m\u001b[1;33m\u001b[0m\u001b[0m\n",
      "\u001b[1;32m~\\Anaconda3\\lib\\site-packages\\sympy\\core\\expr.py\u001b[0m in \u001b[0;36mdiff\u001b[1;34m(self, *symbols, **assumptions)\u001b[0m\n\u001b[0;32m   3093\u001b[0m     \u001b[1;32mdef\u001b[0m \u001b[0mdiff\u001b[0m\u001b[1;33m(\u001b[0m\u001b[0mself\u001b[0m\u001b[1;33m,\u001b[0m \u001b[1;33m*\u001b[0m\u001b[0msymbols\u001b[0m\u001b[1;33m,\u001b[0m \u001b[1;33m**\u001b[0m\u001b[0massumptions\u001b[0m\u001b[1;33m)\u001b[0m\u001b[1;33m:\u001b[0m\u001b[1;33m\u001b[0m\u001b[1;33m\u001b[0m\u001b[0m\n\u001b[0;32m   3094\u001b[0m         \u001b[0massumptions\u001b[0m\u001b[1;33m.\u001b[0m\u001b[0msetdefault\u001b[0m\u001b[1;33m(\u001b[0m\u001b[1;34m\"evaluate\"\u001b[0m\u001b[1;33m,\u001b[0m \u001b[1;32mTrue\u001b[0m\u001b[1;33m)\u001b[0m\u001b[1;33m\u001b[0m\u001b[1;33m\u001b[0m\u001b[0m\n\u001b[1;32m-> 3095\u001b[1;33m         \u001b[1;32mreturn\u001b[0m \u001b[0mDerivative\u001b[0m\u001b[1;33m(\u001b[0m\u001b[0mself\u001b[0m\u001b[1;33m,\u001b[0m \u001b[1;33m*\u001b[0m\u001b[0msymbols\u001b[0m\u001b[1;33m,\u001b[0m \u001b[1;33m**\u001b[0m\u001b[0massumptions\u001b[0m\u001b[1;33m)\u001b[0m\u001b[1;33m\u001b[0m\u001b[1;33m\u001b[0m\u001b[0m\n\u001b[0m\u001b[0;32m   3096\u001b[0m \u001b[1;33m\u001b[0m\u001b[0m\n\u001b[0;32m   3097\u001b[0m     \u001b[1;31m###########################################################################\u001b[0m\u001b[1;33m\u001b[0m\u001b[1;33m\u001b[0m\u001b[1;33m\u001b[0m\u001b[0m\n",
      "\u001b[1;32m~\\Anaconda3\\lib\\site-packages\\sympy\\core\\function.py\u001b[0m in \u001b[0;36m__new__\u001b[1;34m(cls, expr, *variables, **kwargs)\u001b[0m\n\u001b[0;32m   1391\u001b[0m             \u001b[1;31m# `_eval_derivative`:\u001b[0m\u001b[1;33m\u001b[0m\u001b[1;33m\u001b[0m\u001b[1;33m\u001b[0m\u001b[0m\n\u001b[0;32m   1392\u001b[0m             \u001b[0mobj\u001b[0m \u001b[1;33m=\u001b[0m \u001b[0mexpr\u001b[0m\u001b[1;33m.\u001b[0m\u001b[0m_eval_derivative_n_times\u001b[0m\u001b[1;33m(\u001b[0m\u001b[0mv\u001b[0m\u001b[1;33m,\u001b[0m \u001b[0mcount\u001b[0m\u001b[1;33m)\u001b[0m\u001b[1;33m\u001b[0m\u001b[1;33m\u001b[0m\u001b[0m\n\u001b[1;32m-> 1393\u001b[1;33m             \u001b[1;32mif\u001b[0m \u001b[0mobj\u001b[0m \u001b[1;32mis\u001b[0m \u001b[1;32mnot\u001b[0m \u001b[1;32mNone\u001b[0m \u001b[1;32mand\u001b[0m \u001b[0mobj\u001b[0m\u001b[1;33m.\u001b[0m\u001b[0mis_zero\u001b[0m\u001b[1;33m:\u001b[0m\u001b[1;33m\u001b[0m\u001b[1;33m\u001b[0m\u001b[0m\n\u001b[0m\u001b[0;32m   1394\u001b[0m                 \u001b[1;32mreturn\u001b[0m \u001b[0mobj\u001b[0m\u001b[1;33m\u001b[0m\u001b[1;33m\u001b[0m\u001b[0m\n\u001b[0;32m   1395\u001b[0m \u001b[1;33m\u001b[0m\u001b[0m\n",
      "\u001b[1;32m~\\Anaconda3\\lib\\site-packages\\sympy\\core\\assumptions.py\u001b[0m in \u001b[0;36mgetit\u001b[1;34m(self)\u001b[0m\n\u001b[0;32m    246\u001b[0m             \u001b[1;32mif\u001b[0m \u001b[0mself\u001b[0m\u001b[1;33m.\u001b[0m\u001b[0m_assumptions\u001b[0m \u001b[1;32mis\u001b[0m \u001b[0mself\u001b[0m\u001b[1;33m.\u001b[0m\u001b[0mdefault_assumptions\u001b[0m\u001b[1;33m:\u001b[0m\u001b[1;33m\u001b[0m\u001b[1;33m\u001b[0m\u001b[0m\n\u001b[0;32m    247\u001b[0m                 \u001b[0mself\u001b[0m\u001b[1;33m.\u001b[0m\u001b[0m_assumptions\u001b[0m \u001b[1;33m=\u001b[0m \u001b[0mself\u001b[0m\u001b[1;33m.\u001b[0m\u001b[0mdefault_assumptions\u001b[0m\u001b[1;33m.\u001b[0m\u001b[0mcopy\u001b[0m\u001b[1;33m(\u001b[0m\u001b[1;33m)\u001b[0m\u001b[1;33m\u001b[0m\u001b[1;33m\u001b[0m\u001b[0m\n\u001b[1;32m--> 248\u001b[1;33m             \u001b[1;32mreturn\u001b[0m \u001b[0m_ask\u001b[0m\u001b[1;33m(\u001b[0m\u001b[0mfact\u001b[0m\u001b[1;33m,\u001b[0m \u001b[0mself\u001b[0m\u001b[1;33m)\u001b[0m\u001b[1;33m\u001b[0m\u001b[1;33m\u001b[0m\u001b[0m\n\u001b[0m\u001b[0;32m    249\u001b[0m \u001b[1;33m\u001b[0m\u001b[0m\n\u001b[0;32m    250\u001b[0m     \u001b[0mgetit\u001b[0m\u001b[1;33m.\u001b[0m\u001b[0mfunc_name\u001b[0m \u001b[1;33m=\u001b[0m \u001b[0mas_property\u001b[0m\u001b[1;33m(\u001b[0m\u001b[0mfact\u001b[0m\u001b[1;33m)\u001b[0m\u001b[1;33m\u001b[0m\u001b[1;33m\u001b[0m\u001b[0m\n",
      "\u001b[1;32m~\\Anaconda3\\lib\\site-packages\\sympy\\core\\assumptions.py\u001b[0m in \u001b[0;36m_ask\u001b[1;34m(fact, obj)\u001b[0m\n\u001b[0;32m    289\u001b[0m         \u001b[1;32mpass\u001b[0m\u001b[1;33m\u001b[0m\u001b[1;33m\u001b[0m\u001b[0m\n\u001b[0;32m    290\u001b[0m     \u001b[1;32melse\u001b[0m\u001b[1;33m:\u001b[0m\u001b[1;33m\u001b[0m\u001b[1;33m\u001b[0m\u001b[0m\n\u001b[1;32m--> 291\u001b[1;33m         \u001b[0ma\u001b[0m \u001b[1;33m=\u001b[0m \u001b[0mevaluate\u001b[0m\u001b[1;33m(\u001b[0m\u001b[0mobj\u001b[0m\u001b[1;33m)\u001b[0m\u001b[1;33m\u001b[0m\u001b[1;33m\u001b[0m\u001b[0m\n\u001b[0m\u001b[0;32m    292\u001b[0m         \u001b[1;32mif\u001b[0m \u001b[0ma\u001b[0m \u001b[1;32mis\u001b[0m \u001b[1;32mnot\u001b[0m \u001b[1;32mNone\u001b[0m\u001b[1;33m:\u001b[0m\u001b[1;33m\u001b[0m\u001b[1;33m\u001b[0m\u001b[0m\n\u001b[0;32m    293\u001b[0m             \u001b[0massumptions\u001b[0m\u001b[1;33m.\u001b[0m\u001b[0mdeduce_all_facts\u001b[0m\u001b[1;33m(\u001b[0m\u001b[1;33m(\u001b[0m\u001b[1;33m(\u001b[0m\u001b[0mfact\u001b[0m\u001b[1;33m,\u001b[0m \u001b[0ma\u001b[0m\u001b[1;33m)\u001b[0m\u001b[1;33m,\u001b[0m\u001b[1;33m)\u001b[0m\u001b[1;33m)\u001b[0m\u001b[1;33m\u001b[0m\u001b[1;33m\u001b[0m\u001b[0m\n",
      "\u001b[1;32m~\\Anaconda3\\lib\\site-packages\\sympy\\core\\add.py\u001b[0m in \u001b[0;36m_eval_is_zero\u001b[1;34m(self)\u001b[0m\n\u001b[0;32m    546\u001b[0m         \u001b[0mim\u001b[0m \u001b[1;33m=\u001b[0m \u001b[1;32mFalse\u001b[0m\u001b[1;33m\u001b[0m\u001b[1;33m\u001b[0m\u001b[0m\n\u001b[0;32m    547\u001b[0m         \u001b[1;32mfor\u001b[0m \u001b[0ma\u001b[0m \u001b[1;32min\u001b[0m \u001b[0mself\u001b[0m\u001b[1;33m.\u001b[0m\u001b[0margs\u001b[0m\u001b[1;33m:\u001b[0m\u001b[1;33m\u001b[0m\u001b[1;33m\u001b[0m\u001b[0m\n\u001b[1;32m--> 548\u001b[1;33m             \u001b[1;32mif\u001b[0m \u001b[0ma\u001b[0m\u001b[1;33m.\u001b[0m\u001b[0mis_real\u001b[0m\u001b[1;33m:\u001b[0m\u001b[1;33m\u001b[0m\u001b[1;33m\u001b[0m\u001b[0m\n\u001b[0m\u001b[0;32m    549\u001b[0m                 \u001b[1;32mif\u001b[0m \u001b[0ma\u001b[0m\u001b[1;33m.\u001b[0m\u001b[0mis_zero\u001b[0m\u001b[1;33m:\u001b[0m\u001b[1;33m\u001b[0m\u001b[1;33m\u001b[0m\u001b[0m\n\u001b[0;32m    550\u001b[0m                     \u001b[0mz\u001b[0m \u001b[1;33m+=\u001b[0m \u001b[1;36m1\u001b[0m\u001b[1;33m\u001b[0m\u001b[1;33m\u001b[0m\u001b[0m\n",
      "\u001b[1;32m~\\Anaconda3\\lib\\site-packages\\sympy\\core\\assumptions.py\u001b[0m in \u001b[0;36mgetit\u001b[1;34m(self)\u001b[0m\n\u001b[0;32m    246\u001b[0m             \u001b[1;32mif\u001b[0m \u001b[0mself\u001b[0m\u001b[1;33m.\u001b[0m\u001b[0m_assumptions\u001b[0m \u001b[1;32mis\u001b[0m \u001b[0mself\u001b[0m\u001b[1;33m.\u001b[0m\u001b[0mdefault_assumptions\u001b[0m\u001b[1;33m:\u001b[0m\u001b[1;33m\u001b[0m\u001b[1;33m\u001b[0m\u001b[0m\n\u001b[0;32m    247\u001b[0m                 \u001b[0mself\u001b[0m\u001b[1;33m.\u001b[0m\u001b[0m_assumptions\u001b[0m \u001b[1;33m=\u001b[0m \u001b[0mself\u001b[0m\u001b[1;33m.\u001b[0m\u001b[0mdefault_assumptions\u001b[0m\u001b[1;33m.\u001b[0m\u001b[0mcopy\u001b[0m\u001b[1;33m(\u001b[0m\u001b[1;33m)\u001b[0m\u001b[1;33m\u001b[0m\u001b[1;33m\u001b[0m\u001b[0m\n\u001b[1;32m--> 248\u001b[1;33m             \u001b[1;32mreturn\u001b[0m \u001b[0m_ask\u001b[0m\u001b[1;33m(\u001b[0m\u001b[0mfact\u001b[0m\u001b[1;33m,\u001b[0m \u001b[0mself\u001b[0m\u001b[1;33m)\u001b[0m\u001b[1;33m\u001b[0m\u001b[1;33m\u001b[0m\u001b[0m\n\u001b[0m\u001b[0;32m    249\u001b[0m \u001b[1;33m\u001b[0m\u001b[0m\n\u001b[0;32m    250\u001b[0m     \u001b[0mgetit\u001b[0m\u001b[1;33m.\u001b[0m\u001b[0mfunc_name\u001b[0m \u001b[1;33m=\u001b[0m \u001b[0mas_property\u001b[0m\u001b[1;33m(\u001b[0m\u001b[0mfact\u001b[0m\u001b[1;33m)\u001b[0m\u001b[1;33m\u001b[0m\u001b[1;33m\u001b[0m\u001b[0m\n",
      "\u001b[1;32m~\\Anaconda3\\lib\\site-packages\\sympy\\core\\assumptions.py\u001b[0m in \u001b[0;36m_ask\u001b[1;34m(fact, obj)\u001b[0m\n\u001b[0;32m    301\u001b[0m             \u001b[1;32mcontinue\u001b[0m\u001b[1;33m\u001b[0m\u001b[1;33m\u001b[0m\u001b[0m\n\u001b[0;32m    302\u001b[0m         \u001b[1;32mif\u001b[0m \u001b[0mpk\u001b[0m \u001b[1;32min\u001b[0m \u001b[0mhandler_map\u001b[0m\u001b[1;33m:\u001b[0m\u001b[1;33m\u001b[0m\u001b[1;33m\u001b[0m\u001b[0m\n\u001b[1;32m--> 303\u001b[1;33m             \u001b[0m_ask\u001b[0m\u001b[1;33m(\u001b[0m\u001b[0mpk\u001b[0m\u001b[1;33m,\u001b[0m \u001b[0mobj\u001b[0m\u001b[1;33m)\u001b[0m\u001b[1;33m\u001b[0m\u001b[1;33m\u001b[0m\u001b[0m\n\u001b[0m\u001b[0;32m    304\u001b[0m \u001b[1;33m\u001b[0m\u001b[0m\n\u001b[0;32m    305\u001b[0m             \u001b[1;31m# we might have found the value of fact\u001b[0m\u001b[1;33m\u001b[0m\u001b[1;33m\u001b[0m\u001b[1;33m\u001b[0m\u001b[0m\n",
      "\u001b[1;32m~\\Anaconda3\\lib\\site-packages\\sympy\\core\\assumptions.py\u001b[0m in \u001b[0;36m_ask\u001b[1;34m(fact, obj)\u001b[0m\n\u001b[0;32m    289\u001b[0m         \u001b[1;32mpass\u001b[0m\u001b[1;33m\u001b[0m\u001b[1;33m\u001b[0m\u001b[0m\n\u001b[0;32m    290\u001b[0m     \u001b[1;32melse\u001b[0m\u001b[1;33m:\u001b[0m\u001b[1;33m\u001b[0m\u001b[1;33m\u001b[0m\u001b[0m\n\u001b[1;32m--> 291\u001b[1;33m         \u001b[0ma\u001b[0m \u001b[1;33m=\u001b[0m \u001b[0mevaluate\u001b[0m\u001b[1;33m(\u001b[0m\u001b[0mobj\u001b[0m\u001b[1;33m)\u001b[0m\u001b[1;33m\u001b[0m\u001b[1;33m\u001b[0m\u001b[0m\n\u001b[0m\u001b[0;32m    292\u001b[0m         \u001b[1;32mif\u001b[0m \u001b[0ma\u001b[0m \u001b[1;32mis\u001b[0m \u001b[1;32mnot\u001b[0m \u001b[1;32mNone\u001b[0m\u001b[1;33m:\u001b[0m\u001b[1;33m\u001b[0m\u001b[1;33m\u001b[0m\u001b[0m\n\u001b[0;32m    293\u001b[0m             \u001b[0massumptions\u001b[0m\u001b[1;33m.\u001b[0m\u001b[0mdeduce_all_facts\u001b[0m\u001b[1;33m(\u001b[0m\u001b[1;33m(\u001b[0m\u001b[1;33m(\u001b[0m\u001b[0mfact\u001b[0m\u001b[1;33m,\u001b[0m \u001b[0ma\u001b[0m\u001b[1;33m)\u001b[0m\u001b[1;33m,\u001b[0m\u001b[1;33m)\u001b[0m\u001b[1;33m)\u001b[0m\u001b[1;33m\u001b[0m\u001b[1;33m\u001b[0m\u001b[0m\n",
      "\u001b[1;32m~\\Anaconda3\\lib\\site-packages\\sympy\\core\\mul.py\u001b[0m in \u001b[0;36m_eval_is_composite\u001b[1;34m(self)\u001b[0m\n\u001b[0;32m   1354\u001b[0m \u001b[1;33m\u001b[0m\u001b[0m\n\u001b[0;32m   1355\u001b[0m     \u001b[1;32mdef\u001b[0m \u001b[0m_eval_is_composite\u001b[0m\u001b[1;33m(\u001b[0m\u001b[0mself\u001b[0m\u001b[1;33m)\u001b[0m\u001b[1;33m:\u001b[0m\u001b[1;33m\u001b[0m\u001b[1;33m\u001b[0m\u001b[0m\n\u001b[1;32m-> 1356\u001b[1;33m         \u001b[1;32mif\u001b[0m \u001b[0mself\u001b[0m\u001b[1;33m.\u001b[0m\u001b[0mis_integer\u001b[0m \u001b[1;32mand\u001b[0m \u001b[0mself\u001b[0m\u001b[1;33m.\u001b[0m\u001b[0mis_positive\u001b[0m\u001b[1;33m:\u001b[0m\u001b[1;33m\u001b[0m\u001b[1;33m\u001b[0m\u001b[0m\n\u001b[0m\u001b[0;32m   1357\u001b[0m             \"\"\"\n\u001b[0;32m   1358\u001b[0m             \u001b[0mHere\u001b[0m \u001b[0mwe\u001b[0m \u001b[0mcount\u001b[0m \u001b[0mthe\u001b[0m \u001b[0mnumber\u001b[0m \u001b[0mof\u001b[0m \u001b[0marguments\u001b[0m \u001b[0mthat\u001b[0m \u001b[0mhave\u001b[0m \u001b[0ma\u001b[0m \u001b[0mminimum\u001b[0m \u001b[0mvalue\u001b[0m\u001b[1;33m\u001b[0m\u001b[1;33m\u001b[0m\u001b[0m\n",
      "\u001b[1;32m~\\Anaconda3\\lib\\site-packages\\sympy\\core\\assumptions.py\u001b[0m in \u001b[0;36mgetit\u001b[1;34m(self)\u001b[0m\n\u001b[0;32m    246\u001b[0m             \u001b[1;32mif\u001b[0m \u001b[0mself\u001b[0m\u001b[1;33m.\u001b[0m\u001b[0m_assumptions\u001b[0m \u001b[1;32mis\u001b[0m \u001b[0mself\u001b[0m\u001b[1;33m.\u001b[0m\u001b[0mdefault_assumptions\u001b[0m\u001b[1;33m:\u001b[0m\u001b[1;33m\u001b[0m\u001b[1;33m\u001b[0m\u001b[0m\n\u001b[0;32m    247\u001b[0m                 \u001b[0mself\u001b[0m\u001b[1;33m.\u001b[0m\u001b[0m_assumptions\u001b[0m \u001b[1;33m=\u001b[0m \u001b[0mself\u001b[0m\u001b[1;33m.\u001b[0m\u001b[0mdefault_assumptions\u001b[0m\u001b[1;33m.\u001b[0m\u001b[0mcopy\u001b[0m\u001b[1;33m(\u001b[0m\u001b[1;33m)\u001b[0m\u001b[1;33m\u001b[0m\u001b[1;33m\u001b[0m\u001b[0m\n\u001b[1;32m--> 248\u001b[1;33m             \u001b[1;32mreturn\u001b[0m \u001b[0m_ask\u001b[0m\u001b[1;33m(\u001b[0m\u001b[0mfact\u001b[0m\u001b[1;33m,\u001b[0m \u001b[0mself\u001b[0m\u001b[1;33m)\u001b[0m\u001b[1;33m\u001b[0m\u001b[1;33m\u001b[0m\u001b[0m\n\u001b[0m\u001b[0;32m    249\u001b[0m \u001b[1;33m\u001b[0m\u001b[0m\n\u001b[0;32m    250\u001b[0m     \u001b[0mgetit\u001b[0m\u001b[1;33m.\u001b[0m\u001b[0mfunc_name\u001b[0m \u001b[1;33m=\u001b[0m \u001b[0mas_property\u001b[0m\u001b[1;33m(\u001b[0m\u001b[0mfact\u001b[0m\u001b[1;33m)\u001b[0m\u001b[1;33m\u001b[0m\u001b[1;33m\u001b[0m\u001b[0m\n",
      "\u001b[1;32m~\\Anaconda3\\lib\\site-packages\\sympy\\core\\assumptions.py\u001b[0m in \u001b[0;36m_ask\u001b[1;34m(fact, obj)\u001b[0m\n\u001b[0;32m    296\u001b[0m     \u001b[1;31m# Try assumption's prerequisites\u001b[0m\u001b[1;33m\u001b[0m\u001b[1;33m\u001b[0m\u001b[1;33m\u001b[0m\u001b[0m\n\u001b[0;32m    297\u001b[0m     \u001b[0mprereq\u001b[0m \u001b[1;33m=\u001b[0m \u001b[0mlist\u001b[0m\u001b[1;33m(\u001b[0m\u001b[0m_assume_rules\u001b[0m\u001b[1;33m.\u001b[0m\u001b[0mprereq\u001b[0m\u001b[1;33m[\u001b[0m\u001b[0mfact\u001b[0m\u001b[1;33m]\u001b[0m\u001b[1;33m)\u001b[0m\u001b[1;33m\u001b[0m\u001b[1;33m\u001b[0m\u001b[0m\n\u001b[1;32m--> 298\u001b[1;33m     \u001b[0mshuffle\u001b[0m\u001b[1;33m(\u001b[0m\u001b[0mprereq\u001b[0m\u001b[1;33m)\u001b[0m\u001b[1;33m\u001b[0m\u001b[1;33m\u001b[0m\u001b[0m\n\u001b[0m\u001b[0;32m    299\u001b[0m     \u001b[1;32mfor\u001b[0m \u001b[0mpk\u001b[0m \u001b[1;32min\u001b[0m \u001b[0mprereq\u001b[0m\u001b[1;33m:\u001b[0m\u001b[1;33m\u001b[0m\u001b[1;33m\u001b[0m\u001b[0m\n\u001b[0;32m    300\u001b[0m         \u001b[1;32mif\u001b[0m \u001b[0mpk\u001b[0m \u001b[1;32min\u001b[0m \u001b[0massumptions\u001b[0m\u001b[1;33m:\u001b[0m\u001b[1;33m\u001b[0m\u001b[1;33m\u001b[0m\u001b[0m\n",
      "\u001b[1;32m~\\Anaconda3\\lib\\random.py\u001b[0m in \u001b[0;36mshuffle\u001b[1;34m(self, x, random)\u001b[0m\n\u001b[0;32m    273\u001b[0m         \u001b[1;32mif\u001b[0m \u001b[0mrandom\u001b[0m \u001b[1;32mis\u001b[0m \u001b[1;32mNone\u001b[0m\u001b[1;33m:\u001b[0m\u001b[1;33m\u001b[0m\u001b[1;33m\u001b[0m\u001b[0m\n\u001b[0;32m    274\u001b[0m             \u001b[0mrandbelow\u001b[0m \u001b[1;33m=\u001b[0m \u001b[0mself\u001b[0m\u001b[1;33m.\u001b[0m\u001b[0m_randbelow\u001b[0m\u001b[1;33m\u001b[0m\u001b[1;33m\u001b[0m\u001b[0m\n\u001b[1;32m--> 275\u001b[1;33m             \u001b[1;32mfor\u001b[0m \u001b[0mi\u001b[0m \u001b[1;32min\u001b[0m \u001b[0mreversed\u001b[0m\u001b[1;33m(\u001b[0m\u001b[0mrange\u001b[0m\u001b[1;33m(\u001b[0m\u001b[1;36m1\u001b[0m\u001b[1;33m,\u001b[0m \u001b[0mlen\u001b[0m\u001b[1;33m(\u001b[0m\u001b[0mx\u001b[0m\u001b[1;33m)\u001b[0m\u001b[1;33m)\u001b[0m\u001b[1;33m)\u001b[0m\u001b[1;33m:\u001b[0m\u001b[1;33m\u001b[0m\u001b[1;33m\u001b[0m\u001b[0m\n\u001b[0m\u001b[0;32m    276\u001b[0m                 \u001b[1;31m# pick an element in x[:i+1] with which to exchange x[i]\u001b[0m\u001b[1;33m\u001b[0m\u001b[1;33m\u001b[0m\u001b[1;33m\u001b[0m\u001b[0m\n\u001b[0;32m    277\u001b[0m                 \u001b[0mj\u001b[0m \u001b[1;33m=\u001b[0m \u001b[0mrandbelow\u001b[0m\u001b[1;33m(\u001b[0m\u001b[0mi\u001b[0m\u001b[1;33m+\u001b[0m\u001b[1;36m1\u001b[0m\u001b[1;33m)\u001b[0m\u001b[1;33m\u001b[0m\u001b[1;33m\u001b[0m\u001b[0m\n",
      "\u001b[1;31mKeyboardInterrupt\u001b[0m: "
     ]
    }
   ],
   "source": [
    "gv = 7./5.\n",
    "def f_function(dv):\n",
    "    return shooter_value(dv, gv)\n",
    "scipy.optimize.bisect(f_function, -1,-0.5)\n",
    "#everything is working well!"
   ]
  },
  {
   "cell_type": "markdown",
   "metadata": {},
   "source": [
    "Having issues with gamma >= 2:"
   ]
  },
  {
   "cell_type": "code",
   "execution_count": 23,
   "metadata": {},
   "outputs": [
    {
     "data": {
      "image/png": "[encoded data removed]",
      "text/latex": [
       "$\\displaystyle -1.1140181805506355$"
      ],
      "text/plain": [
       "-1.1140181805506355"
      ]
     },
     "execution_count": 23,
     "metadata": {},
     "output_type": "execute_result"
    }
   ],
   "source": [
    "gv = 2.8\n",
    "def f_function(dv):\n",
    "    return shooter_value(dv, gv)\n",
    "#scipy.optimize.bisect(f_function, -1,-0.5)\n",
    "\n",
    "#print(shooter_value(-0.5948, 2.8)) #zeldovich results are wrong (this should be be very close to 0 according to Zeldovich)????\n",
    "#print(scipy.optimize.bisect(f_function, -0.74,-0.73)) #gives solution delta = -0.73375852\n",
    "#print(scipy.optimize.bisect(f_function, -0.73,-0.71))#gives solution delta = -0.71859226142\n",
    "shooter_value(-1, 2.8)\n",
    "#there are two solutions..."
   ]
  },
  {
   "cell_type": "markdown",
   "metadata": {},
   "source": [
    "Plotting detla(gamma) plot for 1<gamma<2:"
   ]
  },
  {
   "cell_type": "code",
   "execution_count": 33,
   "metadata": {},
   "outputs": [
    {
     "name": "stdout",
     "output_type": "stream",
     "text": [
      "[-0.953627478405906]\n",
      "ERROR, gamma = 1.01\n",
      "[-0.953627478405906, 1, -0.8393031575960777]\n",
      "[-0.953627478405906, 1, -0.8393031575960777, -0.8250649981073366]\n",
      "[-0.953627478405906, 1, -0.8393031575960777, -0.8250649981073366, -0.8119300130911142]\n",
      "[-0.953627478405906, 1, -0.8393031575960777, -0.8250649981073366, -0.8119300130911142, -0.8003341332423588]\n",
      "[-0.953627478405906, 1, -0.8393031575960777, -0.8250649981073366, -0.8119300130911142, -0.8003341332423588, -0.7900839447156613]\n",
      "[-0.953627478405906, 1, -0.8393031575960777, -0.8250649981073366, -0.8119300130911142, -0.8003341332423588, -0.7900839447156613, -0.7809465616683156]\n",
      "[-0.953627478405906, 1, -0.8393031575960777, -0.8250649981073366, -0.8119300130911142, -0.8003341332423588, -0.7900839447156613, -0.7809465616683156, -0.7727276465975592]\n",
      "[-0.953627478405906, 1, -0.8393031575960777, -0.8250649981073366, -0.8119300130911142, -0.8003341332423588, -0.7900839447156613, -0.7809465616683156, -0.7727276465975592, -0.7652743381750042]\n",
      "[-0.953627478405906, 1, -0.8393031575960777, -0.8250649981073366, -0.8119300130911142, -0.8003341332423588, -0.7900839447156613, -0.7809465616683156, -0.7727276465975592, -0.7652743381750042, -0.7584670509040734]\n",
      "[-0.953627478405906, 1, -0.8393031575960777, -0.8250649981073366, -0.8119300130911142, -0.8003341332423588, -0.7900839447156613, -0.7809465616683156, -0.7727276465975592, -0.7652743381750042, -0.7584670509040734, -0.7522113942632132]\n",
      "[-0.953627478405906, 1, -0.8393031575960777, -0.8250649981073366, -0.8119300130911142, -0.8003341332423588, -0.7900839447156613, -0.7809465616683156, -0.7727276465975592, -0.7652743381750042, -0.7584670509040734, -0.7522113942632132, -0.7464319026712474]\n",
      "[-0.953627478405906, 1, -0.8393031575960777, -0.8250649981073366, -0.8119300130911142, -0.8003341332423588, -0.7900839447156613, -0.7809465616683156, -0.7727276465975592, -0.7652743381750042, -0.7584670509040734, -0.7522113942632132, -0.7464319026712474, -0.7410674291440955]\n",
      "[-0.953627478405906, 1, -0.8393031575960777, -0.8250649981073366, -0.8119300130911142, -0.8003341332423588, -0.7900839447156613, -0.7809465616683156, -0.7727276465975592, -0.7652743381750042, -0.7584670509040734, -0.7522113942632132, -0.7464319026712474, -0.7410674291440955, -0.7360677931956161]\n",
      "[-0.953627478405906, 1, -0.8393031575960777, -0.8250649981073366, -0.8119300130911142, -0.8003341332423588, -0.7900839447156613, -0.7809465616683156, -0.7727276465975592, -0.7652743381750042, -0.7584670509040734, -0.7522113942632132, -0.7464319026712474, -0.7410674291440955, -0.7360677931956161, -0.7313913276138919]\n",
      "[-0.953627478405906, 1, -0.8393031575960777, -0.8250649981073366, -0.8119300130911142, -0.8003341332423588, -0.7900839447156613, -0.7809465616683156, -0.7727276465975592, -0.7652743381750042, -0.7584670509040734, -0.7522113942632132, -0.7464319026712474, -0.7410674291440955, -0.7360677931956161, -0.7313913276138919, -0.7270030628187669]\n",
      "[-0.953627478405906, 1, -0.8393031575960777, -0.8250649981073366, -0.8119300130911142, -0.8003341332423588, -0.7900839447156613, -0.7809465616683156, -0.7727276465975592, -0.7652743381750042, -0.7584670509040734, -0.7522113942632132, -0.7464319026712474, -0.7410674291440955, -0.7360677931956161, -0.7313913276138919, -0.7270030628187669, -0.7228733655301767]\n",
      "[-0.953627478405906, 1, -0.8393031575960777, -0.8250649981073366, -0.8119300130911142, -0.8003341332423588, -0.7900839447156613, -0.7809465616683156, -0.7727276465975592, -0.7652743381750042, -0.7584670509040734, -0.7522113942632132, -0.7464319026712474, -0.7410674291440955, -0.7360677931956161, -0.7313913276138919, -0.7270030628187669, -0.7228733655301767, -0.7189769043525303]\n",
      "[-0.953627478405906, 1, -0.8393031575960777, -0.8250649981073366, -0.8119300130911142, -0.8003341332423588, -0.7900839447156613, -0.7809465616683156, -0.7727276465975592, -0.7652743381750042, -0.7584670509040734, -0.7522113942632132, -0.7464319026712474, -0.7410674291440955, -0.7360677931956161, -0.7313913276138919, -0.7270030628187669, -0.7228733655301767, -0.7189769043525303, -0.7152918535939534]\n",
      "[-0.953627478405906, 1, -0.8393031575960777, -0.8250649981073366, -0.8119300130911142, -0.8003341332423588, -0.7900839447156613, -0.7809465616683156, -0.7727276465975592, -0.7652743381750042, -0.7584670509040734, -0.7522113942632132, -0.7464319026712474, -0.7410674291440955, -0.7360677931956161, -0.7313913276138919, -0.7270030628187669, -0.7228733655301767, -0.7189769043525303, -0.7152918535939534, -0.7117992729381513]\n",
      "[-0.953627478405906, 1, -0.8393031575960777, -0.8250649981073366, -0.8119300130911142, -0.8003341332423588, -0.7900839447156613, -0.7809465616683156, -0.7727276465975592, -0.7652743381750042, -0.7584670509040734, -0.7522113942632132, -0.7464319026712474, -0.7410674291440955, -0.7360677931956161, -0.7313913276138919, -0.7270030628187669, -0.7228733655301767, -0.7189769043525303, -0.7152918535939534, -0.7117992729381513, -0.708482618598282]\n",
      "[-0.953627478405906, 1, -0.8393031575960777, -0.8250649981073366, -0.8119300130911142, -0.8003341332423588, -0.7900839447156613, -0.7809465616683156, -0.7727276465975592, -0.7652743381750042, -0.7584670509040734, -0.7522113942632132, -0.7464319026712474, -0.7410674291440955, -0.7360677931956161, -0.7313913276138919, -0.7270030628187669, -0.7228733655301767, -0.7189769043525303, -0.7152918535939534, -0.7117992729381513, -0.708482618598282, -0.7053273539549991]\n",
      "[-0.953627478405906, 1, -0.8393031575960777, -0.8250649981073366, -0.8119300130911142, -0.8003341332423588, -0.7900839447156613, -0.7809465616683156, -0.7727276465975592, -0.7652743381750042, -0.7584670509040734, -0.7522113942632132, -0.7464319026712474, -0.7410674291440955, -0.7360677931956161, -0.7313913276138919, -0.7270030628187669, -0.7228733655301767, -0.7189769043525303, -0.7152918535939534, -0.7117992729381513, -0.708482618598282, -0.7053273539549991, -0.7023206364083308]\n",
      "[-0.953627478405906, 1, -0.8393031575960777, -0.8250649981073366, -0.8119300130911142, -0.8003341332423588, -0.7900839447156613, -0.7809465616683156, -0.7727276465975592, -0.7652743381750042, -0.7584670509040734, -0.7522113942632132, -0.7464319026712474, -0.7410674291440955, -0.7360677931956161, -0.7313913276138919, -0.7270030628187669, -0.7228733655301767, -0.7189769043525303, -0.7152918535939534, -0.7117992729381513, -0.708482618598282, -0.7053273539549991, -0.7023206364083308, -0.6994510632084712]\n",
      "[-0.953627478405906, 1, -0.8393031575960777, -0.8250649981073366, -0.8119300130911142, -0.8003341332423588, -0.7900839447156613, -0.7809465616683156, -0.7727276465975592, -0.7652743381750042, -0.7584670509040734, -0.7522113942632132, -0.7464319026712474, -0.7410674291440955, -0.7360677931956161, -0.7313913276138919, -0.7270030628187669, -0.7228733655301767, -0.7189769043525303, -0.7152918535939534, -0.7117992729381513, -0.708482618598282, -0.7053273539549991, -0.7023206364083308, -0.6994510632084712, -0.6967084633924969]\n",
      "[-0.953627478405906, 1, -0.8393031575960777, -0.8250649981073366, -0.8119300130911142, -0.8003341332423588, -0.7900839447156613, -0.7809465616683156, -0.7727276465975592, -0.7652743381750042, -0.7584670509040734, -0.7522113942632132, -0.7464319026712474, -0.7410674291440955, -0.7360677931956161, -0.7313913276138919, -0.7270030628187669, -0.7228733655301767, -0.7189769043525303, -0.7152918535939534, -0.7117992729381513, -0.708482618598282, -0.7053273539549991, -0.7023206364083308, -0.6994510632084712, -0.6967084633924969, -0.6940837261590787]\n",
      "[-0.953627478405906, 1, -0.8393031575960777, -0.8250649981073366, -0.8119300130911142, -0.8003341332423588, -0.7900839447156613, -0.7809465616683156, -0.7727276465975592, -0.7652743381750042, -0.7584670509040734, -0.7522113942632132, -0.7464319026712474, -0.7410674291440955, -0.7360677931956161, -0.7313913276138919, -0.7270030628187669, -0.7228733655301767, -0.7189769043525303, -0.7152918535939534, -0.7117992729381513, -0.708482618598282, -0.7053273539549991, -0.7023206364083308, -0.6994510632084712, -0.6967084633924969, -0.6940837261590787, -0.6915686582633498]\n",
      "[-0.953627478405906, 1, -0.8393031575960777, -0.8250649981073366, -0.8119300130911142, -0.8003341332423588, -0.7900839447156613, -0.7809465616683156, -0.7727276465975592, -0.7652743381750042, -0.7584670509040734, -0.7522113942632132, -0.7464319026712474, -0.7410674291440955, -0.7360677931956161, -0.7313913276138919, -0.7270030628187669, -0.7228733655301767, -0.7189769043525303, -0.7152918535939534, -0.7117992729381513, -0.708482618598282, -0.7053273539549991, -0.7023206364083308, -0.6994510632084712, -0.6967084633924969, -0.6940837261590787, -0.6915686582633498, -0.6891558646912017]\n"
     ]
    },
    {
     "name": "stdout",
     "output_type": "stream",
     "text": [
      "[-0.953627478405906, 1, -0.8393031575960777, -0.8250649981073366, -0.8119300130911142, -0.8003341332423588, -0.7900839447156613, -0.7809465616683156, -0.7727276465975592, -0.7652743381750042, -0.7584670509040734, -0.7522113942632132, -0.7464319026712474, -0.7410674291440955, -0.7360677931956161, -0.7313913276138919, -0.7270030628187669, -0.7228733655301767, -0.7189769043525303, -0.7152918535939534, -0.7117992729381513, -0.708482618598282, -0.7053273539549991, -0.7023206364083308, -0.6994510632084712, -0.6967084633924969, -0.6940837261590787, -0.6915686582633498, -0.6891558646912017, -0.6868386482110509]\n",
      "[-0.953627478405906, 1, -0.8393031575960777, -0.8250649981073366, -0.8119300130911142, -0.8003341332423588, -0.7900839447156613, -0.7809465616683156, -0.7727276465975592, -0.7652743381750042, -0.7584670509040734, -0.7522113942632132, -0.7464319026712474, -0.7410674291440955, -0.7360677931956161, -0.7313913276138919, -0.7270030628187669, -0.7228733655301767, -0.7189769043525303, -0.7152918535939534, -0.7117992729381513, -0.708482618598282, -0.7053273539549991, -0.7023206364083308, -0.6994510632084712, -0.6967084633924969, -0.6940837261590787, -0.6915686582633498, -0.6891558646912017, -0.6868386482110509, -0.6846109243106184]\n",
      "[-0.953627478405906, 1, -0.8393031575960777, -0.8250649981073366, -0.8119300130911142, -0.8003341332423588, -0.7900839447156613, -0.7809465616683156, -0.7727276465975592, -0.7652743381750042, -0.7584670509040734, -0.7522113942632132, -0.7464319026712474, -0.7410674291440955, -0.7360677931956161, -0.7313913276138919, -0.7270030628187669, -0.7228733655301767, -0.7189769043525303, -0.7152918535939534, -0.7117992729381513, -0.708482618598282, -0.7053273539549991, -0.7023206364083308, -0.6994510632084712, -0.6967084633924969, -0.6940837261590787, -0.6915686582633498, -0.6891558646912017, -0.6868386482110509, -0.6846109243106184, -0.6824671487756859]\n",
      "[-0.953627478405906, 1, -0.8393031575960777, -0.8250649981073366, -0.8119300130911142, -0.8003341332423588, -0.7900839447156613, -0.7809465616683156, -0.7727276465975592, -0.7652743381750042, -0.7584670509040734, -0.7522113942632132, -0.7464319026712474, -0.7410674291440955, -0.7360677931956161, -0.7313913276138919, -0.7270030628187669, -0.7228733655301767, -0.7189769043525303, -0.7152918535939534, -0.7117992729381513, -0.708482618598282, -0.7053273539549991, -0.7023206364083308, -0.6994510632084712, -0.6967084633924969, -0.6940837261590787, -0.6915686582633498, -0.6891558646912017, -0.6868386482110509, -0.6846109243106184, -0.6824671487756859, -0.6804022556552809]\n",
      "[-0.953627478405906, 1, -0.8393031575960777, -0.8250649981073366, -0.8119300130911142, -0.8003341332423588, -0.7900839447156613, -0.7809465616683156, -0.7727276465975592, -0.7652743381750042, -0.7584670509040734, -0.7522113942632132, -0.7464319026712474, -0.7410674291440955, -0.7360677931956161, -0.7313913276138919, -0.7270030628187669, -0.7228733655301767, -0.7189769043525303, -0.7152918535939534, -0.7117992729381513, -0.708482618598282, -0.7053273539549991, -0.7023206364083308, -0.6994510632084712, -0.6967084633924969, -0.6940837261590787, -0.6915686582633498, -0.6891558646912017, -0.6868386482110509, -0.6846109243106184, -0.6824671487756859, -0.6804022556552809, -0.6784116039762011]\n",
      "[-0.953627478405906, 1, -0.8393031575960777, -0.8250649981073366, -0.8119300130911142, -0.8003341332423588, -0.7900839447156613, -0.7809465616683156, -0.7727276465975592, -0.7652743381750042, -0.7584670509040734, -0.7522113942632132, -0.7464319026712474, -0.7410674291440955, -0.7360677931956161, -0.7313913276138919, -0.7270030628187669, -0.7228733655301767, -0.7189769043525303, -0.7152918535939534, -0.7117992729381513, -0.708482618598282, -0.7053273539549991, -0.7023206364083308, -0.6994510632084712, -0.6967084633924969, -0.6940837261590787, -0.6915686582633498, -0.6891558646912017, -0.6868386482110509, -0.6846109243106184, -0.6824671487756859, -0.6804022556552809, -0.6784116039762011, -0.6764909316389094]\n",
      "[-0.953627478405906, 1, -0.8393031575960777, -0.8250649981073366, -0.8119300130911142, -0.8003341332423588, -0.7900839447156613, -0.7809465616683156, -0.7727276465975592, -0.7652743381750042, -0.7584670509040734, -0.7522113942632132, -0.7464319026712474, -0.7410674291440955, -0.7360677931956161, -0.7313913276138919, -0.7270030628187669, -0.7228733655301767, -0.7189769043525303, -0.7152918535939534, -0.7117992729381513, -0.708482618598282, -0.7053273539549991, -0.7023206364083308, -0.6994510632084712, -0.6967084633924969, -0.6940837261590787, -0.6915686582633498, -0.6891558646912017, -0.6868386482110509, -0.6846109243106184, -0.6824671487756859, -0.6804022556552809, -0.6784116039762011, -0.6764909316389094, -0.67463631544706]\n",
      "[-0.953627478405906, 1, -0.8393031575960777, -0.8250649981073366, -0.8119300130911142, -0.8003341332423588, -0.7900839447156613, -0.7809465616683156, -0.7727276465975592, -0.7652743381750042, -0.7584670509040734, -0.7522113942632132, -0.7464319026712474, -0.7410674291440955, -0.7360677931956161, -0.7313913276138919, -0.7270030628187669, -0.7228733655301767, -0.7189769043525303, -0.7152918535939534, -0.7117992729381513, -0.708482618598282, -0.7053273539549991, -0.7023206364083308, -0.6994510632084712, -0.6967084633924969, -0.6940837261590787, -0.6915686582633498, -0.6891558646912017, -0.6868386482110509, -0.6846109243106184, -0.6824671487756859, -0.6804022556552809, -0.6784116039762011, -0.6764909316389094, -0.67463631544706, -0.6728441362702142]\n",
      "[-0.953627478405906, 1, -0.8393031575960777, -0.8250649981073366, -0.8119300130911142, -0.8003341332423588, -0.7900839447156613, -0.7809465616683156, -0.7727276465975592, -0.7652743381750042, -0.7584670509040734, -0.7522113942632132, -0.7464319026712474, -0.7410674291440955, -0.7360677931956161, -0.7313913276138919, -0.7270030628187669, -0.7228733655301767, -0.7189769043525303, -0.7152918535939534, -0.7117992729381513, -0.708482618598282, -0.7053273539549991, -0.7023206364083308, -0.6994510632084712, -0.6967084633924969, -0.6940837261590787, -0.6915686582633498, -0.6891558646912017, -0.6868386482110509, -0.6846109243106184, -0.6824671487756859, -0.6804022556552809, -0.6784116039762011, -0.6764909316389094, -0.67463631544706, -0.6728441362702142, -0.6711110485830432]\n",
      "[-0.953627478405906, 1, -0.8393031575960777, -0.8250649981073366, -0.8119300130911142, -0.8003341332423588, -0.7900839447156613, -0.7809465616683156, -0.7727276465975592, -0.7652743381750042, -0.7584670509040734, -0.7522113942632132, -0.7464319026712474, -0.7410674291440955, -0.7360677931956161, -0.7313913276138919, -0.7270030628187669, -0.7228733655301767, -0.7189769043525303, -0.7152918535939534, -0.7117992729381513, -0.708482618598282, -0.7053273539549991, -0.7023206364083308, -0.6994510632084712, -0.6967084633924969, -0.6940837261590787, -0.6915686582633498, -0.6891558646912017, -0.6868386482110509, -0.6846109243106184, -0.6824671487756859, -0.6804022556552809, -0.6784116039762011, -0.6764909316389094, -0.67463631544706, -0.6728441362702142, -0.6711110485830432, -0.66943395371527]\n",
      "[-0.953627478405906, 1, -0.8393031575960777, -0.8250649981073366, -0.8119300130911142, -0.8003341332423588, -0.7900839447156613, -0.7809465616683156, -0.7727276465975592, -0.7652743381750042, -0.7584670509040734, -0.7522113942632132, -0.7464319026712474, -0.7410674291440955, -0.7360677931956161, -0.7313913276138919, -0.7270030628187669, -0.7228733655301767, -0.7189769043525303, -0.7152918535939534, -0.7117992729381513, -0.708482618598282, -0.7053273539549991, -0.7023206364083308, -0.6994510632084712, -0.6967084633924969, -0.6940837261590787, -0.6915686582633498, -0.6891558646912017, -0.6868386482110509, -0.6846109243106184, -0.6824671487756859, -0.6804022556552809, -0.6784116039762011, -0.6764909316389094, -0.67463631544706, -0.6728441362702142, -0.6711110485830432, -0.66943395371527, -0.6678099762884813]\n",
      "[-0.953627478405906, 1, -0.8393031575960777, -0.8250649981073366, -0.8119300130911142, -0.8003341332423588, -0.7900839447156613, -0.7809465616683156, -0.7727276465975592, -0.7652743381750042, -0.7584670509040734, -0.7522113942632132, -0.7464319026712474, -0.7410674291440955, -0.7360677931956161, -0.7313913276138919, -0.7270030628187669, -0.7228733655301767, -0.7189769043525303, -0.7152918535939534, -0.7117992729381513, -0.708482618598282, -0.7053273539549991, -0.7023206364083308, -0.6994510632084712, -0.6967084633924969, -0.6940837261590787, -0.6915686582633498, -0.6891558646912017, -0.6868386482110509, -0.6846109243106184, -0.6824671487756859, -0.6804022556552809, -0.6784116039762011, -0.6764909316389094, -0.67463631544706, -0.6728441362702142, -0.6711110485830432, -0.66943395371527, -0.6678099762884813, -0.6662364434105257]\n"
     ]
    },
    {
     "name": "stdout",
     "output_type": "stream",
     "text": [
      "[-0.953627478405906, 1, -0.8393031575960777, -0.8250649981073366, -0.8119300130911142, -0.8003341332423588, -0.7900839447156613, -0.7809465616683156, -0.7727276465975592, -0.7652743381750042, -0.7584670509040734, -0.7522113942632132, -0.7464319026712474, -0.7410674291440955, -0.7360677931956161, -0.7313913276138919, -0.7270030628187669, -0.7228733655301767, -0.7189769043525303, -0.7152918535939534, -0.7117992729381513, -0.708482618598282, -0.7053273539549991, -0.7023206364083308, -0.6994510632084712, -0.6967084633924969, -0.6940837261590787, -0.6915686582633498, -0.6891558646912017, -0.6868386482110509, -0.6846109243106184, -0.6824671487756859, -0.6804022556552809, -0.6784116039762011, -0.6764909316389094, -0.67463631544706, -0.6728441362702142, -0.6711110485830432, -0.66943395371527, -0.6678099762884813, -0.6662364434105257, -0.6647108662054961]\n",
      "[-0.953627478405906, 1, -0.8393031575960777, -0.8250649981073366, -0.8119300130911142, -0.8003341332423588, -0.7900839447156613, -0.7809465616683156, -0.7727276465975592, -0.7652743381750042, -0.7584670509040734, -0.7522113942632132, -0.7464319026712474, -0.7410674291440955, -0.7360677931956161, -0.7313913276138919, -0.7270030628187669, -0.7228733655301767, -0.7189769043525303, -0.7152918535939534, -0.7117992729381513, -0.708482618598282, -0.7053273539549991, -0.7023206364083308, -0.6994510632084712, -0.6967084633924969, -0.6940837261590787, -0.6915686582633498, -0.6891558646912017, -0.6868386482110509, -0.6846109243106184, -0.6824671487756859, -0.6804022556552809, -0.6784116039762011, -0.6764909316389094, -0.67463631544706, -0.6728441362702142, -0.6711110485830432, -0.66943395371527, -0.6678099762884813, -0.6662364434105257, -0.6647108662054961, -0.663230923420997]\n",
      "[-0.953627478405906, 1, -0.8393031575960777, -0.8250649981073366, -0.8119300130911142, -0.8003341332423588, -0.7900839447156613, -0.7809465616683156, -0.7727276465975592, -0.7652743381750042, -0.7584670509040734, -0.7522113942632132, -0.7464319026712474, -0.7410674291440955, -0.7360677931956161, -0.7313913276138919, -0.7270030628187669, -0.7228733655301767, -0.7189769043525303, -0.7152918535939534, -0.7117992729381513, -0.708482618598282, -0.7053273539549991, -0.7023206364083308, -0.6994510632084712, -0.6967084633924969, -0.6940837261590787, -0.6915686582633498, -0.6891558646912017, -0.6868386482110509, -0.6846109243106184, -0.6824671487756859, -0.6804022556552809, -0.6784116039762011, -0.6764909316389094, -0.67463631544706, -0.6728441362702142, -0.6711110485830432, -0.66943395371527, -0.6678099762884813, -0.6662364434105257, -0.6647108662054961, -0.663230923420997, -0.6617944467670895]\n",
      "[-0.953627478405906, 1, -0.8393031575960777, -0.8250649981073366, -0.8119300130911142, -0.8003341332423588, -0.7900839447156613, -0.7809465616683156, -0.7727276465975592, -0.7652743381750042, -0.7584670509040734, -0.7522113942632132, -0.7464319026712474, -0.7410674291440955, -0.7360677931956161, -0.7313913276138919, -0.7270030628187669, -0.7228733655301767, -0.7189769043525303, -0.7152918535939534, -0.7117992729381513, -0.708482618598282, -0.7053273539549991, -0.7023206364083308, -0.6994510632084712, -0.6967084633924969, -0.6940837261590787, -0.6915686582633498, -0.6891558646912017, -0.6868386482110509, -0.6846109243106184, -0.6824671487756859, -0.6804022556552809, -0.6784116039762011, -0.6764909316389094, -0.67463631544706, -0.6728441362702142, -0.6711110485830432, -0.66943395371527, -0.6678099762884813, -0.6662364434105257, -0.6647108662054961, -0.663230923420997, -0.6617944467670895, -0.6603994078595861]\n",
      "[-0.953627478405906, 1, -0.8393031575960777, -0.8250649981073366, -0.8119300130911142, -0.8003341332423588, -0.7900839447156613, -0.7809465616683156, -0.7727276465975592, -0.7652743381750042, -0.7584670509040734, -0.7522113942632132, -0.7464319026712474, -0.7410674291440955, -0.7360677931956161, -0.7313913276138919, -0.7270030628187669, -0.7228733655301767, -0.7189769043525303, -0.7152918535939534, -0.7117992729381513, -0.708482618598282, -0.7053273539549991, -0.7023206364083308, -0.6994510632084712, -0.6967084633924969, -0.6940837261590787, -0.6915686582633498, -0.6891558646912017, -0.6868386482110509, -0.6846109243106184, -0.6824671487756859, -0.6804022556552809, -0.6784116039762011, -0.6764909316389094, -0.67463631544706, -0.6728441362702142, -0.6711110485830432, -0.66943395371527, -0.6678099762884813, -0.6662364434105257, -0.6647108662054961, -0.663230923420997, -0.6617944467670895, -0.6603994078595861, -0.6590439064730162]\n",
      "[-0.953627478405906, 1, -0.8393031575960777, -0.8250649981073366, -0.8119300130911142, -0.8003341332423588, -0.7900839447156613, -0.7809465616683156, -0.7727276465975592, -0.7652743381750042, -0.7584670509040734, -0.7522113942632132, -0.7464319026712474, -0.7410674291440955, -0.7360677931956161, -0.7313913276138919, -0.7270030628187669, -0.7228733655301767, -0.7189769043525303, -0.7152918535939534, -0.7117992729381513, -0.708482618598282, -0.7053273539549991, -0.7023206364083308, -0.6994510632084712, -0.6967084633924969, -0.6940837261590787, -0.6915686582633498, -0.6891558646912017, -0.6868386482110509, -0.6846109243106184, -0.6824671487756859, -0.6804022556552809, -0.6784116039762011, -0.6764909316389094, -0.67463631544706, -0.6728441362702142, -0.6711110485830432, -0.66943395371527, -0.6678099762884813, -0.6662364434105257, -0.6647108662054961, -0.663230923420997, -0.6617944467670895, -0.6603994078595861, -0.6590439064730162, -0.6577261599868507]\n",
      "[-0.953627478405906, 1, -0.8393031575960777, -0.8250649981073366, -0.8119300130911142, -0.8003341332423588, -0.7900839447156613, -0.7809465616683156, -0.7727276465975592, -0.7652743381750042, -0.7584670509040734, -0.7522113942632132, -0.7464319026712474, -0.7410674291440955, -0.7360677931956161, -0.7313913276138919, -0.7270030628187669, -0.7228733655301767, -0.7189769043525303, -0.7152918535939534, -0.7117992729381513, -0.708482618598282, -0.7053273539549991, -0.7023206364083308, -0.6994510632084712, -0.6967084633924969, -0.6940837261590787, -0.6915686582633498, -0.6891558646912017, -0.6868386482110509, -0.6846109243106184, -0.6824671487756859, -0.6804022556552809, -0.6784116039762011, -0.6764909316389094, -0.67463631544706, -0.6728441362702142, -0.6711110485830432, -0.66943395371527, -0.6678099762884813, -0.6662364434105257, -0.6647108662054961, -0.663230923420997, -0.6617944467670895, -0.6603994078595861, -0.6590439064730162, -0.6577261599868507, -0.6564444939049281]\n",
      "[-0.953627478405906, 1, -0.8393031575960777, -0.8250649981073366, -0.8119300130911142, -0.8003341332423588, -0.7900839447156613, -0.7809465616683156, -0.7727276465975592, -0.7652743381750042, -0.7584670509040734, -0.7522113942632132, -0.7464319026712474, -0.7410674291440955, -0.7360677931956161, -0.7313913276138919, -0.7270030628187669, -0.7228733655301767, -0.7189769043525303, -0.7152918535939534, -0.7117992729381513, -0.708482618598282, -0.7053273539549991, -0.7023206364083308, -0.6994510632084712, -0.6967084633924969, -0.6940837261590787, -0.6915686582633498, -0.6891558646912017, -0.6868386482110509, -0.6846109243106184, -0.6824671487756859, -0.6804022556552809, -0.6784116039762011, -0.6764909316389094, -0.67463631544706, -0.6728441362702142, -0.6711110485830432, -0.66943395371527, -0.6678099762884813, -0.6662364434105257, -0.6647108662054961, -0.663230923420997, -0.6617944467670895, -0.6603994078595861, -0.6590439064730162, -0.6577261599868507, -0.6564444939049281, -0.6551973332479974]\n",
      "[-0.953627478405906, 1, -0.8393031575960777, -0.8250649981073366, -0.8119300130911142, -0.8003341332423588, -0.7900839447156613, -0.7809465616683156, -0.7727276465975592, -0.7652743381750042, -0.7584670509040734, -0.7522113942632132, -0.7464319026712474, -0.7410674291440955, -0.7360677931956161, -0.7313913276138919, -0.7270030628187669, -0.7228733655301767, -0.7189769043525303, -0.7152918535939534, -0.7117992729381513, -0.708482618598282, -0.7053273539549991, -0.7023206364083308, -0.6994510632084712, -0.6967084633924969, -0.6940837261590787, -0.6915686582633498, -0.6891558646912017, -0.6868386482110509, -0.6846109243106184, -0.6824671487756859, -0.6804022556552809, -0.6784116039762011, -0.6764909316389094, -0.67463631544706, -0.6728441362702142, -0.6711110485830432, -0.66943395371527, -0.6678099762884813, -0.6662364434105257, -0.6647108662054961, -0.663230923420997, -0.6617944467670895, -0.6603994078595861, -0.6590439064730162, -0.6577261599868507, -0.6564444939049281, -0.6551973332479974, -0.6539831947939092]\n"
     ]
    },
    {
     "name": "stdout",
     "output_type": "stream",
     "text": [
      "[-0.953627478405906, 1, -0.8393031575960777, -0.8250649981073366, -0.8119300130911142, -0.8003341332423588, -0.7900839447156613, -0.7809465616683156, -0.7727276465975592, -0.7652743381750042, -0.7584670509040734, -0.7522113942632132, -0.7464319026712474, -0.7410674291440955, -0.7360677931956161, -0.7313913276138919, -0.7270030628187669, -0.7228733655301767, -0.7189769043525303, -0.7152918535939534, -0.7117992729381513, -0.708482618598282, -0.7053273539549991, -0.7023206364083308, -0.6994510632084712, -0.6967084633924969, -0.6940837261590787, -0.6915686582633498, -0.6891558646912017, -0.6868386482110509, -0.6846109243106184, -0.6824671487756859, -0.6804022556552809, -0.6784116039762011, -0.6764909316389094, -0.67463631544706, -0.6728441362702142, -0.6711110485830432, -0.66943395371527, -0.6678099762884813, -0.6662364434105257, -0.6647108662054961, -0.663230923420997, -0.6617944467670895, -0.6603994078595861, -0.6590439064730162, -0.6577261599868507, -0.6564444939049281, -0.6551973332479974, -0.6539831947939092, -0.6528006800235744]\n",
      "[-0.953627478405906, 1, -0.8393031575960777, -0.8250649981073366, -0.8119300130911142, -0.8003341332423588, -0.7900839447156613, -0.7809465616683156, -0.7727276465975592, -0.7652743381750042, -0.7584670509040734, -0.7522113942632132, -0.7464319026712474, -0.7410674291440955, -0.7360677931956161, -0.7313913276138919, -0.7270030628187669, -0.7228733655301767, -0.7189769043525303, -0.7152918535939534, -0.7117992729381513, -0.708482618598282, -0.7053273539549991, -0.7023206364083308, -0.6994510632084712, -0.6967084633924969, -0.6940837261590787, -0.6915686582633498, -0.6891558646912017, -0.6868386482110509, -0.6846109243106184, -0.6824671487756859, -0.6804022556552809, -0.6784116039762011, -0.6764909316389094, -0.67463631544706, -0.6728441362702142, -0.6711110485830432, -0.66943395371527, -0.6678099762884813, -0.6662364434105257, -0.6647108662054961, -0.663230923420997, -0.6617944467670895, -0.6603994078595861, -0.6590439064730162, -0.6577261599868507, -0.6564444939049281, -0.6551973332479974, -0.6539831947939092, -0.6528006800235744, -0.6516484686781041]\n",
      "[-0.953627478405906, 1, -0.8393031575960777, -0.8250649981073366, -0.8119300130911142, -0.8003341332423588, -0.7900839447156613, -0.7809465616683156, -0.7727276465975592, -0.7652743381750042, -0.7584670509040734, -0.7522113942632132, -0.7464319026712474, -0.7410674291440955, -0.7360677931956161, -0.7313913276138919, -0.7270030628187669, -0.7228733655301767, -0.7189769043525303, -0.7152918535939534, -0.7117992729381513, -0.708482618598282, -0.7053273539549991, -0.7023206364083308, -0.6994510632084712, -0.6967084633924969, -0.6940837261590787, -0.6915686582633498, -0.6891558646912017, -0.6868386482110509, -0.6846109243106184, -0.6824671487756859, -0.6804022556552809, -0.6784116039762011, -0.6764909316389094, -0.67463631544706, -0.6728441362702142, -0.6711110485830432, -0.66943395371527, -0.6678099762884813, -0.6662364434105257, -0.6647108662054961, -0.663230923420997, -0.6617944467670895, -0.6603994078595861, -0.6590439064730162, -0.6577261599868507, -0.6564444939049281, -0.6551973332479974, -0.6539831947939092, -0.6528006800235744, -0.6516484686781041, -0.6505253129307675]\n",
      "[-0.953627478405906, 1, -0.8393031575960777, -0.8250649981073366, -0.8119300130911142, -0.8003341332423588, -0.7900839447156613, -0.7809465616683156, -0.7727276465975592, -0.7652743381750042, -0.7584670509040734, -0.7522113942632132, -0.7464319026712474, -0.7410674291440955, -0.7360677931956161, -0.7313913276138919, -0.7270030628187669, -0.7228733655301767, -0.7189769043525303, -0.7152918535939534, -0.7117992729381513, -0.708482618598282, -0.7053273539549991, -0.7023206364083308, -0.6994510632084712, -0.6967084633924969, -0.6940837261590787, -0.6915686582633498, -0.6891558646912017, -0.6868386482110509, -0.6846109243106184, -0.6824671487756859, -0.6804022556552809, -0.6784116039762011, -0.6764909316389094, -0.67463631544706, -0.6728441362702142, -0.6711110485830432, -0.66943395371527, -0.6678099762884813, -0.6662364434105257, -0.6647108662054961, -0.663230923420997, -0.6617944467670895, -0.6603994078595861, -0.6590439064730162, -0.6577261599868507, -0.6564444939049281, -0.6551973332479974, -0.6539831947939092, -0.6528006800235744, -0.6516484686781041, -0.6505253129307675, -0.6494300320136972]\n",
      "[-0.953627478405906, 1, -0.8393031575960777, -0.8250649981073366, -0.8119300130911142, -0.8003341332423588, -0.7900839447156613, -0.7809465616683156, -0.7727276465975592, -0.7652743381750042, -0.7584670509040734, -0.7522113942632132, -0.7464319026712474, -0.7410674291440955, -0.7360677931956161, -0.7313913276138919, -0.7270030628187669, -0.7228733655301767, -0.7189769043525303, -0.7152918535939534, -0.7117992729381513, -0.708482618598282, -0.7053273539549991, -0.7023206364083308, -0.6994510632084712, -0.6967084633924969, -0.6940837261590787, -0.6915686582633498, -0.6891558646912017, -0.6868386482110509, -0.6846109243106184, -0.6824671487756859, -0.6804022556552809, -0.6784116039762011, -0.6764909316389094, -0.67463631544706, -0.6728441362702142, -0.6711110485830432, -0.66943395371527, -0.6678099762884813, -0.6662364434105257, -0.6647108662054961, -0.663230923420997, -0.6617944467670895, -0.6603994078595861, -0.6590439064730162, -0.6577261599868507, -0.6564444939049281, -0.6551973332479974, -0.6539831947939092, -0.6528006800235744, -0.6516484686781041, -0.6505253129307675, -0.6494300320136972, -0.6483615073138935]\n",
      "[-0.953627478405906, 1, -0.8393031575960777, -0.8250649981073366, -0.8119300130911142, -0.8003341332423588, -0.7900839447156613, -0.7809465616683156, -0.7727276465975592, -0.7652743381750042, -0.7584670509040734, -0.7522113942632132, -0.7464319026712474, -0.7410674291440955, -0.7360677931956161, -0.7313913276138919, -0.7270030628187669, -0.7228733655301767, -0.7189769043525303, -0.7152918535939534, -0.7117992729381513, -0.708482618598282, -0.7053273539549991, -0.7023206364083308, -0.6994510632084712, -0.6967084633924969, -0.6940837261590787, -0.6915686582633498, -0.6891558646912017, -0.6868386482110509, -0.6846109243106184, -0.6824671487756859, -0.6804022556552809, -0.6784116039762011, -0.6764909316389094, -0.67463631544706, -0.6728441362702142, -0.6711110485830432, -0.66943395371527, -0.6678099762884813, -0.6662364434105257, -0.6647108662054961, -0.663230923420997, -0.6617944467670895, -0.6603994078595861, -0.6590439064730162, -0.6577261599868507, -0.6564444939049281, -0.6551973332479974, -0.6539831947939092, -0.6528006800235744, -0.6516484686781041, -0.6505253129307675, -0.6494300320136972, -0.6483615073138935, -0.6473186778584932]\n",
      "[-0.953627478405906, 1, -0.8393031575960777, -0.8250649981073366, -0.8119300130911142, -0.8003341332423588, -0.7900839447156613, -0.7809465616683156, -0.7727276465975592, -0.7652743381750042, -0.7584670509040734, -0.7522113942632132, -0.7464319026712474, -0.7410674291440955, -0.7360677931956161, -0.7313913276138919, -0.7270030628187669, -0.7228733655301767, -0.7189769043525303, -0.7152918535939534, -0.7117992729381513, -0.708482618598282, -0.7053273539549991, -0.7023206364083308, -0.6994510632084712, -0.6967084633924969, -0.6940837261590787, -0.6915686582633498, -0.6891558646912017, -0.6868386482110509, -0.6846109243106184, -0.6824671487756859, -0.6804022556552809, -0.6784116039762011, -0.6764909316389094, -0.67463631544706, -0.6728441362702142, -0.6711110485830432, -0.66943395371527, -0.6678099762884813, -0.6662364434105257, -0.6647108662054961, -0.663230923420997, -0.6617944467670895, -0.6603994078595861, -0.6590439064730162, -0.6577261599868507, -0.6564444939049281, -0.6551973332479974, -0.6539831947939092, -0.6528006800235744, -0.6516484686781041, -0.6505253129307675, -0.6494300320136972, -0.6483615073138935, -0.6473186778584932, -0.6463005361529213]\n",
      "[-0.953627478405906, 1, -0.8393031575960777, -0.8250649981073366, -0.8119300130911142, -0.8003341332423588, -0.7900839447156613, -0.7809465616683156, -0.7727276465975592, -0.7652743381750042, -0.7584670509040734, -0.7522113942632132, -0.7464319026712474, -0.7410674291440955, -0.7360677931956161, -0.7313913276138919, -0.7270030628187669, -0.7228733655301767, -0.7189769043525303, -0.7152918535939534, -0.7117992729381513, -0.708482618598282, -0.7053273539549991, -0.7023206364083308, -0.6994510632084712, -0.6967084633924969, -0.6940837261590787, -0.6915686582633498, -0.6891558646912017, -0.6868386482110509, -0.6846109243106184, -0.6824671487756859, -0.6804022556552809, -0.6784116039762011, -0.6764909316389094, -0.67463631544706, -0.6728441362702142, -0.6711110485830432, -0.66943395371527, -0.6678099762884813, -0.6662364434105257, -0.6647108662054961, -0.663230923420997, -0.6617944467670895, -0.6603994078595861, -0.6590439064730162, -0.6577261599868507, -0.6564444939049281, -0.6551973332479974, -0.6539831947939092, -0.6528006800235744, -0.6516484686781041, -0.6505253129307675, -0.6494300320136972, -0.6483615073138935, -0.6473186778584932, -0.6463005361529213, -0.6453061243246339]\n"
     ]
    },
    {
     "name": "stdout",
     "output_type": "stream",
     "text": [
      "[-0.953627478405906, 1, -0.8393031575960777, -0.8250649981073366, -0.8119300130911142, -0.8003341332423588, -0.7900839447156613, -0.7809465616683156, -0.7727276465975592, -0.7652743381750042, -0.7584670509040734, -0.7522113942632132, -0.7464319026712474, -0.7410674291440955, -0.7360677931956161, -0.7313913276138919, -0.7270030628187669, -0.7228733655301767, -0.7189769043525303, -0.7152918535939534, -0.7117992729381513, -0.708482618598282, -0.7053273539549991, -0.7023206364083308, -0.6994510632084712, -0.6967084633924969, -0.6940837261590787, -0.6915686582633498, -0.6891558646912017, -0.6868386482110509, -0.6846109243106184, -0.6824671487756859, -0.6804022556552809, -0.6784116039762011, -0.6764909316389094, -0.67463631544706, -0.6728441362702142, -0.6711110485830432, -0.66943395371527, -0.6678099762884813, -0.6662364434105257, -0.6647108662054961, -0.663230923420997, -0.6617944467670895, -0.6603994078595861, -0.6590439064730162, -0.6577261599868507, -0.6564444939049281, -0.6551973332479974, -0.6539831947939092, -0.6528006800235744, -0.6516484686781041, -0.6505253129307675, -0.6494300320136972, -0.6483615073138935, -0.6473186778584932, -0.6463005361529213, -0.6453061243246339, -0.6443345305615367]\n",
      "[-0.953627478405906, 1, -0.8393031575960777, -0.8250649981073366, -0.8119300130911142, -0.8003341332423588, -0.7900839447156613, -0.7809465616683156, -0.7727276465975592, -0.7652743381750042, -0.7584670509040734, -0.7522113942632132, -0.7464319026712474, -0.7410674291440955, -0.7360677931956161, -0.7313913276138919, -0.7270030628187669, -0.7228733655301767, -0.7189769043525303, -0.7152918535939534, -0.7117992729381513, -0.708482618598282, -0.7053273539549991, -0.7023206364083308, -0.6994510632084712, -0.6967084633924969, -0.6940837261590787, -0.6915686582633498, -0.6891558646912017, -0.6868386482110509, -0.6846109243106184, -0.6824671487756859, -0.6804022556552809, -0.6784116039762011, -0.6764909316389094, -0.67463631544706, -0.6728441362702142, -0.6711110485830432, -0.66943395371527, -0.6678099762884813, -0.6662364434105257, -0.6647108662054961, -0.663230923420997, -0.6617944467670895, -0.6603994078595861, -0.6590439064730162, -0.6577261599868507, -0.6564444939049281, -0.6551973332479974, -0.6539831947939092, -0.6528006800235744, -0.6516484686781041, -0.6505253129307675, -0.6494300320136972, -0.6483615073138935, -0.6473186778584932, -0.6463005361529213, -0.6453061243246339, -0.6443345305615367, -0.6433848857614066]\n",
      "[-0.953627478405906, 1, -0.8393031575960777, -0.8250649981073366, -0.8119300130911142, -0.8003341332423588, -0.7900839447156613, -0.7809465616683156, -0.7727276465975592, -0.7652743381750042, -0.7584670509040734, -0.7522113942632132, -0.7464319026712474, -0.7410674291440955, -0.7360677931956161, -0.7313913276138919, -0.7270030628187669, -0.7228733655301767, -0.7189769043525303, -0.7152918535939534, -0.7117992729381513, -0.708482618598282, -0.7053273539549991, -0.7023206364083308, -0.6994510632084712, -0.6967084633924969, -0.6940837261590787, -0.6915686582633498, -0.6891558646912017, -0.6868386482110509, -0.6846109243106184, -0.6824671487756859, -0.6804022556552809, -0.6784116039762011, -0.6764909316389094, -0.67463631544706, -0.6728441362702142, -0.6711110485830432, -0.66943395371527, -0.6678099762884813, -0.6662364434105257, -0.6647108662054961, -0.663230923420997, -0.6617944467670895, -0.6603994078595861, -0.6590439064730162, -0.6577261599868507, -0.6564444939049281, -0.6551973332479974, -0.6539831947939092, -0.6528006800235744, -0.6516484686781041, -0.6505253129307675, -0.6494300320136972, -0.6483615073138935, -0.6473186778584932, -0.6463005361529213, -0.6453061243246339, -0.6443345305615367, -0.6433848857614066, -0.6424563604286959]\n",
      "[-0.953627478405906, 1, -0.8393031575960777, -0.8250649981073366, -0.8119300130911142, -0.8003341332423588, -0.7900839447156613, -0.7809465616683156, -0.7727276465975592, -0.7652743381750042, -0.7584670509040734, -0.7522113942632132, -0.7464319026712474, -0.7410674291440955, -0.7360677931956161, -0.7313913276138919, -0.7270030628187669, -0.7228733655301767, -0.7189769043525303, -0.7152918535939534, -0.7117992729381513, -0.708482618598282, -0.7053273539549991, -0.7023206364083308, -0.6994510632084712, -0.6967084633924969, -0.6940837261590787, -0.6915686582633498, -0.6891558646912017, -0.6868386482110509, -0.6846109243106184, -0.6824671487756859, -0.6804022556552809, -0.6784116039762011, -0.6764909316389094, -0.67463631544706, -0.6728441362702142, -0.6711110485830432, -0.66943395371527, -0.6678099762884813, -0.6662364434105257, -0.6647108662054961, -0.663230923420997, -0.6617944467670895, -0.6603994078595861, -0.6590439064730162, -0.6577261599868507, -0.6564444939049281, -0.6551973332479974, -0.6539831947939092, -0.6528006800235744, -0.6516484686781041, -0.6505253129307675, -0.6494300320136972, -0.6483615073138935, -0.6473186778584932, -0.6463005361529213, -0.6453061243246339, -0.6443345305615367, -0.6433848857614066, -0.6424563604286959, -0.6415481617241312]\n",
      "[-0.953627478405906, 1, -0.8393031575960777, -0.8250649981073366, -0.8119300130911142, -0.8003341332423588, -0.7900839447156613, -0.7809465616683156, -0.7727276465975592, -0.7652743381750042, -0.7584670509040734, -0.7522113942632132, -0.7464319026712474, -0.7410674291440955, -0.7360677931956161, -0.7313913276138919, -0.7270030628187669, -0.7228733655301767, -0.7189769043525303, -0.7152918535939534, -0.7117992729381513, -0.708482618598282, -0.7053273539549991, -0.7023206364083308, -0.6994510632084712, -0.6967084633924969, -0.6940837261590787, -0.6915686582633498, -0.6891558646912017, -0.6868386482110509, -0.6846109243106184, -0.6824671487756859, -0.6804022556552809, -0.6784116039762011, -0.6764909316389094, -0.67463631544706, -0.6728441362702142, -0.6711110485830432, -0.66943395371527, -0.6678099762884813, -0.6662364434105257, -0.6647108662054961, -0.663230923420997, -0.6617944467670895, -0.6603994078595861, -0.6590439064730162, -0.6577261599868507, -0.6564444939049281, -0.6551973332479974, -0.6539831947939092, -0.6528006800235744, -0.6516484686781041, -0.6505253129307675, -0.6494300320136972, -0.6483615073138935, -0.6473186778584932, -0.6463005361529213, -0.6453061243246339, -0.6443345305615367, -0.6433848857614066, -0.6424563604286959, -0.6415481617241312, -0.6406595306852978]\n",
      "[-0.953627478405906, 1, -0.8393031575960777, -0.8250649981073366, -0.8119300130911142, -0.8003341332423588, -0.7900839447156613, -0.7809465616683156, -0.7727276465975592, -0.7652743381750042, -0.7584670509040734, -0.7522113942632132, -0.7464319026712474, -0.7410674291440955, -0.7360677931956161, -0.7313913276138919, -0.7270030628187669, -0.7228733655301767, -0.7189769043525303, -0.7152918535939534, -0.7117992729381513, -0.708482618598282, -0.7053273539549991, -0.7023206364083308, -0.6994510632084712, -0.6967084633924969, -0.6940837261590787, -0.6915686582633498, -0.6891558646912017, -0.6868386482110509, -0.6846109243106184, -0.6824671487756859, -0.6804022556552809, -0.6784116039762011, -0.6764909316389094, -0.67463631544706, -0.6728441362702142, -0.6711110485830432, -0.66943395371527, -0.6678099762884813, -0.6662364434105257, -0.6647108662054961, -0.663230923420997, -0.6617944467670895, -0.6603994078595861, -0.6590439064730162, -0.6577261599868507, -0.6564444939049281, -0.6551973332479974, -0.6539831947939092, -0.6528006800235744, -0.6516484686781041, -0.6505253129307675, -0.6494300320136972, -0.6483615073138935, -0.6473186778584932, -0.6463005361529213, -0.6453061243246339, -0.6443345305615367, -0.6433848857614066, -0.6424563604286959, -0.6415481617241312, -0.6406595306852978, -0.6397897395636392]\n",
      "[-0.953627478405906, 1, -0.8393031575960777, -0.8250649981073366, -0.8119300130911142, -0.8003341332423588, -0.7900839447156613, -0.7809465616683156, -0.7727276465975592, -0.7652743381750042, -0.7584670509040734, -0.7522113942632132, -0.7464319026712474, -0.7410674291440955, -0.7360677931956161, -0.7313913276138919, -0.7270030628187669, -0.7228733655301767, -0.7189769043525303, -0.7152918535939534, -0.7117992729381513, -0.708482618598282, -0.7053273539549991, -0.7023206364083308, -0.6994510632084712, -0.6967084633924969, -0.6940837261590787, -0.6915686582633498, -0.6891558646912017, -0.6868386482110509, -0.6846109243106184, -0.6824671487756859, -0.6804022556552809, -0.6784116039762011, -0.6764909316389094, -0.67463631544706, -0.6728441362702142, -0.6711110485830432, -0.66943395371527, -0.6678099762884813, -0.6662364434105257, -0.6647108662054961, -0.663230923420997, -0.6617944467670895, -0.6603994078595861, -0.6590439064730162, -0.6577261599868507, -0.6564444939049281, -0.6551973332479974, -0.6539831947939092, -0.6528006800235744, -0.6516484686781041, -0.6505253129307675, -0.6494300320136972, -0.6483615073138935, -0.6473186778584932, -0.6463005361529213, -0.6453061243246339, -0.6443345305615367, -0.6433848857614066, -0.6424563604286959, -0.6415481617241312, -0.6406595306852978, -0.6397897395636392, -0.6389380892778718]\n"
     ]
    },
    {
     "name": "stdout",
     "output_type": "stream",
     "text": [
      "[-0.953627478405906, 1, -0.8393031575960777, -0.8250649981073366, -0.8119300130911142, -0.8003341332423588, -0.7900839447156613, -0.7809465616683156, -0.7727276465975592, -0.7652743381750042, -0.7584670509040734, -0.7522113942632132, -0.7464319026712474, -0.7410674291440955, -0.7360677931956161, -0.7313913276138919, -0.7270030628187669, -0.7228733655301767, -0.7189769043525303, -0.7152918535939534, -0.7117992729381513, -0.708482618598282, -0.7053273539549991, -0.7023206364083308, -0.6994510632084712, -0.6967084633924969, -0.6940837261590787, -0.6915686582633498, -0.6891558646912017, -0.6868386482110509, -0.6846109243106184, -0.6824671487756859, -0.6804022556552809, -0.6784116039762011, -0.6764909316389094, -0.67463631544706, -0.6728441362702142, -0.6711110485830432, -0.66943395371527, -0.6678099762884813, -0.6662364434105257, -0.6647108662054961, -0.663230923420997, -0.6617944467670895, -0.6603994078595861, -0.6590439064730162, -0.6577261599868507, -0.6564444939049281, -0.6551973332479974, -0.6539831947939092, -0.6528006800235744, -0.6516484686781041, -0.6505253129307675, -0.6494300320136972, -0.6483615073138935, -0.6473186778584932, -0.6463005361529213, -0.6453061243246339, -0.6443345305615367, -0.6433848857614066, -0.6424563604286959, -0.6415481617241312, -0.6406595306852978, -0.6397897395636392, -0.6389380892778718, -0.6381039069110557]\n",
      "[-0.953627478405906, 1, -0.8393031575960777, -0.8250649981073366, -0.8119300130911142, -0.8003341332423588, -0.7900839447156613, -0.7809465616683156, -0.7727276465975592, -0.7652743381750042, -0.7584670509040734, -0.7522113942632132, -0.7464319026712474, -0.7410674291440955, -0.7360677931956161, -0.7313913276138919, -0.7270030628187669, -0.7228733655301767, -0.7189769043525303, -0.7152918535939534, -0.7117992729381513, -0.708482618598282, -0.7053273539549991, -0.7023206364083308, -0.6994510632084712, -0.6967084633924969, -0.6940837261590787, -0.6915686582633498, -0.6891558646912017, -0.6868386482110509, -0.6846109243106184, -0.6824671487756859, -0.6804022556552809, -0.6784116039762011, -0.6764909316389094, -0.67463631544706, -0.6728441362702142, -0.6711110485830432, -0.66943395371527, -0.6678099762884813, -0.6662364434105257, -0.6647108662054961, -0.663230923420997, -0.6617944467670895, -0.6603994078595861, -0.6590439064730162, -0.6577261599868507, -0.6564444939049281, -0.6551973332479974, -0.6539831947939092, -0.6528006800235744, -0.6516484686781041, -0.6505253129307675, -0.6494300320136972, -0.6483615073138935, -0.6473186778584932, -0.6463005361529213, -0.6453061243246339, -0.6443345305615367, -0.6433848857614066, -0.6424563604286959, -0.6415481617241312, -0.6406595306852978, -0.6397897395636392, -0.6389380892778718, -0.6381039069110557, -0.6372865432804247]\n",
      "[-0.953627478405906, 1, -0.8393031575960777, -0.8250649981073366, -0.8119300130911142, -0.8003341332423588, -0.7900839447156613, -0.7809465616683156, -0.7727276465975592, -0.7652743381750042, -0.7584670509040734, -0.7522113942632132, -0.7464319026712474, -0.7410674291440955, -0.7360677931956161, -0.7313913276138919, -0.7270030628187669, -0.7228733655301767, -0.7189769043525303, -0.7152918535939534, -0.7117992729381513, -0.708482618598282, -0.7053273539549991, -0.7023206364083308, -0.6994510632084712, -0.6967084633924969, -0.6940837261590787, -0.6915686582633498, -0.6891558646912017, -0.6868386482110509, -0.6846109243106184, -0.6824671487756859, -0.6804022556552809, -0.6784116039762011, -0.6764909316389094, -0.67463631544706, -0.6728441362702142, -0.6711110485830432, -0.66943395371527, -0.6678099762884813, -0.6662364434105257, -0.6647108662054961, -0.663230923420997, -0.6617944467670895, -0.6603994078595861, -0.6590439064730162, -0.6577261599868507, -0.6564444939049281, -0.6551973332479974, -0.6539831947939092, -0.6528006800235744, -0.6516484686781041, -0.6505253129307675, -0.6494300320136972, -0.6483615073138935, -0.6473186778584932, -0.6463005361529213, -0.6453061243246339, -0.6443345305615367, -0.6433848857614066, -0.6424563604286959, -0.6415481617241312, -0.6406595306852978, -0.6397897395636392, -0.6389380892778718, -0.6381039069110557, -0.6372865432804247, -0.6364853704926645]\n",
      "[-0.953627478405906, 1, -0.8393031575960777, -0.8250649981073366, -0.8119300130911142, -0.8003341332423588, -0.7900839447156613, -0.7809465616683156, -0.7727276465975592, -0.7652743381750042, -0.7584670509040734, -0.7522113942632132, -0.7464319026712474, -0.7410674291440955, -0.7360677931956161, -0.7313913276138919, -0.7270030628187669, -0.7228733655301767, -0.7189769043525303, -0.7152918535939534, -0.7117992729381513, -0.708482618598282, -0.7053273539549991, -0.7023206364083308, -0.6994510632084712, -0.6967084633924969, -0.6940837261590787, -0.6915686582633498, -0.6891558646912017, -0.6868386482110509, -0.6846109243106184, -0.6824671487756859, -0.6804022556552809, -0.6784116039762011, -0.6764909316389094, -0.67463631544706, -0.6728441362702142, -0.6711110485830432, -0.66943395371527, -0.6678099762884813, -0.6662364434105257, -0.6647108662054961, -0.663230923420997, -0.6617944467670895, -0.6603994078595861, -0.6590439064730162, -0.6577261599868507, -0.6564444939049281, -0.6551973332479974, -0.6539831947939092, -0.6528006800235744, -0.6516484686781041, -0.6505253129307675, -0.6494300320136972, -0.6483615073138935, -0.6473186778584932, -0.6463005361529213, -0.6453061243246339, -0.6443345305615367, -0.6433848857614066, -0.6424563604286959, -0.6415481617241312, -0.6406595306852978, -0.6397897395636392, -0.6389380892778718, -0.6381039069110557, -0.6372865432804247, -0.6364853704926645, -0.6356997794700874]\n",
      "[-0.953627478405906, 1, -0.8393031575960777, -0.8250649981073366, -0.8119300130911142, -0.8003341332423588, -0.7900839447156613, -0.7809465616683156, -0.7727276465975592, -0.7652743381750042, -0.7584670509040734, -0.7522113942632132, -0.7464319026712474, -0.7410674291440955, -0.7360677931956161, -0.7313913276138919, -0.7270030628187669, -0.7228733655301767, -0.7189769043525303, -0.7152918535939534, -0.7117992729381513, -0.708482618598282, -0.7053273539549991, -0.7023206364083308, -0.6994510632084712, -0.6967084633924969, -0.6940837261590787, -0.6915686582633498, -0.6891558646912017, -0.6868386482110509, -0.6846109243106184, -0.6824671487756859, -0.6804022556552809, -0.6784116039762011, -0.6764909316389094, -0.67463631544706, -0.6728441362702142, -0.6711110485830432, -0.66943395371527, -0.6678099762884813, -0.6662364434105257, -0.6647108662054961, -0.663230923420997, -0.6617944467670895, -0.6603994078595861, -0.6590439064730162, -0.6577261599868507, -0.6564444939049281, -0.6551973332479974, -0.6539831947939092, -0.6528006800235744, -0.6516484686781041, -0.6505253129307675, -0.6494300320136972, -0.6483615073138935, -0.6473186778584932, -0.6463005361529213, -0.6453061243246339, -0.6443345305615367, -0.6433848857614066, -0.6424563604286959, -0.6415481617241312, -0.6406595306852978, -0.6397897395636392, -0.6389380892778718, -0.6381039069110557, -0.6372865432804247, -0.6364853704926645, -0.6356997794700874, -0.6349291774185986]\n",
      "[-0.953627478405906, 1, -0.8393031575960777, -0.8250649981073366, -0.8119300130911142, -0.8003341332423588, -0.7900839447156613, -0.7809465616683156, -0.7727276465975592, -0.7652743381750042, -0.7584670509040734, -0.7522113942632132, -0.7464319026712474, -0.7410674291440955, -0.7360677931956161, -0.7313913276138919, -0.7270030628187669, -0.7228733655301767, -0.7189769043525303, -0.7152918535939534, -0.7117992729381513, -0.708482618598282, -0.7053273539549991, -0.7023206364083308, -0.6994510632084712, -0.6967084633924969, -0.6940837261590787, -0.6915686582633498, -0.6891558646912017, -0.6868386482110509, -0.6846109243106184, -0.6824671487756859, -0.6804022556552809, -0.6784116039762011, -0.6764909316389094, -0.67463631544706, -0.6728441362702142, -0.6711110485830432, -0.66943395371527, -0.6678099762884813, -0.6662364434105257, -0.6647108662054961, -0.663230923420997, -0.6617944467670895, -0.6603994078595861, -0.6590439064730162, -0.6577261599868507, -0.6564444939049281, -0.6551973332479974, -0.6539831947939092, -0.6528006800235744, -0.6516484686781041, -0.6505253129307675, -0.6494300320136972, -0.6483615073138935, -0.6473186778584932, -0.6463005361529213, -0.6453061243246339, -0.6443345305615367, -0.6433848857614066, -0.6424563604286959, -0.6415481617241312, -0.6406595306852978, -0.6397897395636392, -0.6389380892778718, -0.6381039069110557, -0.6372865432804247, -0.6364853704926645, -0.6356997794700874, -0.6349291774185986, -0.634172985171972]\n"
     ]
    },
    {
     "name": "stdout",
     "output_type": "stream",
     "text": [
      "[-0.953627478405906, 1, -0.8393031575960777, -0.8250649981073366, -0.8119300130911142, -0.8003341332423588, -0.7900839447156613, -0.7809465616683156, -0.7727276465975592, -0.7652743381750042, -0.7584670509040734, -0.7522113942632132, -0.7464319026712474, -0.7410674291440955, -0.7360677931956161, -0.7313913276138919, -0.7270030628187669, -0.7228733655301767, -0.7189769043525303, -0.7152918535939534, -0.7117992729381513, -0.708482618598282, -0.7053273539549991, -0.7023206364083308, -0.6994510632084712, -0.6967084633924969, -0.6940837261590787, -0.6915686582633498, -0.6891558646912017, -0.6868386482110509, -0.6846109243106184, -0.6824671487756859, -0.6804022556552809, -0.6784116039762011, -0.6764909316389094, -0.67463631544706, -0.6728441362702142, -0.6711110485830432, -0.66943395371527, -0.6678099762884813, -0.6662364434105257, -0.6647108662054961, -0.663230923420997, -0.6617944467670895, -0.6603994078595861, -0.6590439064730162, -0.6577261599868507, -0.6564444939049281, -0.6551973332479974, -0.6539831947939092, -0.6528006800235744, -0.6516484686781041, -0.6505253129307675, -0.6494300320136972, -0.6483615073138935, -0.6473186778584932, -0.6463005361529213, -0.6453061243246339, -0.6443345305615367, -0.6433848857614066, -0.6424563604286959, -0.6415481617241312, -0.6406595306852978, -0.6397897395636392, -0.6389380892778718, -0.6381039069110557, -0.6372865432804247, -0.6364853704926645, -0.6356997794700874, -0.6349291774185986, -0.634172985171972, -0.6334306343287608]\n",
      "[-0.953627478405906, 1, -0.8393031575960777, -0.8250649981073366, -0.8119300130911142, -0.8003341332423588, -0.7900839447156613, -0.7809465616683156, -0.7727276465975592, -0.7652743381750042, -0.7584670509040734, -0.7522113942632132, -0.7464319026712474, -0.7410674291440955, -0.7360677931956161, -0.7313913276138919, -0.7270030628187669, -0.7228733655301767, -0.7189769043525303, -0.7152918535939534, -0.7117992729381513, -0.708482618598282, -0.7053273539549991, -0.7023206364083308, -0.6994510632084712, -0.6967084633924969, -0.6940837261590787, -0.6915686582633498, -0.6891558646912017, -0.6868386482110509, -0.6846109243106184, -0.6824671487756859, -0.6804022556552809, -0.6784116039762011, -0.6764909316389094, -0.67463631544706, -0.6728441362702142, -0.6711110485830432, -0.66943395371527, -0.6678099762884813, -0.6662364434105257, -0.6647108662054961, -0.663230923420997, -0.6617944467670895, -0.6603994078595861, -0.6590439064730162, -0.6577261599868507, -0.6564444939049281, -0.6551973332479974, -0.6539831947939092, -0.6528006800235744, -0.6516484686781041, -0.6505253129307675, -0.6494300320136972, -0.6483615073138935, -0.6473186778584932, -0.6463005361529213, -0.6453061243246339, -0.6443345305615367, -0.6433848857614066, -0.6424563604286959, -0.6415481617241312, -0.6406595306852978, -0.6397897395636392, -0.6389380892778718, -0.6381039069110557, -0.6372865432804247, -0.6364853704926645, -0.6356997794700874, -0.6349291774185986, -0.634172985171972, -0.6334306343287608, -0.6327015641563776]\n",
      "[-0.953627478405906, 1, -0.8393031575960777, -0.8250649981073366, -0.8119300130911142, -0.8003341332423588, -0.7900839447156613, -0.7809465616683156, -0.7727276465975592, -0.7652743381750042, -0.7584670509040734, -0.7522113942632132, -0.7464319026712474, -0.7410674291440955, -0.7360677931956161, -0.7313913276138919, -0.7270030628187669, -0.7228733655301767, -0.7189769043525303, -0.7152918535939534, -0.7117992729381513, -0.708482618598282, -0.7053273539549991, -0.7023206364083308, -0.6994510632084712, -0.6967084633924969, -0.6940837261590787, -0.6915686582633498, -0.6891558646912017, -0.6868386482110509, -0.6846109243106184, -0.6824671487756859, -0.6804022556552809, -0.6784116039762011, -0.6764909316389094, -0.67463631544706, -0.6728441362702142, -0.6711110485830432, -0.66943395371527, -0.6678099762884813, -0.6662364434105257, -0.6647108662054961, -0.663230923420997, -0.6617944467670895, -0.6603994078595861, -0.6590439064730162, -0.6577261599868507, -0.6564444939049281, -0.6551973332479974, -0.6539831947939092, -0.6528006800235744, -0.6516484686781041, -0.6505253129307675, -0.6494300320136972, -0.6483615073138935, -0.6473186778584932, -0.6463005361529213, -0.6453061243246339, -0.6443345305615367, -0.6433848857614066, -0.6424563604286959, -0.6415481617241312, -0.6406595306852978, -0.6397897395636392, -0.6389380892778718, -0.6381039069110557, -0.6372865432804247, -0.6364853704926645, -0.6356997794700874, -0.6349291774185986, -0.634172985171972, -0.6334306343287608, -0.6327015641563776, -0.6319852181095484]\n",
      "[-0.953627478405906, 1, -0.8393031575960777, -0.8250649981073366, -0.8119300130911142, -0.8003341332423588, -0.7900839447156613, -0.7809465616683156, -0.7727276465975592, -0.7652743381750042, -0.7584670509040734, -0.7522113942632132, -0.7464319026712474, -0.7410674291440955, -0.7360677931956161, -0.7313913276138919, -0.7270030628187669, -0.7228733655301767, -0.7189769043525303, -0.7152918535939534, -0.7117992729381513, -0.708482618598282, -0.7053273539549991, -0.7023206364083308, -0.6994510632084712, -0.6967084633924969, -0.6940837261590787, -0.6915686582633498, -0.6891558646912017, -0.6868386482110509, -0.6846109243106184, -0.6824671487756859, -0.6804022556552809, -0.6784116039762011, -0.6764909316389094, -0.67463631544706, -0.6728441362702142, -0.6711110485830432, -0.66943395371527, -0.6678099762884813, -0.6662364434105257, -0.6647108662054961, -0.663230923420997, -0.6617944467670895, -0.6603994078595861, -0.6590439064730162, -0.6577261599868507, -0.6564444939049281, -0.6551973332479974, -0.6539831947939092, -0.6528006800235744, -0.6516484686781041, -0.6505253129307675, -0.6494300320136972, -0.6483615073138935, -0.6473186778584932, -0.6463005361529213, -0.6453061243246339, -0.6443345305615367, -0.6433848857614066, -0.6424563604286959, -0.6415481617241312, -0.6406595306852978, -0.6397897395636392, -0.6389380892778718, -0.6381039069110557, -0.6372865432804247, -0.6364853704926645, -0.6356997794700874, -0.6349291774185986, -0.634172985171972, -0.6334306343287608, -0.6327015641563776, -0.6319852181095484, -0.631281039908572]\n",
      "[-0.953627478405906, 1, -0.8393031575960777, -0.8250649981073366, -0.8119300130911142, -0.8003341332423588, -0.7900839447156613, -0.7809465616683156, -0.7727276465975592, -0.7652743381750042, -0.7584670509040734, -0.7522113942632132, -0.7464319026712474, -0.7410674291440955, -0.7360677931956161, -0.7313913276138919, -0.7270030628187669, -0.7228733655301767, -0.7189769043525303, -0.7152918535939534, -0.7117992729381513, -0.708482618598282, -0.7053273539549991, -0.7023206364083308, -0.6994510632084712, -0.6967084633924969, -0.6940837261590787, -0.6915686582633498, -0.6891558646912017, -0.6868386482110509, -0.6846109243106184, -0.6824671487756859, -0.6804022556552809, -0.6784116039762011, -0.6764909316389094, -0.67463631544706, -0.6728441362702142, -0.6711110485830432, -0.66943395371527, -0.6678099762884813, -0.6662364434105257, -0.6647108662054961, -0.663230923420997, -0.6617944467670895, -0.6603994078595861, -0.6590439064730162, -0.6577261599868507, -0.6564444939049281, -0.6551973332479974, -0.6539831947939092, -0.6528006800235744, -0.6516484686781041, -0.6505253129307675, -0.6494300320136972, -0.6483615073138935, -0.6473186778584932, -0.6463005361529213, -0.6453061243246339, -0.6443345305615367, -0.6433848857614066, -0.6424563604286959, -0.6415481617241312, -0.6406595306852978, -0.6397897395636392, -0.6389380892778718, -0.6381039069110557, -0.6372865432804247, -0.6364853704926645, -0.6356997794700874, -0.6349291774185986, -0.634172985171972, -0.6334306343287608, -0.6327015641563776, -0.6319852181095484, -0.631281039908572, -0.6305884689154482]\n",
      "[-0.953627478405906, 1, -0.8393031575960777, -0.8250649981073366, -0.8119300130911142, -0.8003341332423588, -0.7900839447156613, -0.7809465616683156, -0.7727276465975592, -0.7652743381750042, -0.7584670509040734, -0.7522113942632132, -0.7464319026712474, -0.7410674291440955, -0.7360677931956161, -0.7313913276138919, -0.7270030628187669, -0.7228733655301767, -0.7189769043525303, -0.7152918535939534, -0.7117992729381513, -0.708482618598282, -0.7053273539549991, -0.7023206364083308, -0.6994510632084712, -0.6967084633924969, -0.6940837261590787, -0.6915686582633498, -0.6891558646912017, -0.6868386482110509, -0.6846109243106184, -0.6824671487756859, -0.6804022556552809, -0.6784116039762011, -0.6764909316389094, -0.67463631544706, -0.6728441362702142, -0.6711110485830432, -0.66943395371527, -0.6678099762884813, -0.6662364434105257, -0.6647108662054961, -0.663230923420997, -0.6617944467670895, -0.6603994078595861, -0.6590439064730162, -0.6577261599868507, -0.6564444939049281, -0.6551973332479974, -0.6539831947939092, -0.6528006800235744, -0.6516484686781041, -0.6505253129307675, -0.6494300320136972, -0.6483615073138935, -0.6473186778584932, -0.6463005361529213, -0.6453061243246339, -0.6443345305615367, -0.6433848857614066, -0.6424563604286959, -0.6415481617241312, -0.6406595306852978, -0.6397897395636392, -0.6389380892778718, -0.6381039069110557, -0.6372865432804247, -0.6364853704926645, -0.6356997794700874, -0.6349291774185986, -0.634172985171972, -0.6334306343287608, -0.6327015641563776, -0.6319852181095484, -0.631281039908572, -0.6305884689154482, -0.629906934709652]\n"
     ]
    },
    {
     "name": "stdout",
     "output_type": "stream",
     "text": [
      "[-0.953627478405906, 1, -0.8393031575960777, -0.8250649981073366, -0.8119300130911142, -0.8003341332423588, -0.7900839447156613, -0.7809465616683156, -0.7727276465975592, -0.7652743381750042, -0.7584670509040734, -0.7522113942632132, -0.7464319026712474, -0.7410674291440955, -0.7360677931956161, -0.7313913276138919, -0.7270030628187669, -0.7228733655301767, -0.7189769043525303, -0.7152918535939534, -0.7117992729381513, -0.708482618598282, -0.7053273539549991, -0.7023206364083308, -0.6994510632084712, -0.6967084633924969, -0.6940837261590787, -0.6915686582633498, -0.6891558646912017, -0.6868386482110509, -0.6846109243106184, -0.6824671487756859, -0.6804022556552809, -0.6784116039762011, -0.6764909316389094, -0.67463631544706, -0.6728441362702142, -0.6711110485830432, -0.66943395371527, -0.6678099762884813, -0.6662364434105257, -0.6647108662054961, -0.663230923420997, -0.6617944467670895, -0.6603994078595861, -0.6590439064730162, -0.6577261599868507, -0.6564444939049281, -0.6551973332479974, -0.6539831947939092, -0.6528006800235744, -0.6516484686781041, -0.6505253129307675, -0.6494300320136972, -0.6483615073138935, -0.6473186778584932, -0.6463005361529213, -0.6453061243246339, -0.6443345305615367, -0.6433848857614066, -0.6424563604286959, -0.6415481617241312, -0.6406595306852978, -0.6397897395636392, -0.6389380892778718, -0.6381039069110557, -0.6372865432804247, -0.6364853704926645, -0.6356997794700874, -0.6349291774185986, -0.634172985171972, -0.6334306343287608, -0.6327015641563776, -0.6319852181095484, -0.631281039908572, -0.6305884689154482, -0.629906934709652, -0.6292358504924778]\n",
      "[-0.953627478405906, 1, -0.8393031575960777, -0.8250649981073366, -0.8119300130911142, -0.8003341332423588, -0.7900839447156613, -0.7809465616683156, -0.7727276465975592, -0.7652743381750042, -0.7584670509040734, -0.7522113942632132, -0.7464319026712474, -0.7410674291440955, -0.7360677931956161, -0.7313913276138919, -0.7270030628187669, -0.7228733655301767, -0.7189769043525303, -0.7152918535939534, -0.7117992729381513, -0.708482618598282, -0.7053273539549991, -0.7023206364083308, -0.6994510632084712, -0.6967084633924969, -0.6940837261590787, -0.6915686582633498, -0.6891558646912017, -0.6868386482110509, -0.6846109243106184, -0.6824671487756859, -0.6804022556552809, -0.6784116039762011, -0.6764909316389094, -0.67463631544706, -0.6728441362702142, -0.6711110485830432, -0.66943395371527, -0.6678099762884813, -0.6662364434105257, -0.6647108662054961, -0.663230923420997, -0.6617944467670895, -0.6603994078595861, -0.6590439064730162, -0.6577261599868507, -0.6564444939049281, -0.6551973332479974, -0.6539831947939092, -0.6528006800235744, -0.6516484686781041, -0.6505253129307675, -0.6494300320136972, -0.6483615073138935, -0.6473186778584932, -0.6463005361529213, -0.6453061243246339, -0.6443345305615367, -0.6433848857614066, -0.6424563604286959, -0.6415481617241312, -0.6406595306852978, -0.6397897395636392, -0.6389380892778718, -0.6381039069110557, -0.6372865432804247, -0.6364853704926645, -0.6356997794700874, -0.6349291774185986, -0.634172985171972, -0.6334306343287608, -0.6327015641563776, -0.6319852181095484, -0.631281039908572, -0.6305884689154482, -0.629906934709652, -0.6292358504924778, -0.6285746049597947]\n",
      "[-0.953627478405906, 1, -0.8393031575960777, -0.8250649981073366, -0.8119300130911142, -0.8003341332423588, -0.7900839447156613, -0.7809465616683156, -0.7727276465975592, -0.7652743381750042, -0.7584670509040734, -0.7522113942632132, -0.7464319026712474, -0.7410674291440955, -0.7360677931956161, -0.7313913276138919, -0.7270030628187669, -0.7228733655301767, -0.7189769043525303, -0.7152918535939534, -0.7117992729381513, -0.708482618598282, -0.7053273539549991, -0.7023206364083308, -0.6994510632084712, -0.6967084633924969, -0.6940837261590787, -0.6915686582633498, -0.6891558646912017, -0.6868386482110509, -0.6846109243106184, -0.6824671487756859, -0.6804022556552809, -0.6784116039762011, -0.6764909316389094, -0.67463631544706, -0.6728441362702142, -0.6711110485830432, -0.66943395371527, -0.6678099762884813, -0.6662364434105257, -0.6647108662054961, -0.663230923420997, -0.6617944467670895, -0.6603994078595861, -0.6590439064730162, -0.6577261599868507, -0.6564444939049281, -0.6551973332479974, -0.6539831947939092, -0.6528006800235744, -0.6516484686781041, -0.6505253129307675, -0.6494300320136972, -0.6483615073138935, -0.6473186778584932, -0.6463005361529213, -0.6453061243246339, -0.6443345305615367, -0.6433848857614066, -0.6424563604286959, -0.6415481617241312, -0.6406595306852978, -0.6397897395636392, -0.6389380892778718, -0.6381039069110557, -0.6372865432804247, -0.6364853704926645, -0.6356997794700874, -0.6349291774185986, -0.634172985171972, -0.6334306343287608, -0.6327015641563776, -0.6319852181095484, -0.631281039908572, -0.6305884689154482, -0.629906934709652, -0.6292358504924778, -0.6285746049597947, -0.6279225521157059]\n",
      "[-0.953627478405906, 1, -0.8393031575960777, -0.8250649981073366, -0.8119300130911142, -0.8003341332423588, -0.7900839447156613, -0.7809465616683156, -0.7727276465975592, -0.7652743381750042, -0.7584670509040734, -0.7522113942632132, -0.7464319026712474, -0.7410674291440955, -0.7360677931956161, -0.7313913276138919, -0.7270030628187669, -0.7228733655301767, -0.7189769043525303, -0.7152918535939534, -0.7117992729381513, -0.708482618598282, -0.7053273539549991, -0.7023206364083308, -0.6994510632084712, -0.6967084633924969, -0.6940837261590787, -0.6915686582633498, -0.6891558646912017, -0.6868386482110509, -0.6846109243106184, -0.6824671487756859, -0.6804022556552809, -0.6784116039762011, -0.6764909316389094, -0.67463631544706, -0.6728441362702142, -0.6711110485830432, -0.66943395371527, -0.6678099762884813, -0.6662364434105257, -0.6647108662054961, -0.663230923420997, -0.6617944467670895, -0.6603994078595861, -0.6590439064730162, -0.6577261599868507, -0.6564444939049281, -0.6551973332479974, -0.6539831947939092, -0.6528006800235744, -0.6516484686781041, -0.6505253129307675, -0.6494300320136972, -0.6483615073138935, -0.6473186778584932, -0.6463005361529213, -0.6453061243246339, -0.6443345305615367, -0.6433848857614066, -0.6424563604286959, -0.6415481617241312, -0.6406595306852978, -0.6397897395636392, -0.6389380892778718, -0.6381039069110557, -0.6372865432804247, -0.6364853704926645, -0.6356997794700874, -0.6349291774185986, -0.634172985171972, -0.6334306343287608, -0.6327015641563776, -0.6319852181095484, -0.631281039908572, -0.6305884689154482, -0.629906934709652, -0.6292358504924778, -0.6285746049597947, -0.6279225521157059, -0.6272789982704126]\n",
      "[-0.953627478405906, 1, -0.8393031575960777, -0.8250649981073366, -0.8119300130911142, -0.8003341332423588, -0.7900839447156613, -0.7809465616683156, -0.7727276465975592, -0.7652743381750042, -0.7584670509040734, -0.7522113942632132, -0.7464319026712474, -0.7410674291440955, -0.7360677931956161, -0.7313913276138919, -0.7270030628187669, -0.7228733655301767, -0.7189769043525303, -0.7152918535939534, -0.7117992729381513, -0.708482618598282, -0.7053273539549991, -0.7023206364083308, -0.6994510632084712, -0.6967084633924969, -0.6940837261590787, -0.6915686582633498, -0.6891558646912017, -0.6868386482110509, -0.6846109243106184, -0.6824671487756859, -0.6804022556552809, -0.6784116039762011, -0.6764909316389094, -0.67463631544706, -0.6728441362702142, -0.6711110485830432, -0.66943395371527, -0.6678099762884813, -0.6662364434105257, -0.6647108662054961, -0.663230923420997, -0.6617944467670895, -0.6603994078595861, -0.6590439064730162, -0.6577261599868507, -0.6564444939049281, -0.6551973332479974, -0.6539831947939092, -0.6528006800235744, -0.6516484686781041, -0.6505253129307675, -0.6494300320136972, -0.6483615073138935, -0.6473186778584932, -0.6463005361529213, -0.6453061243246339, -0.6443345305615367, -0.6433848857614066, -0.6424563604286959, -0.6415481617241312, -0.6406595306852978, -0.6397897395636392, -0.6389380892778718, -0.6381039069110557, -0.6372865432804247, -0.6364853704926645, -0.6356997794700874, -0.6349291774185986, -0.634172985171972, -0.6334306343287608, -0.6327015641563776, -0.6319852181095484, -0.631281039908572, -0.6305884689154482, -0.629906934709652, -0.6292358504924778, -0.6285746049597947, -0.6279225521157059, -0.6272789982704126, -0.6266431851527159]\n"
     ]
    },
    {
     "name": "stdout",
     "output_type": "stream",
     "text": [
      "[-0.953627478405906, 1, -0.8393031575960777, -0.8250649981073366, -0.8119300130911142, -0.8003341332423588, -0.7900839447156613, -0.7809465616683156, -0.7727276465975592, -0.7652743381750042, -0.7584670509040734, -0.7522113942632132, -0.7464319026712474, -0.7410674291440955, -0.7360677931956161, -0.7313913276138919, -0.7270030628187669, -0.7228733655301767, -0.7189769043525303, -0.7152918535939534, -0.7117992729381513, -0.708482618598282, -0.7053273539549991, -0.7023206364083308, -0.6994510632084712, -0.6967084633924969, -0.6940837261590787, -0.6915686582633498, -0.6891558646912017, -0.6868386482110509, -0.6846109243106184, -0.6824671487756859, -0.6804022556552809, -0.6784116039762011, -0.6764909316389094, -0.67463631544706, -0.6728441362702142, -0.6711110485830432, -0.66943395371527, -0.6678099762884813, -0.6662364434105257, -0.6647108662054961, -0.663230923420997, -0.6617944467670895, -0.6603994078595861, -0.6590439064730162, -0.6577261599868507, -0.6564444939049281, -0.6551973332479974, -0.6539831947939092, -0.6528006800235744, -0.6516484686781041, -0.6505253129307675, -0.6494300320136972, -0.6483615073138935, -0.6473186778584932, -0.6463005361529213, -0.6453061243246339, -0.6443345305615367, -0.6433848857614066, -0.6424563604286959, -0.6415481617241312, -0.6406595306852978, -0.6397897395636392, -0.6389380892778718, -0.6381039069110557, -0.6372865432804247, -0.6364853704926645, -0.6356997794700874, -0.6349291774185986, -0.634172985171972, -0.6334306343287608, -0.6327015641563776, -0.6319852181095484, -0.631281039908572, -0.6305884689154482, -0.629906934709652, -0.6292358504924778, -0.6285746049597947, -0.6279225521157059, -0.6272789982704126, -0.6266431851527159, -0.6260142675655516]\n",
      "[-0.953627478405906, 1, -0.8393031575960777, -0.8250649981073366, -0.8119300130911142, -0.8003341332423588, -0.7900839447156613, -0.7809465616683156, -0.7727276465975592, -0.7652743381750042, -0.7584670509040734, -0.7522113942632132, -0.7464319026712474, -0.7410674291440955, -0.7360677931956161, -0.7313913276138919, -0.7270030628187669, -0.7228733655301767, -0.7189769043525303, -0.7152918535939534, -0.7117992729381513, -0.708482618598282, -0.7053273539549991, -0.7023206364083308, -0.6994510632084712, -0.6967084633924969, -0.6940837261590787, -0.6915686582633498, -0.6891558646912017, -0.6868386482110509, -0.6846109243106184, -0.6824671487756859, -0.6804022556552809, -0.6784116039762011, -0.6764909316389094, -0.67463631544706, -0.6728441362702142, -0.6711110485830432, -0.66943395371527, -0.6678099762884813, -0.6662364434105257, -0.6647108662054961, -0.663230923420997, -0.6617944467670895, -0.6603994078595861, -0.6590439064730162, -0.6577261599868507, -0.6564444939049281, -0.6551973332479974, -0.6539831947939092, -0.6528006800235744, -0.6516484686781041, -0.6505253129307675, -0.6494300320136972, -0.6483615073138935, -0.6473186778584932, -0.6463005361529213, -0.6453061243246339, -0.6443345305615367, -0.6433848857614066, -0.6424563604286959, -0.6415481617241312, -0.6406595306852978, -0.6397897395636392, -0.6389380892778718, -0.6381039069110557, -0.6372865432804247, -0.6364853704926645, -0.6356997794700874, -0.6349291774185986, -0.634172985171972, -0.6334306343287608, -0.6327015641563776, -0.6319852181095484, -0.631281039908572, -0.6305884689154482, -0.629906934709652, -0.6292358504924778, -0.6285746049597947, -0.6279225521157059, -0.6272789982704126, -0.6266431851527159, -0.6260142675655516, -0.6253912833690265]\n",
      "[-0.953627478405906, 1, -0.8393031575960777, -0.8250649981073366, -0.8119300130911142, -0.8003341332423588, -0.7900839447156613, -0.7809465616683156, -0.7727276465975592, -0.7652743381750042, -0.7584670509040734, -0.7522113942632132, -0.7464319026712474, -0.7410674291440955, -0.7360677931956161, -0.7313913276138919, -0.7270030628187669, -0.7228733655301767, -0.7189769043525303, -0.7152918535939534, -0.7117992729381513, -0.708482618598282, -0.7053273539549991, -0.7023206364083308, -0.6994510632084712, -0.6967084633924969, -0.6940837261590787, -0.6915686582633498, -0.6891558646912017, -0.6868386482110509, -0.6846109243106184, -0.6824671487756859, -0.6804022556552809, -0.6784116039762011, -0.6764909316389094, -0.67463631544706, -0.6728441362702142, -0.6711110485830432, -0.66943395371527, -0.6678099762884813, -0.6662364434105257, -0.6647108662054961, -0.663230923420997, -0.6617944467670895, -0.6603994078595861, -0.6590439064730162, -0.6577261599868507, -0.6564444939049281, -0.6551973332479974, -0.6539831947939092, -0.6528006800235744, -0.6516484686781041, -0.6505253129307675, -0.6494300320136972, -0.6483615073138935, -0.6473186778584932, -0.6463005361529213, -0.6453061243246339, -0.6443345305615367, -0.6433848857614066, -0.6424563604286959, -0.6415481617241312, -0.6406595306852978, -0.6397897395636392, -0.6389380892778718, -0.6381039069110557, -0.6372865432804247, -0.6364853704926645, -0.6356997794700874, -0.6349291774185986, -0.634172985171972, -0.6334306343287608, -0.6327015641563776, -0.6319852181095484, -0.631281039908572, -0.6305884689154482, -0.629906934709652, -0.6292358504924778, -0.6285746049597947, -0.6279225521157059, -0.6272789982704126, -0.6266431851527159, -0.6260142675655516, -0.6253912833690265, -0.6247731122839468]\n",
      "[-0.953627478405906, 1, -0.8393031575960777, -0.8250649981073366, -0.8119300130911142, -0.8003341332423588, -0.7900839447156613, -0.7809465616683156, -0.7727276465975592, -0.7652743381750042, -0.7584670509040734, -0.7522113942632132, -0.7464319026712474, -0.7410674291440955, -0.7360677931956161, -0.7313913276138919, -0.7270030628187669, -0.7228733655301767, -0.7189769043525303, -0.7152918535939534, -0.7117992729381513, -0.708482618598282, -0.7053273539549991, -0.7023206364083308, -0.6994510632084712, -0.6967084633924969, -0.6940837261590787, -0.6915686582633498, -0.6891558646912017, -0.6868386482110509, -0.6846109243106184, -0.6824671487756859, -0.6804022556552809, -0.6784116039762011, -0.6764909316389094, -0.67463631544706, -0.6728441362702142, -0.6711110485830432, -0.66943395371527, -0.6678099762884813, -0.6662364434105257, -0.6647108662054961, -0.663230923420997, -0.6617944467670895, -0.6603994078595861, -0.6590439064730162, -0.6577261599868507, -0.6564444939049281, -0.6551973332479974, -0.6539831947939092, -0.6528006800235744, -0.6516484686781041, -0.6505253129307675, -0.6494300320136972, -0.6483615073138935, -0.6473186778584932, -0.6463005361529213, -0.6453061243246339, -0.6443345305615367, -0.6433848857614066, -0.6424563604286959, -0.6415481617241312, -0.6406595306852978, -0.6397897395636392, -0.6389380892778718, -0.6381039069110557, -0.6372865432804247, -0.6364853704926645, -0.6356997794700874, -0.6349291774185986, -0.634172985171972, -0.6334306343287608, -0.6327015641563776, -0.6319852181095484, -0.631281039908572, -0.6305884689154482, -0.629906934709652, -0.6292358504924778, -0.6285746049597947, -0.6279225521157059, -0.6272789982704126, -0.6266431851527159, -0.6260142675655516, -0.6253912833690265, -0.6247731122839468, -0.6241584182735096]\n",
      "[-0.953627478405906, 1, -0.8393031575960777, -0.8250649981073366, -0.8119300130911142, -0.8003341332423588, -0.7900839447156613, -0.7809465616683156, -0.7727276465975592, -0.7652743381750042, -0.7584670509040734, -0.7522113942632132, -0.7464319026712474, -0.7410674291440955, -0.7360677931956161, -0.7313913276138919, -0.7270030628187669, -0.7228733655301767, -0.7189769043525303, -0.7152918535939534, -0.7117992729381513, -0.708482618598282, -0.7053273539549991, -0.7023206364083308, -0.6994510632084712, -0.6967084633924969, -0.6940837261590787, -0.6915686582633498, -0.6891558646912017, -0.6868386482110509, -0.6846109243106184, -0.6824671487756859, -0.6804022556552809, -0.6784116039762011, -0.6764909316389094, -0.67463631544706, -0.6728441362702142, -0.6711110485830432, -0.66943395371527, -0.6678099762884813, -0.6662364434105257, -0.6647108662054961, -0.663230923420997, -0.6617944467670895, -0.6603994078595861, -0.6590439064730162, -0.6577261599868507, -0.6564444939049281, -0.6551973332479974, -0.6539831947939092, -0.6528006800235744, -0.6516484686781041, -0.6505253129307675, -0.6494300320136972, -0.6483615073138935, -0.6473186778584932, -0.6463005361529213, -0.6453061243246339, -0.6443345305615367, -0.6433848857614066, -0.6424563604286959, -0.6415481617241312, -0.6406595306852978, -0.6397897395636392, -0.6389380892778718, -0.6381039069110557, -0.6372865432804247, -0.6364853704926645, -0.6356997794700874, -0.6349291774185986, -0.634172985171972, -0.6334306343287608, -0.6327015641563776, -0.6319852181095484, -0.631281039908572, -0.6305884689154482, -0.629906934709652, -0.6292358504924778, -0.6285746049597947, -0.6279225521157059, -0.6272789982704126, -0.6266431851527159, -0.6260142675655516, -0.6253912833690265, -0.6247731122839468, -0.6241584182735096, -0.6235455671867385]\n"
     ]
    },
    {
     "name": "stdout",
     "output_type": "stream",
     "text": [
      "[-0.953627478405906, 1, -0.8393031575960777, -0.8250649981073366, -0.8119300130911142, -0.8003341332423588, -0.7900839447156613, -0.7809465616683156, -0.7727276465975592, -0.7652743381750042, -0.7584670509040734, -0.7522113942632132, -0.7464319026712474, -0.7410674291440955, -0.7360677931956161, -0.7313913276138919, -0.7270030628187669, -0.7228733655301767, -0.7189769043525303, -0.7152918535939534, -0.7117992729381513, -0.708482618598282, -0.7053273539549991, -0.7023206364083308, -0.6994510632084712, -0.6967084633924969, -0.6940837261590787, -0.6915686582633498, -0.6891558646912017, -0.6868386482110509, -0.6846109243106184, -0.6824671487756859, -0.6804022556552809, -0.6784116039762011, -0.6764909316389094, -0.67463631544706, -0.6728441362702142, -0.6711110485830432, -0.66943395371527, -0.6678099762884813, -0.6662364434105257, -0.6647108662054961, -0.663230923420997, -0.6617944467670895, -0.6603994078595861, -0.6590439064730162, -0.6577261599868507, -0.6564444939049281, -0.6551973332479974, -0.6539831947939092, -0.6528006800235744, -0.6516484686781041, -0.6505253129307675, -0.6494300320136972, -0.6483615073138935, -0.6473186778584932, -0.6463005361529213, -0.6453061243246339, -0.6443345305615367, -0.6433848857614066, -0.6424563604286959, -0.6415481617241312, -0.6406595306852978, -0.6397897395636392, -0.6389380892778718, -0.6381039069110557, -0.6372865432804247, -0.6364853704926645, -0.6356997794700874, -0.6349291774185986, -0.634172985171972, -0.6334306343287608, -0.6327015641563776, -0.6319852181095484, -0.631281039908572, -0.6305884689154482, -0.629906934709652, -0.6292358504924778, -0.6285746049597947, -0.6279225521157059, -0.6272789982704126, -0.6266431851527159, -0.6260142675655516, -0.6253912833690265, -0.6247731122839468, -0.6241584182735096, -0.6235455671867385, -0.6229325060212432]\n",
      "[-0.953627478405906, 1, -0.8393031575960777, -0.8250649981073366, -0.8119300130911142, -0.8003341332423588, -0.7900839447156613, -0.7809465616683156, -0.7727276465975592, -0.7652743381750042, -0.7584670509040734, -0.7522113942632132, -0.7464319026712474, -0.7410674291440955, -0.7360677931956161, -0.7313913276138919, -0.7270030628187669, -0.7228733655301767, -0.7189769043525303, -0.7152918535939534, -0.7117992729381513, -0.708482618598282, -0.7053273539549991, -0.7023206364083308, -0.6994510632084712, -0.6967084633924969, -0.6940837261590787, -0.6915686582633498, -0.6891558646912017, -0.6868386482110509, -0.6846109243106184, -0.6824671487756859, -0.6804022556552809, -0.6784116039762011, -0.6764909316389094, -0.67463631544706, -0.6728441362702142, -0.6711110485830432, -0.66943395371527, -0.6678099762884813, -0.6662364434105257, -0.6647108662054961, -0.663230923420997, -0.6617944467670895, -0.6603994078595861, -0.6590439064730162, -0.6577261599868507, -0.6564444939049281, -0.6551973332479974, -0.6539831947939092, -0.6528006800235744, -0.6516484686781041, -0.6505253129307675, -0.6494300320136972, -0.6483615073138935, -0.6473186778584932, -0.6463005361529213, -0.6453061243246339, -0.6443345305615367, -0.6433848857614066, -0.6424563604286959, -0.6415481617241312, -0.6406595306852978, -0.6397897395636392, -0.6389380892778718, -0.6381039069110557, -0.6372865432804247, -0.6364853704926645, -0.6356997794700874, -0.6349291774185986, -0.634172985171972, -0.6334306343287608, -0.6327015641563776, -0.6319852181095484, -0.631281039908572, -0.6305884689154482, -0.629906934709652, -0.6292358504924778, -0.6285746049597947, -0.6279225521157059, -0.6272789982704126, -0.6266431851527159, -0.6260142675655516, -0.6253912833690265, -0.6247731122839468, -0.6241584182735096, -0.6235455671867385, -0.6229325060212432, -0.6223165812461957]\n",
      "[-0.953627478405906, 1, -0.8393031575960777, -0.8250649981073366, -0.8119300130911142, -0.8003341332423588, -0.7900839447156613, -0.7809465616683156, -0.7727276465975592, -0.7652743381750042, -0.7584670509040734, -0.7522113942632132, -0.7464319026712474, -0.7410674291440955, -0.7360677931956161, -0.7313913276138919, -0.7270030628187669, -0.7228733655301767, -0.7189769043525303, -0.7152918535939534, -0.7117992729381513, -0.708482618598282, -0.7053273539549991, -0.7023206364083308, -0.6994510632084712, -0.6967084633924969, -0.6940837261590787, -0.6915686582633498, -0.6891558646912017, -0.6868386482110509, -0.6846109243106184, -0.6824671487756859, -0.6804022556552809, -0.6784116039762011, -0.6764909316389094, -0.67463631544706, -0.6728441362702142, -0.6711110485830432, -0.66943395371527, -0.6678099762884813, -0.6662364434105257, -0.6647108662054961, -0.663230923420997, -0.6617944467670895, -0.6603994078595861, -0.6590439064730162, -0.6577261599868507, -0.6564444939049281, -0.6551973332479974, -0.6539831947939092, -0.6528006800235744, -0.6516484686781041, -0.6505253129307675, -0.6494300320136972, -0.6483615073138935, -0.6473186778584932, -0.6463005361529213, -0.6453061243246339, -0.6443345305615367, -0.6433848857614066, -0.6424563604286959, -0.6415481617241312, -0.6406595306852978, -0.6397897395636392, -0.6389380892778718, -0.6381039069110557, -0.6372865432804247, -0.6364853704926645, -0.6356997794700874, -0.6349291774185986, -0.634172985171972, -0.6334306343287608, -0.6327015641563776, -0.6319852181095484, -0.631281039908572, -0.6305884689154482, -0.629906934709652, -0.6292358504924778, -0.6285746049597947, -0.6279225521157059, -0.6272789982704126, -0.6266431851527159, -0.6260142675655516, -0.6253912833690265, -0.6247731122839468, -0.6241584182735096, -0.6235455671867385, -0.6229325060212432, -0.6223165812461957, -0.6216942565533827]\n",
      "ERROR, gamma = 1.9\n",
      "[-0.953627478405906, 1, -0.8393031575960777, -0.8250649981073366, -0.8119300130911142, -0.8003341332423588, -0.7900839447156613, -0.7809465616683156, -0.7727276465975592, -0.7652743381750042, -0.7584670509040734, -0.7522113942632132, -0.7464319026712474, -0.7410674291440955, -0.7360677931956161, -0.7313913276138919, -0.7270030628187669, -0.7228733655301767, -0.7189769043525303, -0.7152918535939534, -0.7117992729381513, -0.708482618598282, -0.7053273539549991, -0.7023206364083308, -0.6994510632084712, -0.6967084633924969, -0.6940837261590787, -0.6915686582633498, -0.6891558646912017, -0.6868386482110509, -0.6846109243106184, -0.6824671487756859, -0.6804022556552809, -0.6784116039762011, -0.6764909316389094, -0.67463631544706, -0.6728441362702142, -0.6711110485830432, -0.66943395371527, -0.6678099762884813, -0.6662364434105257, -0.6647108662054961, -0.663230923420997, -0.6617944467670895, -0.6603994078595861, -0.6590439064730162, -0.6577261599868507, -0.6564444939049281, -0.6551973332479974, -0.6539831947939092, -0.6528006800235744, -0.6516484686781041, -0.6505253129307675, -0.6494300320136972, -0.6483615073138935, -0.6473186778584932, -0.6463005361529213, -0.6453061243246339, -0.6443345305615367, -0.6433848857614066, -0.6424563604286959, -0.6415481617241312, -0.6406595306852978, -0.6397897395636392, -0.6389380892778718, -0.6381039069110557, -0.6372865432804247, -0.6364853704926645, -0.6356997794700874, -0.6349291774185986, -0.634172985171972, -0.6334306343287608, -0.6327015641563776, -0.6319852181095484, -0.631281039908572, -0.6305884689154482, -0.629906934709652, -0.6292358504924778, -0.6285746049597947, -0.6279225521157059, -0.6272789982704126, -0.6266431851527159, -0.6260142675655516, -0.6253912833690265, -0.6247731122839468, -0.6241584182735096, -0.6235455671867385, -0.6229325060212432, -0.6223165812461957, -0.6216942565533827, 1, -0.6204088136164501]\n",
      "[-0.953627478405906, 1, -0.8393031575960777, -0.8250649981073366, -0.8119300130911142, -0.8003341332423588, -0.7900839447156613, -0.7809465616683156, -0.7727276465975592, -0.7652743381750042, -0.7584670509040734, -0.7522113942632132, -0.7464319026712474, -0.7410674291440955, -0.7360677931956161, -0.7313913276138919, -0.7270030628187669, -0.7228733655301767, -0.7189769043525303, -0.7152918535939534, -0.7117992729381513, -0.708482618598282, -0.7053273539549991, -0.7023206364083308, -0.6994510632084712, -0.6967084633924969, -0.6940837261590787, -0.6915686582633498, -0.6891558646912017, -0.6868386482110509, -0.6846109243106184, -0.6824671487756859, -0.6804022556552809, -0.6784116039762011, -0.6764909316389094, -0.67463631544706, -0.6728441362702142, -0.6711110485830432, -0.66943395371527, -0.6678099762884813, -0.6662364434105257, -0.6647108662054961, -0.663230923420997, -0.6617944467670895, -0.6603994078595861, -0.6590439064730162, -0.6577261599868507, -0.6564444939049281, -0.6551973332479974, -0.6539831947939092, -0.6528006800235744, -0.6516484686781041, -0.6505253129307675, -0.6494300320136972, -0.6483615073138935, -0.6473186778584932, -0.6463005361529213, -0.6453061243246339, -0.6443345305615367, -0.6433848857614066, -0.6424563604286959, -0.6415481617241312, -0.6406595306852978, -0.6397897395636392, -0.6389380892778718, -0.6381039069110557, -0.6372865432804247, -0.6364853704926645, -0.6356997794700874, -0.6349291774185986, -0.634172985171972, -0.6334306343287608, -0.6327015641563776, -0.6319852181095484, -0.631281039908572, -0.6305884689154482, -0.629906934709652, -0.6292358504924778, -0.6285746049597947, -0.6279225521157059, -0.6272789982704126, -0.6266431851527159, -0.6260142675655516, -0.6253912833690265, -0.6247731122839468, -0.6241584182735096, -0.6235455671867385, -0.6229325060212432, -0.6223165812461957, -0.6216942565533827, 1, -0.6204088136164501, -0.6197283007259102]\n"
     ]
    },
    {
     "name": "stdout",
     "output_type": "stream",
     "text": [
      "[-0.953627478405906, 1, -0.8393031575960777, -0.8250649981073366, -0.8119300130911142, -0.8003341332423588, -0.7900839447156613, -0.7809465616683156, -0.7727276465975592, -0.7652743381750042, -0.7584670509040734, -0.7522113942632132, -0.7464319026712474, -0.7410674291440955, -0.7360677931956161, -0.7313913276138919, -0.7270030628187669, -0.7228733655301767, -0.7189769043525303, -0.7152918535939534, -0.7117992729381513, -0.708482618598282, -0.7053273539549991, -0.7023206364083308, -0.6994510632084712, -0.6967084633924969, -0.6940837261590787, -0.6915686582633498, -0.6891558646912017, -0.6868386482110509, -0.6846109243106184, -0.6824671487756859, -0.6804022556552809, -0.6784116039762011, -0.6764909316389094, -0.67463631544706, -0.6728441362702142, -0.6711110485830432, -0.66943395371527, -0.6678099762884813, -0.6662364434105257, -0.6647108662054961, -0.663230923420997, -0.6617944467670895, -0.6603994078595861, -0.6590439064730162, -0.6577261599868507, -0.6564444939049281, -0.6551973332479974, -0.6539831947939092, -0.6528006800235744, -0.6516484686781041, -0.6505253129307675, -0.6494300320136972, -0.6483615073138935, -0.6473186778584932, -0.6463005361529213, -0.6453061243246339, -0.6443345305615367, -0.6433848857614066, -0.6424563604286959, -0.6415481617241312, -0.6406595306852978, -0.6397897395636392, -0.6389380892778718, -0.6381039069110557, -0.6372865432804247, -0.6364853704926645, -0.6356997794700874, -0.6349291774185986, -0.634172985171972, -0.6334306343287608, -0.6327015641563776, -0.6319852181095484, -0.631281039908572, -0.6305884689154482, -0.629906934709652, -0.6292358504924778, -0.6285746049597947, -0.6279225521157059, -0.6272789982704126, -0.6266431851527159, -0.6260142675655516, -0.6253912833690265, -0.6247731122839468, -0.6241584182735096, -0.6235455671867385, -0.6229325060212432, -0.6223165812461957, -0.6216942565533827, 1, -0.6204088136164501, -0.6197283007259102, -0.6190027204665967]\n",
      "[-0.953627478405906, 1, -0.8393031575960777, -0.8250649981073366, -0.8119300130911142, -0.8003341332423588, -0.7900839447156613, -0.7809465616683156, -0.7727276465975592, -0.7652743381750042, -0.7584670509040734, -0.7522113942632132, -0.7464319026712474, -0.7410674291440955, -0.7360677931956161, -0.7313913276138919, -0.7270030628187669, -0.7228733655301767, -0.7189769043525303, -0.7152918535939534, -0.7117992729381513, -0.708482618598282, -0.7053273539549991, -0.7023206364083308, -0.6994510632084712, -0.6967084633924969, -0.6940837261590787, -0.6915686582633498, -0.6891558646912017, -0.6868386482110509, -0.6846109243106184, -0.6824671487756859, -0.6804022556552809, -0.6784116039762011, -0.6764909316389094, -0.67463631544706, -0.6728441362702142, -0.6711110485830432, -0.66943395371527, -0.6678099762884813, -0.6662364434105257, -0.6647108662054961, -0.663230923420997, -0.6617944467670895, -0.6603994078595861, -0.6590439064730162, -0.6577261599868507, -0.6564444939049281, -0.6551973332479974, -0.6539831947939092, -0.6528006800235744, -0.6516484686781041, -0.6505253129307675, -0.6494300320136972, -0.6483615073138935, -0.6473186778584932, -0.6463005361529213, -0.6453061243246339, -0.6443345305615367, -0.6433848857614066, -0.6424563604286959, -0.6415481617241312, -0.6406595306852978, -0.6397897395636392, -0.6389380892778718, -0.6381039069110557, -0.6372865432804247, -0.6364853704926645, -0.6356997794700874, -0.6349291774185986, -0.634172985171972, -0.6334306343287608, -0.6327015641563776, -0.6319852181095484, -0.631281039908572, -0.6305884689154482, -0.629906934709652, -0.6292358504924778, -0.6285746049597947, -0.6279225521157059, -0.6272789982704126, -0.6266431851527159, -0.6260142675655516, -0.6253912833690265, -0.6247731122839468, -0.6241584182735096, -0.6235455671867385, -0.6229325060212432, -0.6223165812461957, -0.6216942565533827, 1, -0.6204088136164501, -0.6197283007259102, -0.6190027204665967, -0.6182045634468523]\n",
      "[-0.953627478405906, 1, -0.8393031575960777, -0.8250649981073366, -0.8119300130911142, -0.8003341332423588, -0.7900839447156613, -0.7809465616683156, -0.7727276465975592, -0.7652743381750042, -0.7584670509040734, -0.7522113942632132, -0.7464319026712474, -0.7410674291440955, -0.7360677931956161, -0.7313913276138919, -0.7270030628187669, -0.7228733655301767, -0.7189769043525303, -0.7152918535939534, -0.7117992729381513, -0.708482618598282, -0.7053273539549991, -0.7023206364083308, -0.6994510632084712, -0.6967084633924969, -0.6940837261590787, -0.6915686582633498, -0.6891558646912017, -0.6868386482110509, -0.6846109243106184, -0.6824671487756859, -0.6804022556552809, -0.6784116039762011, -0.6764909316389094, -0.67463631544706, -0.6728441362702142, -0.6711110485830432, -0.66943395371527, -0.6678099762884813, -0.6662364434105257, -0.6647108662054961, -0.663230923420997, -0.6617944467670895, -0.6603994078595861, -0.6590439064730162, -0.6577261599868507, -0.6564444939049281, -0.6551973332479974, -0.6539831947939092, -0.6528006800235744, -0.6516484686781041, -0.6505253129307675, -0.6494300320136972, -0.6483615073138935, -0.6473186778584932, -0.6463005361529213, -0.6453061243246339, -0.6443345305615367, -0.6433848857614066, -0.6424563604286959, -0.6415481617241312, -0.6406595306852978, -0.6397897395636392, -0.6389380892778718, -0.6381039069110557, -0.6372865432804247, -0.6364853704926645, -0.6356997794700874, -0.6349291774185986, -0.634172985171972, -0.6334306343287608, -0.6327015641563776, -0.6319852181095484, -0.631281039908572, -0.6305884689154482, -0.629906934709652, -0.6292358504924778, -0.6285746049597947, -0.6279225521157059, -0.6272789982704126, -0.6266431851527159, -0.6260142675655516, -0.6253912833690265, -0.6247731122839468, -0.6241584182735096, -0.6235455671867385, -0.6229325060212432, -0.6223165812461957, -0.6216942565533827, 1, -0.6204088136164501, -0.6197283007259102, -0.6190027204665967, -0.6182045634468523, -0.6172837214853644]\n",
      "[-0.953627478405906, 1, -0.8393031575960777, -0.8250649981073366, -0.8119300130911142, -0.8003341332423588, -0.7900839447156613, -0.7809465616683156, -0.7727276465975592, -0.7652743381750042, -0.7584670509040734, -0.7522113942632132, -0.7464319026712474, -0.7410674291440955, -0.7360677931956161, -0.7313913276138919, -0.7270030628187669, -0.7228733655301767, -0.7189769043525303, -0.7152918535939534, -0.7117992729381513, -0.708482618598282, -0.7053273539549991, -0.7023206364083308, -0.6994510632084712, -0.6967084633924969, -0.6940837261590787, -0.6915686582633498, -0.6891558646912017, -0.6868386482110509, -0.6846109243106184, -0.6824671487756859, -0.6804022556552809, -0.6784116039762011, -0.6764909316389094, -0.67463631544706, -0.6728441362702142, -0.6711110485830432, -0.66943395371527, -0.6678099762884813, -0.6662364434105257, -0.6647108662054961, -0.663230923420997, -0.6617944467670895, -0.6603994078595861, -0.6590439064730162, -0.6577261599868507, -0.6564444939049281, -0.6551973332479974, -0.6539831947939092, -0.6528006800235744, -0.6516484686781041, -0.6505253129307675, -0.6494300320136972, -0.6483615073138935, -0.6473186778584932, -0.6463005361529213, -0.6453061243246339, -0.6443345305615367, -0.6433848857614066, -0.6424563604286959, -0.6415481617241312, -0.6406595306852978, -0.6397897395636392, -0.6389380892778718, -0.6381039069110557, -0.6372865432804247, -0.6364853704926645, -0.6356997794700874, -0.6349291774185986, -0.634172985171972, -0.6334306343287608, -0.6327015641563776, -0.6319852181095484, -0.631281039908572, -0.6305884689154482, -0.629906934709652, -0.6292358504924778, -0.6285746049597947, -0.6279225521157059, -0.6272789982704126, -0.6266431851527159, -0.6260142675655516, -0.6253912833690265, -0.6247731122839468, -0.6241584182735096, -0.6235455671867385, -0.6229325060212432, -0.6223165812461957, -0.6216942565533827, 1, -0.6204088136164501, -0.6197283007259102, -0.6190027204665967, -0.6182045634468523, -0.6172837214853644, -0.6161381068504852]\n",
      "[-0.953627478405906, 1, -0.8393031575960777, -0.8250649981073366, -0.8119300130911142, -0.8003341332423588, -0.7900839447156613, -0.7809465616683156, -0.7727276465975592, -0.7652743381750042, -0.7584670509040734, -0.7522113942632132, -0.7464319026712474, -0.7410674291440955, -0.7360677931956161, -0.7313913276138919, -0.7270030628187669, -0.7228733655301767, -0.7189769043525303, -0.7152918535939534, -0.7117992729381513, -0.708482618598282, -0.7053273539549991, -0.7023206364083308, -0.6994510632084712, -0.6967084633924969, -0.6940837261590787, -0.6915686582633498, -0.6891558646912017, -0.6868386482110509, -0.6846109243106184, -0.6824671487756859, -0.6804022556552809, -0.6784116039762011, -0.6764909316389094, -0.67463631544706, -0.6728441362702142, -0.6711110485830432, -0.66943395371527, -0.6678099762884813, -0.6662364434105257, -0.6647108662054961, -0.663230923420997, -0.6617944467670895, -0.6603994078595861, -0.6590439064730162, -0.6577261599868507, -0.6564444939049281, -0.6551973332479974, -0.6539831947939092, -0.6528006800235744, -0.6516484686781041, -0.6505253129307675, -0.6494300320136972, -0.6483615073138935, -0.6473186778584932, -0.6463005361529213, -0.6453061243246339, -0.6443345305615367, -0.6433848857614066, -0.6424563604286959, -0.6415481617241312, -0.6406595306852978, -0.6397897395636392, -0.6389380892778718, -0.6381039069110557, -0.6372865432804247, -0.6364853704926645, -0.6356997794700874, -0.6349291774185986, -0.634172985171972, -0.6334306343287608, -0.6327015641563776, -0.6319852181095484, -0.631281039908572, -0.6305884689154482, -0.629906934709652, -0.6292358504924778, -0.6285746049597947, -0.6279225521157059, -0.6272789982704126, -0.6266431851527159, -0.6260142675655516, -0.6253912833690265, -0.6247731122839468, -0.6241584182735096, -0.6235455671867385, -0.6229325060212432, -0.6223165812461957, -0.6216942565533827, 1, -0.6204088136164501, -0.6197283007259102, -0.6190027204665967, -0.6182045634468523, -0.6172837214853644, -0.6161381068504852, -0.6145227824072208]\n"
     ]
    },
    {
     "name": "stdout",
     "output_type": "stream",
     "text": [
      "ERROR, gamma = 1.98\n",
      "[-0.953627478405906, 1, -0.8393031575960777, -0.8250649981073366, -0.8119300130911142, -0.8003341332423588, -0.7900839447156613, -0.7809465616683156, -0.7727276465975592, -0.7652743381750042, -0.7584670509040734, -0.7522113942632132, -0.7464319026712474, -0.7410674291440955, -0.7360677931956161, -0.7313913276138919, -0.7270030628187669, -0.7228733655301767, -0.7189769043525303, -0.7152918535939534, -0.7117992729381513, -0.708482618598282, -0.7053273539549991, -0.7023206364083308, -0.6994510632084712, -0.6967084633924969, -0.6940837261590787, -0.6915686582633498, -0.6891558646912017, -0.6868386482110509, -0.6846109243106184, -0.6824671487756859, -0.6804022556552809, -0.6784116039762011, -0.6764909316389094, -0.67463631544706, -0.6728441362702142, -0.6711110485830432, -0.66943395371527, -0.6678099762884813, -0.6662364434105257, -0.6647108662054961, -0.663230923420997, -0.6617944467670895, -0.6603994078595861, -0.6590439064730162, -0.6577261599868507, -0.6564444939049281, -0.6551973332479974, -0.6539831947939092, -0.6528006800235744, -0.6516484686781041, -0.6505253129307675, -0.6494300320136972, -0.6483615073138935, -0.6473186778584932, -0.6463005361529213, -0.6453061243246339, -0.6443345305615367, -0.6433848857614066, -0.6424563604286959, -0.6415481617241312, -0.6406595306852978, -0.6397897395636392, -0.6389380892778718, -0.6381039069110557, -0.6372865432804247, -0.6364853704926645, -0.6356997794700874, -0.6349291774185986, -0.634172985171972, -0.6334306343287608, -0.6327015641563776, -0.6319852181095484, -0.631281039908572, -0.6305884689154482, -0.629906934709652, -0.6292358504924778, -0.6285746049597947, -0.6279225521157059, -0.6272789982704126, -0.6266431851527159, -0.6260142675655516, -0.6253912833690265, -0.6247731122839468, -0.6241584182735096, -0.6235455671867385, -0.6229325060212432, -0.6223165812461957, -0.6216942565533827, 1, -0.6204088136164501, -0.6197283007259102, -0.6190027204665967, -0.6182045634468523, -0.6172837214853644, -0.6161381068504852, -0.6145227824072208, 1, -0.6035146955164237]\n"
     ]
    },
    {
     "data": {
      "text/plain": [
       "Text(0, 0.5, 'delta')"
      ]
     },
     "execution_count": 33,
     "metadata": {},
     "output_type": "execute_result"
    }
   ],
   "source": [
    "gamma_list = []\n",
    "\n",
    "for i in range(100):\n",
    "    gamma_list.append(1. + 0.01*i)\n",
    "#gamma_list\n",
    "\n",
    "results = []\n",
    "\n",
    "for gv in gamma_list:\n",
    "    try:\n",
    "        def f_iterate(dv):\n",
    "            return shooter_value(dv, gv)\n",
    "        results.append(scipy.optimize.bisect(f_iterate, -1, -0.5))\n",
    "    except:\n",
    "        print(\"ERROR, gamma = \" + str(gv))\n",
    "        results.append(1) #added try, except to catch errors, and keep the rest of the program running!\n",
    "\n",
    "pylab.clf()\n",
    "pylab.plot(gamma_list, results)\n",
    "pylab.xlabel(\"gamma\")\n",
    "pylab.ylabel(\"delta\")\n",
    "pylab.savefig(\"Between_1_and_2\")\n",
    "#working well, now iterate over 10 values or so, store results in a list, then graph\n"
   ]
  },
  {
   "cell_type": "markdown",
   "metadata": {},
   "source": [
    "Plot graph with varying delta for gamma = 2.8:"
   ]
  },
  {
   "cell_type": "code",
   "execution_count": null,
   "metadata": {},
   "outputs": [],
   "source": [
    "gv = 2.8\n",
    "delta_range = []\n",
    "output = []\n",
    "\n",
    "for i in range(50):\n",
    "    delta_range.append(-1 + 0.01*i)\n",
    "    output.append(shooter_value(-1 + 0.01*i, gv))\n",
    "\n",
    "pylab.plot(delta_range, output)\n",
    "pylab.xlabel(\"Delta\")\n",
    "pylab.ylabel(\"Shooter value output (equals 0 at the root)\")"
   ]
  },
  {
   "cell_type": "markdown",
   "metadata": {},
   "source": [
    "Solving the above function for delta, for some gamma values just to see what happens: (for gamma = 2.1, the program fails)"
   ]
  },
  {
   "cell_type": "code",
   "execution_count": null,
   "metadata": {},
   "outputs": [],
   "source": [
    "gamma_list = [2.1]\n",
    "for gv in gamma_list:\n",
    "    def f_iterate(dv):\n",
    "        return shooter_value(dv, gv)\n",
    "    result = scipy.optimize.bisect(f_iterate, -1, -0.5)\n",
    "    print(result)\n",
    "#working well, now iterate over 10 values or so, store results in a list, then graph\n"
   ]
  },
  {
   "cell_type": "code",
   "execution_count": null,
   "metadata": {},
   "outputs": [],
   "source": [
    "%matplotlib notebook \n",
    "#7/5 case\n",
    "for dv in numpy.linspace(-0.6,-0.7,10):\n",
    "    temp = shoot_from_sonic_point(dv, 7./5.)\n",
    "    pylab.plot(temp[0], temp[1], label=r'$\\delta=$'+str(dv))\n",
    "pylab.plot(float(V_shock_front.subs(gamma,7./5.)),\n",
    "          float(C_shock_front.subs(gamma,7./5.)),'kx')\n",
    "pylab.plot(temp[0],1-temp[0],'k')\n",
    "pylab.xlabel('V')\n",
    "pylab.ylabel('C')\n",
    "pylab.legend() #good"
   ]
  },
  {
   "cell_type": "markdown",
   "metadata": {},
   "source": [
    "5/3 case: (works very well)"
   ]
  },
  {
   "cell_type": "code",
   "execution_count": null,
   "metadata": {},
   "outputs": [],
   "source": [
    "%matplotlib notebook\n",
    "for dv in numpy.linspace(-0.63,-0.64,10):\n",
    "    temp = shoot_from_sonic_point(dv, 5./3.)\n",
    "    pylab.plot(temp[0], temp[1], label=r'$\\delta=$'+str(dv))\n",
    "pylab.plot(float(V_shock_front.subs(gamma,5./3.)),\n",
    "          float(C_shock_front.subs(gamma,5./3.)),'kx')\n",
    "pylab.plot(temp[0],1-temp[0],'k')\n",
    "pylab.xlabel('V')\n",
    "pylab.ylabel('C')\n",
    "pylab.legend()\n",
    "print(\"aa\")\n",
    "print(float(C_shock_front.subs(gamma,5./3.)))"
   ]
  },
  {
   "cell_type": "markdown",
   "metadata": {},
   "source": [
    "Gamma = 1 case: (misses the X)"
   ]
  },
  {
   "cell_type": "code",
   "execution_count": null,
   "metadata": {},
   "outputs": [],
   "source": [
    "%matplotlib notebook \n",
    "#1 case is weird.\n",
    "for dv in numpy.linspace(-0.95,-1.05,10):\n",
    "    temp = shoot_from_sonic_point(dv, 1.)\n",
    "    pylab.plot(temp[0], temp[1], label=r'$\\delta=$'+str(dv))\n",
    "pylab.plot(float(V_shock_front.subs(gamma,1.)),\n",
    "          float(C_shock_front.subs(gamma,1.)),'kx')\n",
    "pylab.plot(temp[0],1-temp[0],'k')\n",
    "pylab.xlabel('V')\n",
    "pylab.ylabel('C')\n",
    "pylab.legend() #gamma -> 1 case is weird..."
   ]
  },
  {
   "cell_type": "markdown",
   "metadata": {},
   "source": [
    "Gamma = 1.1 case: (Value is slightly off)"
   ]
  },
  {
   "cell_type": "code",
   "execution_count": null,
   "metadata": {},
   "outputs": [],
   "source": [
    "%matplotlib notebook \n",
    "#1.1 case\n",
    "for dv in numpy.linspace(-0.75,-0.76,10):\n",
    "    temp = shoot_from_sonic_point(dv, 1.1)\n",
    "    pylab.plot(temp[0], temp[1], label=r'$\\delta=$'+str(dv))\n",
    "pylab.plot(float(V_shock_front.subs(gamma,1.1)),\n",
    "          float(C_shock_front.subs(gamma,1.1)),'kx')\n",
    "pylab.plot(temp[0],1-temp[0],'k')\n",
    "pylab.xlabel('V')\n",
    "pylab.ylabel('C')\n",
    "pylab.legend() #a bit off still? should give delta = -0.7574... according to Zeldovich, but it is between -0.757 and -0.758"
   ]
  },
  {
   "cell_type": "markdown",
   "metadata": {},
   "source": [
    "7/5 case: working very well:"
   ]
  },
  {
   "cell_type": "code",
   "execution_count": null,
   "metadata": {
    "scrolled": true
   },
   "outputs": [],
   "source": [
    "def phase_space_plot(dv, gv):\n",
    "    \n",
    "    v_list = numpy.linspace(-10,10,21)\n",
    "    c_list = numpy.linspace(-10,10,23)\n",
    "    V_list, C_list = numpy.meshgrid(v_list, c_list)\n",
    "    deriv = dCdV.subs({gamma:gv, delta:dv})\n",
    "    wrapper = sympy.lambdify([V_tilde,C_tilde], deriv)\n",
    "    slopes = wrapper(V_list, C_list)\n",
    "    SV_list = slopes/numpy.sqrt(slopes**2+1)\n",
    "    SC_list = 1.0/numpy.sqrt(slopes**2+1)\n",
    "    %matplotlib notebook\n",
    "    pylab.quiver(V_list, C_list, SV_list, SC_list)\n",
    "    \n",
    "    return None\n",
    "phase_space_plot(-0.62, 5./3.)"
   ]
  },
  {
   "cell_type": "code",
   "execution_count": null,
   "metadata": {},
   "outputs": [],
   "source": []
  }
 ],
 "metadata": {
  "kernelspec": {
   "display_name": "Python 3",
   "language": "python",
   "name": "python3"
  },
  "language_info": {
   "codemirror_mode": {
    "name": "ipython",
    "version": 3
   },
   "file_extension": ".py",
   "mimetype": "text/x-python",
   "name": "python",
   "nbconvert_exporter": "python",
   "pygments_lexer": "ipython3",
   "version": "3.7.4"
  }
 },
 "nbformat": 4,
 "nbformat_minor": 2
}
