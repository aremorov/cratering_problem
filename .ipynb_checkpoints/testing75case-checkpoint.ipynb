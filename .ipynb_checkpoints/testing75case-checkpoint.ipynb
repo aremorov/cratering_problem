{
 "cells": [
  {
   "cell_type": "markdown",
   "metadata": {
    "collapsed": true
   },
   "source": [
    "Importing libraries and setting up environment"
   ]
  },
  {
   "cell_type": "code",
   "execution_count": 4,
   "metadata": {},
   "outputs": [],
   "source": [
    "import sympy\n",
    "sympy.init_printing()\n",
    "import numpy\n",
    "import pylab\n",
    "import h5py"
   ]
  },
  {
   "cell_type": "markdown",
   "metadata": {},
   "source": [
    "# Governing Equations"
   ]
  },
  {
   "cell_type": "markdown",
   "metadata": {},
   "source": [
    "Mass conservation"
   ]
  },
  {
   "cell_type": "code",
   "execution_count": 5,
   "metadata": {},
   "outputs": [],
   "source": [
    "rho = sympy.Function('rho') # Density\n",
    "v = sympy.Function('v') # Velocity\n",
    "c = sympy.Function('c') # speed of sound\n",
    "P = sympy.Function('P') #pressure\n",
    "chi = sympy.Symbol('chi') # Dimensionless position\n",
    "rho_0 = sympy.Symbol('rho_0') # Dimensionless density\n",
    "gamma = sympy.Symbol(\"gamma\")\n",
    "#dimensionless stuff:\n",
    "#f = (5 - 4*chi)**(-1.5)\n",
    "#w = sympy.Function('w') #dimensionless velocity\n",
    "#q = sympy.Function('q') #dimensionless density\n",
    "t = sympy.Symbol('t') # Time\n",
    "X = sympy.Function('X')\n",
    "\n"
   ]
  },
  {
   "cell_type": "code",
   "execution_count": 10,
   "metadata": {},
   "outputs": [
    {
     "data": {
      "image/png": "[encoded data removed]",
      "text/latex": [
       "$$\\frac{5 \\rho_{0} \\left(\\frac{d}{d t} X{\\left (t \\right )}\\right)^{2}}{6 \\left(- 4 \\chi + 5\\right)^{\\frac{3}{2}}}$$"
      ],
      "text/plain": [
       "               2\n",
       "     ⎛d       ⎞ \n",
       "5⋅ρ₀⋅⎜──(X(t))⎟ \n",
       "     ⎝dt      ⎠ \n",
       "────────────────\n",
       "            3/2 \n",
       "6⋅(-4⋅χ + 5)    "
      ]
     },
     "metadata": {},
     "output_type": "display_data"
    },
    {
     "data": {
      "image/png": "[encoded data removed]",
      "text/latex": [
       "$$\\left(\\frac{5 \\chi}{3} - \\frac{5}{6}\\right) \\frac{d}{d t} X{\\left (t \\right )}$$"
      ],
      "text/plain": [
       "⎛5⋅χ   5⎞ d       \n",
       "⎜─── - ─⎟⋅──(X(t))\n",
       "⎝ 3    6⎠ dt      "
      ]
     },
     "metadata": {},
     "output_type": "display_data"
    },
    {
     "data": {
      "image/png": "[encoded data removed]",
      "text/latex": [
       "$$\\frac{6 \\rho_{0}}{\\left(- 4 \\chi + 5\\right)^{\\frac{5}{2}}}$$"
      ],
      "text/plain": [
       "     6⋅ρ₀    \n",
       "─────────────\n",
       "          5/2\n",
       "(-4⋅χ + 5)   "
      ]
     },
     "metadata": {},
     "output_type": "display_data"
    },
    {
     "name": "stdout",
     "output_type": "stream",
     "text": [
      "sound speed:\n"
     ]
    },
    {
     "data": {
      "image/png": "[encoded data removed]",
      "text/latex": [
       "$$\\frac{\\sqrt{7} \\sqrt{\\left(- 4 \\chi + 5\\right) \\left(\\frac{d}{d t} X{\\left (t \\right )}\\right)^{2}}}{6}$$"
      ],
      "text/plain": [
       "        ________________________\n",
       "       ╱                      2 \n",
       "      ╱             ⎛d       ⎞  \n",
       "√7⋅  ╱   (-4⋅χ + 5)⋅⎜──(X(t))⎟  \n",
       "   ╲╱               ⎝dt      ⎠  \n",
       "────────────────────────────────\n",
       "               6                "
      ]
     },
     "metadata": {},
     "output_type": "display_data"
    },
    {
     "name": "stdout",
     "output_type": "stream",
     "text": [
      "Almog's version of c:\n"
     ]
    },
    {
     "data": {
      "image/png": "[encoded data removed]",
      "text/latex": [
       "$$\\frac{\\sqrt{7} \\sqrt{\\left(- 4 \\chi + 5\\right) \\left(\\frac{d}{d t} X{\\left (t \\right )}\\right)^{2}}}{6 \\chi \\frac{d}{d t} X{\\left (t \\right )}}$$"
      ],
      "text/plain": [
       "        ________________________\n",
       "       ╱                      2 \n",
       "      ╱             ⎛d       ⎞  \n",
       "√7⋅  ╱   (-4⋅χ + 5)⋅⎜──(X(t))⎟  \n",
       "   ╲╱               ⎝dt      ⎠  \n",
       "────────────────────────────────\n",
       "              d                 \n",
       "          6⋅χ⋅──(X(t))          \n",
       "              dt                "
      ]
     },
     "metadata": {},
     "output_type": "display_data"
    },
    {
     "name": "stdout",
     "output_type": "stream",
     "text": [
      "Almog's version of v:\n"
     ]
    },
    {
     "data": {
      "image/png": "[encoded data removed]",
      "text/latex": [
       "$$\\frac{\\frac{5 \\chi}{3} - \\frac{5}{6}}{\\chi}$$"
      ],
      "text/plain": [
       "5⋅χ   5\n",
       "─── - ─\n",
       " 3    6\n",
       "───────\n",
       "   χ   "
      ]
     },
     "metadata": {},
     "output_type": "display_data"
    },
    {
     "name": "stdout",
     "output_type": "stream",
     "text": [
      "Slope of curve:\n"
     ]
    },
    {
     "data": {
      "image/png": "[encoded data removed]",
      "text/latex": [
       "$$- \\frac{0.453557367611073 \\sqrt{7} \\sqrt{\\left(\\frac{d}{d t} X{\\left (t \\right )}\\right)^{2}}}{\\frac{d}{d t} X{\\left (t \\right )}}$$"
      ],
      "text/plain": [
       "                           _____________ \n",
       "                          ╱           2  \n",
       "                         ╱  ⎛d       ⎞   \n",
       "-0.453557367611073⋅√7⋅  ╱   ⎜──(X(t))⎟   \n",
       "                      ╲╱    ⎝dt      ⎠   \n",
       "─────────────────────────────────────────\n",
       "                 d                       \n",
       "                 ──(X(t))                \n",
       "                 dt                      "
      ]
     },
     "metadata": {},
     "output_type": "display_data"
    },
    {
     "name": "stdout",
     "output_type": "stream",
     "text": [
      "V_tilde at the sonic point, correct.\n"
     ]
    },
    {
     "data": {
      "image/png": "[encoded data removed]",
      "text/latex": [
       "$$3.33333333333333$$"
      ],
      "text/plain": [
       "3.33333333333333"
      ]
     },
     "metadata": {},
     "output_type": "display_data"
    },
    {
     "name": "stdout",
     "output_type": "stream",
     "text": [
      "C_tilde at the sonic point, correct.\n"
     ]
    },
    {
     "data": {
      "image/png": "[encoded data removed]",
      "text/latex": [
       "$$- \\frac{0.881917103688197 \\sqrt{7} \\sqrt{\\left(\\frac{d}{d t} X{\\left (t \\right )}\\right)^{2}}}{\\frac{d}{d t} X{\\left (t \\right )}}$$"
      ],
      "text/plain": [
       "                           _____________ \n",
       "                          ╱           2  \n",
       "                         ╱  ⎛d       ⎞   \n",
       "-0.881917103688197⋅√7⋅  ╱   ⎜──(X(t))⎟   \n",
       "                      ╲╱    ⎝dt      ⎠   \n",
       "─────────────────────────────────────────\n",
       "                 d                       \n",
       "                 ──(X(t))                \n",
       "                 dt                      "
      ]
     },
     "metadata": {},
     "output_type": "display_data"
    }
   ],
   "source": [
    "P = rho_0 * (X(t).diff(t))**2 * sympy.Rational(5, 6) * (5 - 4*chi)**sympy.Rational(-3, 2)\n",
    "u = sympy.Rational(5, 6) * (2*chi - 1) * X(t).diff(t)\n",
    "rho = rho_0 * 6 * (5-4*chi)**sympy.Rational(-5, 2) #inputting equations obtained from Zeldovich, equations 12.44, 12.45\n",
    "display(P)\n",
    "display(u)\n",
    "display(rho) #displaying equation\n",
    "\n",
    "c1 = sympy.sqrt(gamma*P/rho).subs(gamma, sympy.Rational(7,5)) #simpler sound speed \n",
    "print(\"sound speed:\")\n",
    "display(c1)\n",
    "\n",
    "\n",
    "c_almog = c1/X(t).diff(t)/chi\n",
    "print(\"Almog's version of c:\")\n",
    "display(c_almog)\n",
    "\n",
    "v_almog = u/X(t).diff(t)/chi\n",
    "print(\"Almog's version of v:\")\n",
    "display(v_almog)\n",
    "\n",
    "\n",
    "dcdv = c_almog.diff(chi)/v_almog.diff(chi)\n",
    "\n",
    "dcdv = dcdv.subs(chi, -1/2)\n",
    "\n",
    "print(\"Slope of curve:\")\n",
    "display(dcdv.simplify())\n",
    "\n",
    "temp = v_almog.subs(chi, -1/2)\n",
    "print(\"V_tilde at the sonic point, correct.\")\n",
    "display(temp)\n",
    "\n",
    "temp = c_almog.subs(chi, -1/2)\n",
    "print(\"C_tilde at the sonic point, correct.\")\n",
    "display(temp)"
   ]
  },
  {
   "cell_type": "code",
   "execution_count": null,
   "metadata": {},
   "outputs": [],
   "source": []
  },
  {
   "cell_type": "code",
   "execution_count": null,
   "metadata": {},
   "outputs": [],
   "source": []
  }
 ],
 "metadata": {
  "kernelspec": {
   "display_name": "Python 3",
   "language": "python",
   "name": "python3"
  },
  "language_info": {
   "codemirror_mode": {
    "name": "ipython",
    "version": 3
   },
   "file_extension": ".py",
   "mimetype": "text/x-python",
   "name": "python",
   "nbconvert_exporter": "python",
   "pygments_lexer": "ipython3",
   "version": "3.7.0"
  }
 },
 "nbformat": 4,
 "nbformat_minor": 2
}
